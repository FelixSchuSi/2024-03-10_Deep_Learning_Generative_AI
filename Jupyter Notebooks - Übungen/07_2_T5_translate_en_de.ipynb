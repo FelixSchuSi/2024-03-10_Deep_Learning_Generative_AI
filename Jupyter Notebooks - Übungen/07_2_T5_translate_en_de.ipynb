{
  "cells": [
    {
      "cell_type": "markdown",
      "metadata": {
        "id": "HHmdFPBX-JU3"
      },
      "source": [
        "# En-DE Translation with pretrained T5 base Sequence-to-Sequence Model"
      ]
    },
    {
      "cell_type": "markdown",
      "metadata": {
        "id": "bIq_vwnZ-JU4"
      },
      "source": [
        "https://github.com/christianversloot/machine-learning-articles/blob/main/easy-machine-translation-with-machine-learning-and-huggingface-transformers.md"
      ]
    },
    {
      "cell_type": "code",
      "execution_count": null,
      "metadata": {
        "id": "OIi5Xvn0-JU4"
      },
      "outputs": [],
      "source": [
        "from transformers import pipeline\n",
        "\n",
        "# Init translator\n",
        "translator = pipeline(\"translation_en_to_de\")"
      ]
    },
    {
      "cell_type": "markdown",
      "metadata": {
        "id": "hzI9D09D-JU5"
      },
      "source": [
        "As model t5-base and revision 686f1db (https://huggingface.co/t5-base) is used.\n",
        "\n",
        "The model has 223 million parameters. [https://github.com/google-research/text-to-text-transfer-transformer#released-model-checkpoints](https://github.com/google-research/text-to-text-transfer-transformer#released-model-checkpoints)\n",
        "\n",
        "Every model requires a specific tokenizer.\n",
        "\n",
        "The model is pre-trained on the [Colossal Clean Crawled Corpus](https://www.tensorflow.org/datasets/catalog/c4) (C4), which was developed and released in the context of the same research paper as T5.\n",
        "\n",
        "The model card is [here](https://huggingface.co/google-t5/t5-base) and the paper by [Raffel et al. 2020](https://jmlr.org/papers/volume21/20-074/20-074.pdf)."
      ]
    },
    {
      "cell_type": "markdown",
      "source": [
        "## Tokenizer"
      ],
      "metadata": {
        "id": "Yt-RPAnJKLHf"
      }
    },
    {
      "cell_type": "code",
      "execution_count": null,
      "metadata": {
        "id": "t_2Lf95h-JU5"
      },
      "outputs": [],
      "source": [
        "text = \"Hello my comrades! How are you doing today?\"\n",
        "toks=translator.tokenizer(text)\n",
        "print(\"toks=\",toks)\n",
        "for id in toks['input_ids']:\n",
        "  print(id,\"\\t\",translator.tokenizer.decode(id))"
      ]
    },
    {
      "cell_type": "code",
      "source": [
        "translator.tokenizer.vocab"
      ],
      "metadata": {
        "id": "9Z8a4Xnc_obU"
      },
      "execution_count": null,
      "outputs": []
    },
    {
      "cell_type": "code",
      "execution_count": null,
      "metadata": {
        "id": "6Ev009JT-JU6"
      },
      "outputs": [],
      "source": [
        "len(translator.tokenizer.vocab.values())"
      ]
    },
    {
      "cell_type": "code",
      "execution_count": null,
      "metadata": {
        "id": "Rio8JukP-JU6"
      },
      "outputs": [],
      "source": [
        "# Translate text\n",
        "#text = \"Hello my friends! How are you doing today?\"\n",
        "translation = translator(text)\n",
        "print(translation)"
      ]
    },
    {
      "cell_type": "code",
      "source": [
        "text=\"\"\"\n",
        "Several European countries hit some of their sustainable energy targets for 2030\n",
        "a decade early, a study has found, but big gaps remain across the board.\n",
        "\n",
        "All EU member states made progress in the 2010s toward reaching the UN’s seventh\n",
        "sustainable development goal, which calls for access to “affordable, reliable,\n",
        "sustainable and modern energy for all” by 2030. For some indicators, several\n",
        "countries had already reached the targets by 2021, the study by Polish economists\n",
        "published on Wednesday found.\n",
        "\n",
        "The ranking showed the country closest to the overall goal was Sweden, followed\n",
        "by Denmark, Estonia and Austria. Malta improved the most, with big gains also\n",
        "found in Cyprus, Latvia and Belgium – though these countries all had a long way\n",
        "to go. Bulgaria was furthest from the goal.\n",
        "\"\"\"\n",
        "\"\"\"\n",
        "The study reveals “systematic progress” towards reaching the goal, the researchers\n",
        "wrote, “with differences between individual EU countries clearly decreasing”.\n",
        "\n",
        "The economists combined seven metrics to get a single measure of countries’\n",
        "progress toward the goal. The European Commission has set target values for three\n",
        "of them, while for the rest, the researchers took the level reached by the top 10% of EU countries in 2015 as a proxy.\n",
        "\n",
        "Several countries had already achieved their targets for 2030 in at least one\n",
        "of the indicators by 2021, the research found.\n",
        "\n",
        "Spain, Malta and Portugal, for instance, hit the target for the average amount\n",
        "of energy a person consumes in a household. Denmark, Ireland and Luxembourg hit\n",
        "the target for energy productivity, which compares the size of an economy with\n",
        "the energy it consumes.\n",
        "\"\"\"\n",
        "translation = translator(text)\n",
        "print(translation)"
      ],
      "metadata": {
        "id": "rOoVJcSkKrev"
      },
      "execution_count": null,
      "outputs": []
    },
    {
      "cell_type": "markdown",
      "source": [
        "## T5 Model\n",
        "\n",
        "* 32128 tokens\n",
        "* max length of input 300,\n",
        "* 12 encoder and decoder layers\n",
        "* 12 attention heads\n",
        "* embeddings of length 768\n",
        "* regularization with Dropout and LayerNorm\n",
        "* 4 beams for generating translations"
      ],
      "metadata": {
        "id": "GK9Xy5ScD53r"
      }
    },
    {
      "cell_type": "code",
      "source": [
        "translator.model.config"
      ],
      "metadata": {
        "id": "TqsTdbaZHdFH"
      },
      "execution_count": null,
      "outputs": []
    },
    {
      "cell_type": "code",
      "source": [
        "translator.model"
      ],
      "metadata": {
        "id": "An5rUvwQDptn"
      },
      "execution_count": null,
      "outputs": []
    },
    {
      "cell_type": "markdown",
      "source": [],
      "metadata": {
        "id": "g3Qo4fRGMaTQ"
      }
    },
    {
      "cell_type": "markdown",
      "metadata": {
        "id": "dY_jJEoVMDf5"
      },
      "source": [
        "### Translation to French\n",
        "Loead a new model"
      ]
    },
    {
      "cell_type": "code",
      "source": [
        "from transformers import M2M100ForConditionalGeneration, M2M100Tokenizer\n",
        "model = M2M100ForConditionalGeneration.from_pretrained(\"facebook/m2m100_418M\")\n",
        "\n",
        "tokenizer = M2M100Tokenizer.from_pretrained(\"facebook/m2m100_418M\")"
      ],
      "metadata": {
        "id": "HB0RtVC0NzI3"
      },
      "execution_count": null,
      "outputs": []
    },
    {
      "cell_type": "code",
      "source": [
        "# translate German\n",
        "\n",
        "tokenizer.src_lang = \"de\"\n",
        "de_text = \"Das Leben ist wie eine Tafel Schokolade.\"\n",
        "encoded_de = tokenizer(de_text, return_tensors=\"pt\")\n",
        "encoded_de"
      ],
      "metadata": {
        "id": "iklI_5IVN5IB"
      },
      "execution_count": null,
      "outputs": []
    },
    {
      "cell_type": "code",
      "execution_count": null,
      "metadata": {
        "id": "-mIJ3ieDMDf5"
      },
      "outputs": [],
      "source": [
        "generated_tokens = model.generate(**encoded_de, forced_bos_token_id=tokenizer.get_lang_id(\"zh\"))  # 'hi', 'zh'\n",
        "\n",
        "zh_text=tokenizer.batch_decode(generated_tokens, skip_special_tokens=True)\n",
        "zh_text"
      ]
    },
    {
      "cell_type": "markdown",
      "metadata": {
        "id": "hkeW6U4ZMDf6"
      },
      "source": [
        "The vocabulary is mixed from En and Fr."
      ]
    },
    {
      "cell_type": "code",
      "execution_count": null,
      "metadata": {
        "id": "I2A6AjGJMDf6"
      },
      "outputs": [],
      "source": [
        "tokenizer.src_lang = \"zh\"\n",
        "de_text = \"Das Leben ist wie eine Tafel Schokolade.\"\n",
        "encoded_zh = tokenizer(zh_text, return_tensors=\"pt\")\n",
        "encoded_zh"
      ]
    },
    {
      "cell_type": "code",
      "execution_count": null,
      "metadata": {
        "id": "ffZYrAz1MDf6"
      },
      "outputs": [],
      "source": [
        "generated_tokens_de = model.generate(**encoded_zh, forced_bos_token_id=tokenizer.get_lang_id(\"de\"))  # 'hi', 'zh'\n",
        "\n",
        "de_text1=tokenizer.batch_decode(generated_tokens_de, skip_special_tokens=True)\n",
        "de_text1"
      ]
    },
    {
      "cell_type": "code",
      "source": [
        "model.config"
      ],
      "metadata": {
        "id": "VVDvP5mOtYhU"
      },
      "execution_count": null,
      "outputs": []
    }
  ],
  "metadata": {
    "kernelspec": {
      "display_name": "Python 3",
      "name": "python3"
    },
    "language_info": {
      "codemirror_mode": {
        "name": "ipython",
        "version": 3
      },
      "file_extension": ".py",
      "mimetype": "text/x-python",
      "name": "python",
      "nbconvert_exporter": "python",
      "pygments_lexer": "ipython3",
      "version": "3.6.9"
    },
    "toc": {
      "base_numbering": 1,
      "nav_menu": {},
      "number_sections": true,
      "sideBar": true,
      "skip_h1_title": true,
      "title_cell": "Table of Contents",
      "title_sidebar": "Contents",
      "toc_cell": true,
      "toc_position": {},
      "toc_section_display": true,
      "toc_window_display": false
    },
    "varInspector": {
      "cols": {
        "lenName": 16,
        "lenType": 16,
        "lenVar": 40
      },
      "kernels_config": {
        "python": {
          "delete_cmd_postfix": "",
          "delete_cmd_prefix": "del ",
          "library": "var_list.py",
          "varRefreshCmd": "print(var_dic_list())"
        },
        "r": {
          "delete_cmd_postfix": ") ",
          "delete_cmd_prefix": "rm(",
          "library": "var_list.r",
          "varRefreshCmd": "cat(var_dic_list()) "
        }
      },
      "types_to_exclude": [
        "module",
        "function",
        "builtin_function_or_method",
        "instance",
        "_Feature"
      ],
      "window_display": false
    },
    "colab": {
      "provenance": [],
      "machine_shape": "hm",
      "gpuType": "T4"
    },
    "accelerator": "GPU"
  },
  "nbformat": 4,
  "nbformat_minor": 0
}