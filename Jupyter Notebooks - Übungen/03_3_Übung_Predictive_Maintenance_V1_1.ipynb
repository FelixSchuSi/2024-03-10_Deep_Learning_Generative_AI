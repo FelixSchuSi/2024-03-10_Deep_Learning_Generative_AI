{
  "cells": [
    {
      "cell_type": "markdown",
      "id": "8fbff774",
      "metadata": {
        "id": "8fbff774"
      },
      "source": [
        "## Übung Predictive Maintenance - Anwendungsfall Kugellager"
      ]
    },
    {
      "cell_type": "markdown",
      "id": "0b4535cf",
      "metadata": {
        "id": "0b4535cf"
      },
      "source": [
        "### Einleitung"
      ]
    },
    {
      "cell_type": "markdown",
      "id": "ed5753ed",
      "metadata": {
        "id": "ed5753ed"
      },
      "source": [
        "Eine Einführung in den behandelten Anwendungsfall und die verwendeten Daten wird im Kurselement \"Anwendungsfall Kugellager\" gegeben. Sie können gerne noch einmal zu diesem Kurselement zurückkehren bevor Sie mit der praktischen Übung beginnen.   "
      ]
    },
    {
      "cell_type": "markdown",
      "id": "8bda29bc",
      "metadata": {
        "id": "8bda29bc"
      },
      "source": [
        "### Schritt 1: Herunterladen der Daten"
      ]
    },
    {
      "cell_type": "markdown",
      "id": "6ed3592d",
      "metadata": {
        "id": "6ed3592d"
      },
      "source": [
        "#### Aufgabe 1.1\n",
        "Als erstes muss der für die Übung verwendete Datensatz heruntergeladen werden.\n",
        "Gehen Sie dazu auf das <a href=\"https://data.phmsociety.org/nasa/\">Prognostics Data Repository</a> der PHM Society. Hier findet sich eine Sammlung von Datensätzen für Predictive Maintenance Anwendungen. Scrollen Sie nach unten bis zum Datensatz \"4. Bearing\" und klicken Sie auf den Link in der Zeile \"Download\". Speichern Sie die heruntergeladene zip-Datei mit dem Namen IMS in den Ordner DATA.\n",
        "\n",
        "Hinweis: Der Download des Datensatzes kann ein paar Minuten dauern."
      ]
    },
    {
      "cell_type": "code",
      "source": [
        "!wget -cq https://phm-datasets.s3.amazonaws.com/NASA/4.+Bearings.zip"
      ],
      "metadata": {
        "id": "ZgnnmSqkBIup"
      },
      "id": "ZgnnmSqkBIup",
      "execution_count": 2,
      "outputs": []
    },
    {
      "cell_type": "code",
      "source": [
        "!ls -l"
      ],
      "metadata": {
        "colab": {
          "base_uri": "https://localhost:8080/"
        },
        "id": "--wmWOJMDAIF",
        "outputId": "59129e89-1456-4c11-f96e-66f492202fb4"
      },
      "id": "--wmWOJMDAIF",
      "execution_count": 5,
      "outputs": [
        {
          "output_type": "stream",
          "name": "stdout",
          "text": [
            "total 1050400\n",
            "-rw-r--r-- 1 root root 1075597174 Sep 18  2022 4.+Bearings.zip\n",
            "drwxr-xr-x 3 root root       4096 Feb 15 13:57 bearings\n",
            "drwxr-xr-x 1 root root       4096 Feb 13 14:23 sample_data\n"
          ]
        }
      ]
    },
    {
      "cell_type": "code",
      "source": [
        "!unzip 4.+Bearings.zip -d ."
      ],
      "metadata": {
        "colab": {
          "base_uri": "https://localhost:8080/"
        },
        "id": "iR_qar_-DceE",
        "outputId": "febb25b6-a0d9-4508-b25d-613778ed9c4a"
      },
      "id": "iR_qar_-DceE",
      "execution_count": 9,
      "outputs": [
        {
          "output_type": "stream",
          "name": "stdout",
          "text": [
            "Archive:  4.+Bearings.zip\n",
            "   creating: ./4. Bearings/\n",
            "  inflating: ./4. Bearings/IMS.7z    \n"
          ]
        }
      ]
    },
    {
      "cell_type": "code",
      "source": [
        "!ls -l '4. Bearings'"
      ],
      "metadata": {
        "colab": {
          "base_uri": "https://localhost:8080/"
        },
        "id": "2ChLAhFLDsPn",
        "outputId": "ed01bc46-78f5-4793-90c0-a7e5cb64cd64"
      },
      "id": "2ChLAhFLDsPn",
      "execution_count": 14,
      "outputs": [
        {
          "output_type": "stream",
          "name": "stdout",
          "text": [
            "total 1050124\n",
            "-rw-r--r-- 1 root root 1075320408 Jul 14  2022 IMS.7z\n"
          ]
        }
      ]
    },
    {
      "cell_type": "code",
      "source": [
        "!ls '4. Bearings'\n",
        "!ls -l"
      ],
      "metadata": {
        "colab": {
          "base_uri": "https://localhost:8080/"
        },
        "id": "ym4Nt7eRFXl4",
        "outputId": "2d6632d0-6305-4f4a-b02a-e7de01796648"
      },
      "id": "ym4Nt7eRFXl4",
      "execution_count": 16,
      "outputs": [
        {
          "output_type": "stream",
          "name": "stdout",
          "text": [
            "IMS.7z\n",
            "total 1050400\n",
            "drwxr-xr-x 2 root root       4096 Sep 17  2022 '4. Bearings'\n",
            "-rw-r--r-- 1 root root 1075597174 Sep 18  2022  4.+Bearings.zip\n",
            "drwxr-xr-x 1 root root       4096 Feb 13 14:23  sample_data\n"
          ]
        }
      ]
    },
    {
      "cell_type": "code",
      "source": [
        "!7z e '4. Bearings/IMS.7z'"
      ],
      "metadata": {
        "colab": {
          "base_uri": "https://localhost:8080/"
        },
        "id": "vMkgjiS5FJnZ",
        "outputId": "d2feaaab-48e5-42a1-b1d4-c14a42b42f00"
      },
      "id": "vMkgjiS5FJnZ",
      "execution_count": 17,
      "outputs": [
        {
          "output_type": "stream",
          "name": "stdout",
          "text": [
            "\n",
            "7-Zip [64] 16.02 : Copyright (c) 1999-2016 Igor Pavlov : 2016-05-21\n",
            "p7zip Version 16.02 (locale=en_US.UTF-8,Utf16=on,HugeFiles=on,64 bits,2 CPUs Intel(R) Xeon(R) CPU @ 2.20GHz (406F0),ASM,AES-NI)\n",
            "\n",
            "Scanning the drive for archives:\n",
            "  0M Scan\b\b\b\b\b\b\b\b\b         \b\b\b\b\b\b\b\b\b1 file, 1075320408 bytes (1026 MiB)\n",
            "\n",
            "Extracting archive: 4. Bearings/IMS.7z\n",
            "--\n",
            "Path = 4. Bearings/IMS.7z\n",
            "Type = 7z\n",
            "Physical Size = 1075320408\n",
            "Headers Size = 279\n",
            "Method = LZMA:24\n",
            "Solid = +\n",
            "Blocks = 1\n",
            "\n",
            "  0%\b\b\b\b    \b\b\b\b  0% - 1st_test.rar\b\b\b\b\b\b\b\b\b\b\b\b\b\b\b\b\b\b\b                   \b\b\b\b\b\b\b\b\b\b\b\b\b\b\b\b\b\b\b  1% - 1st_test.rar\b\b\b\b\b\b\b\b\b\b\b\b\b\b\b\b\b\b\b                   \b\b\b\b\b\b\b\b\b\b\b\b\b\b\b\b\b\b\b  2% - 1st_test.rar\b\b\b\b\b\b\b\b\b\b\b\b\b\b\b\b\b\b\b                   \b\b\b\b\b\b\b\b\b\b\b\b\b\b\b\b\b\b\b  3% - 1st_test.rar\b\b\b\b\b\b\b\b\b\b\b\b\b\b\b\b\b\b\b                   \b\b\b\b\b\b\b\b\b\b\b\b\b\b\b\b\b\b\b  4% - 1st_test.rar\b\b\b\b\b\b\b\b\b\b\b\b\b\b\b\b\b\b\b                   \b\b\b\b\b\b\b\b\b\b\b\b\b\b\b\b\b\b\b  5% - 1st_test.rar\b\b\b\b\b\b\b\b\b\b\b\b\b\b\b\b\b\b\b                   \b\b\b\b\b\b\b\b\b\b\b\b\b\b\b\b\b\b\b  6% - 1st_test.rar\b\b\b\b\b\b\b\b\b\b\b\b\b\b\b\b\b\b\b                   \b\b\b\b\b\b\b\b\b\b\b\b\b\b\b\b\b\b\b  7% - 1st_test.rar\b\b\b\b\b\b\b\b\b\b\b\b\b\b\b\b\b\b\b                   \b\b\b\b\b\b\b\b\b\b\b\b\b\b\b\b\b\b\b  8% - 1st_test.rar\b\b\b\b\b\b\b\b\b\b\b\b\b\b\b\b\b\b\b                   \b\b\b\b\b\b\b\b\b\b\b\b\b\b\b\b\b\b\b  9% - 1st_test.rar\b\b\b\b\b\b\b\b\b\b\b\b\b\b\b\b\b\b\b                   \b\b\b\b\b\b\b\b\b\b\b\b\b\b\b\b\b\b\b 10% - 1st_test.rar\b\b\b\b\b\b\b\b\b\b\b\b\b\b\b\b\b\b\b                   \b\b\b\b\b\b\b\b\b\b\b\b\b\b\b\b\b\b\b 11% - 1st_test.rar\b\b\b\b\b\b\b\b\b\b\b\b\b\b\b\b\b\b\b                   \b\b\b\b\b\b\b\b\b\b\b\b\b\b\b\b\b\b\b 12% - 1st_test.rar\b\b\b\b\b\b\b\b\b\b\b\b\b\b\b\b\b\b\b                   \b\b\b\b\b\b\b\b\b\b\b\b\b\b\b\b\b\b\b 13% - 1st_test.rar\b\b\b\b\b\b\b\b\b\b\b\b\b\b\b\b\b\b\b                   \b\b\b\b\b\b\b\b\b\b\b\b\b\b\b\b\b\b\b 14% - 1st_test.rar\b\b\b\b\b\b\b\b\b\b\b\b\b\b\b\b\b\b\b                   \b\b\b\b\b\b\b\b\b\b\b\b\b\b\b\b\b\b\b 15% - 1st_test.rar\b\b\b\b\b\b\b\b\b\b\b\b\b\b\b\b\b\b\b                   \b\b\b\b\b\b\b\b\b\b\b\b\b\b\b\b\b\b\b 16% - 1st_test.rar\b\b\b\b\b\b\b\b\b\b\b\b\b\b\b\b\b\b\b                   \b\b\b\b\b\b\b\b\b\b\b\b\b\b\b\b\b\b\b 17% - 1st_test.rar\b\b\b\b\b\b\b\b\b\b\b\b\b\b\b\b\b\b\b                   \b\b\b\b\b\b\b\b\b\b\b\b\b\b\b\b\b\b\b 18% - 1st_test.rar\b\b\b\b\b\b\b\b\b\b\b\b\b\b\b\b\b\b\b                   \b\b\b\b\b\b\b\b\b\b\b\b\b\b\b\b\b\b\b 19% - 1st_test.rar\b\b\b\b\b\b\b\b\b\b\b\b\b\b\b\b\b\b\b                   \b\b\b\b\b\b\b\b\b\b\b\b\b\b\b\b\b\b\b 20% - 1st_test.rar\b\b\b\b\b\b\b\b\b\b\b\b\b\b\b\b\b\b\b                   \b\b\b\b\b\b\b\b\b\b\b\b\b\b\b\b\b\b\b 21% - 1st_test.rar\b\b\b\b\b\b\b\b\b\b\b\b\b\b\b\b\b\b\b                   \b\b\b\b\b\b\b\b\b\b\b\b\b\b\b\b\b\b\b 22% - 1st_test.rar\b\b\b\b\b\b\b\b\b\b\b\b\b\b\b\b\b\b\b                   \b\b\b\b\b\b\b\b\b\b\b\b\b\b\b\b\b\b\b 23% - 1st_test.rar\b\b\b\b\b\b\b\b\b\b\b\b\b\b\b\b\b\b\b                   \b\b\b\b\b\b\b\b\b\b\b\b\b\b\b\b\b\b\b 24% - 1st_test.rar\b\b\b\b\b\b\b\b\b\b\b\b\b\b\b\b\b\b\b                   \b\b\b\b\b\b\b\b\b\b\b\b\b\b\b\b\b\b\b 25% - 1st_test.rar\b\b\b\b\b\b\b\b\b\b\b\b\b\b\b\b\b\b\b                   \b\b\b\b\b\b\b\b\b\b\b\b\b\b\b\b\b\b\b 26% - 1st_test.rar\b\b\b\b\b\b\b\b\b\b\b\b\b\b\b\b\b\b\b                   \b\b\b\b\b\b\b\b\b\b\b\b\b\b\b\b\b\b\b 27% - 1st_test.rar\b\b\b\b\b\b\b\b\b\b\b\b\b\b\b\b\b\b\b                   \b\b\b\b\b\b\b\b\b\b\b\b\b\b\b\b\b\b\b 28% - 1st_test.rar\b\b\b\b\b\b\b\b\b\b\b\b\b\b\b\b\b\b\b                   \b\b\b\b\b\b\b\b\b\b\b\b\b\b\b\b\b\b\b 29% - 1st_test.rar\b\b\b\b\b\b\b\b\b\b\b\b\b\b\b\b\b\b\b                   \b\b\b\b\b\b\b\b\b\b\b\b\b\b\b\b\b\b\b 30% - 1st_test.rar\b\b\b\b\b\b\b\b\b\b\b\b\b\b\b\b\b\b\b                   \b\b\b\b\b\b\b\b\b\b\b\b\b\b\b\b\b\b\b 31% - 1st_test.rar\b\b\b\b\b\b\b\b\b\b\b\b\b\b\b\b\b\b\b                   \b\b\b\b\b\b\b\b\b\b\b\b\b\b\b\b\b\b\b 32% - 1st_test.rar\b\b\b\b\b\b\b\b\b\b\b\b\b\b\b\b\b\b\b                   \b\b\b\b\b\b\b\b\b\b\b\b\b\b\b\b\b\b\b 33% - 1st_test.rar\b\b\b\b\b\b\b\b\b\b\b\b\b\b\b\b\b\b\b                   \b\b\b\b\b\b\b\b\b\b\b\b\b\b\b\b\b\b\b 34% - 1st_test.rar\b\b\b\b\b\b\b\b\b\b\b\b\b\b\b\b\b\b\b                   \b\b\b\b\b\b\b\b\b\b\b\b\b\b\b\b\b\b\b 34% 1 - 2nd_test.rar\b\b\b\b\b\b\b\b\b\b\b\b\b\b\b\b\b\b\b\b\b                     \b\b\b\b\b\b\b\b\b\b\b\b\b\b\b\b\b\b\b\b\b 35% 1 - 2nd_test.rar\b\b\b\b\b\b\b\b\b\b\b\b\b\b\b\b\b\b\b\b\b                     \b\b\b\b\b\b\b\b\b\b\b\b\b\b\b\b\b\b\b\b\b 36% 1 - 2nd_test.rar\b\b\b\b\b\b\b\b\b\b\b\b\b\b\b\b\b\b\b\b\b                     \b\b\b\b\b\b\b\b\b\b\b\b\b\b\b\b\b\b\b\b\b 37% 1 - 2nd_test.rar\b\b\b\b\b\b\b\b\b\b\b\b\b\b\b\b\b\b\b\b\b                     \b\b\b\b\b\b\b\b\b\b\b\b\b\b\b\b\b\b\b\b\b 38% 1 - 2nd_test.rar\b\b\b\b\b\b\b\b\b\b\b\b\b\b\b\b\b\b\b\b\b                     \b\b\b\b\b\b\b\b\b\b\b\b\b\b\b\b\b\b\b\b\b 39% 1 - 2nd_test.rar\b\b\b\b\b\b\b\b\b\b\b\b\b\b\b\b\b\b\b\b\b                     \b\b\b\b\b\b\b\b\b\b\b\b\b\b\b\b\b\b\b\b\b 40% 1 - 2nd_test.rar\b\b\b\b\b\b\b\b\b\b\b\b\b\b\b\b\b\b\b\b\b                     \b\b\b\b\b\b\b\b\b\b\b\b\b\b\b\b\b\b\b\b\b 41% 1 - 2nd_test.rar\b\b\b\b\b\b\b\b\b\b\b\b\b\b\b\b\b\b\b\b\b                     \b\b\b\b\b\b\b\b\b\b\b\b\b\b\b\b\b\b\b\b\b 42% 1 - 2nd_test.rar\b\b\b\b\b\b\b\b\b\b\b\b\b\b\b\b\b\b\b\b\b                     \b\b\b\b\b\b\b\b\b\b\b\b\b\b\b\b\b\b\b\b\b 42% 2 - 3rd_test.rar\b\b\b\b\b\b\b\b\b\b\b\b\b\b\b\b\b\b\b\b\b                     \b\b\b\b\b\b\b\b\b\b\b\b\b\b\b\b\b\b\b\b\b 43% 2 - 3rd_test.rar\b\b\b\b\b\b\b\b\b\b\b\b\b\b\b\b\b\b\b\b\b                     \b\b\b\b\b\b\b\b\b\b\b\b\b\b\b\b\b\b\b\b\b 44% 2 - 3rd_test.rar\b\b\b\b\b\b\b\b\b\b\b\b\b\b\b\b\b\b\b\b\b                     \b\b\b\b\b\b\b\b\b\b\b\b\b\b\b\b\b\b\b\b\b 45% 2 - 3rd_test.rar\b\b\b\b\b\b\b\b\b\b\b\b\b\b\b\b\b\b\b\b\b                     \b\b\b\b\b\b\b\b\b\b\b\b\b\b\b\b\b\b\b\b\b 46% 2 - 3rd_test.rar\b\b\b\b\b\b\b\b\b\b\b\b\b\b\b\b\b\b\b\b\b                     \b\b\b\b\b\b\b\b\b\b\b\b\b\b\b\b\b\b\b\b\b 47% 2 - 3rd_test.rar\b\b\b\b\b\b\b\b\b\b\b\b\b\b\b\b\b\b\b\b\b                     \b\b\b\b\b\b\b\b\b\b\b\b\b\b\b\b\b\b\b\b\b 48% 2 - 3rd_test.rar\b\b\b\b\b\b\b\b\b\b\b\b\b\b\b\b\b\b\b\b\b                     \b\b\b\b\b\b\b\b\b\b\b\b\b\b\b\b\b\b\b\b\b 49% 2 - 3rd_test.rar\b\b\b\b\b\b\b\b\b\b\b\b\b\b\b\b\b\b\b\b\b                     \b\b\b\b\b\b\b\b\b\b\b\b\b\b\b\b\b\b\b\b\b 50% 2 - 3rd_test.rar\b\b\b\b\b\b\b\b\b\b\b\b\b\b\b\b\b\b\b\b\b                     \b\b\b\b\b\b\b\b\b\b\b\b\b\b\b\b\b\b\b\b\b 51% 2 - 3rd_test.rar\b\b\b\b\b\b\b\b\b\b\b\b\b\b\b\b\b\b\b\b\b                     \b\b\b\b\b\b\b\b\b\b\b\b\b\b\b\b\b\b\b\b\b 52% 2 - 3rd_test.rar\b\b\b\b\b\b\b\b\b\b\b\b\b\b\b\b\b\b\b\b\b                     \b\b\b\b\b\b\b\b\b\b\b\b\b\b\b\b\b\b\b\b\b 53% 2 - 3rd_test.rar\b\b\b\b\b\b\b\b\b\b\b\b\b\b\b\b\b\b\b\b\b                     \b\b\b\b\b\b\b\b\b\b\b\b\b\b\b\b\b\b\b\b\b 54% 2 - 3rd_test.rar\b\b\b\b\b\b\b\b\b\b\b\b\b\b\b\b\b\b\b\b\b                     \b\b\b\b\b\b\b\b\b\b\b\b\b\b\b\b\b\b\b\b\b 55% 2 - 3rd_test.rar\b\b\b\b\b\b\b\b\b\b\b\b\b\b\b\b\b\b\b\b\b                     \b\b\b\b\b\b\b\b\b\b\b\b\b\b\b\b\b\b\b\b\b 56% 2 - 3rd_test.rar\b\b\b\b\b\b\b\b\b\b\b\b\b\b\b\b\b\b\b\b\b                     \b\b\b\b\b\b\b\b\b\b\b\b\b\b\b\b\b\b\b\b\b 57% 2 - 3rd_test.rar\b\b\b\b\b\b\b\b\b\b\b\b\b\b\b\b\b\b\b\b\b                     \b\b\b\b\b\b\b\b\b\b\b\b\b\b\b\b\b\b\b\b\b 58% 2 - 3rd_test.rar\b\b\b\b\b\b\b\b\b\b\b\b\b\b\b\b\b\b\b\b\b                     \b\b\b\b\b\b\b\b\b\b\b\b\b\b\b\b\b\b\b\b\b 59% 2 - 3rd_test.rar\b\b\b\b\b\b\b\b\b\b\b\b\b\b\b\b\b\b\b\b\b                     \b\b\b\b\b\b\b\b\b\b\b\b\b\b\b\b\b\b\b\b\b 60% 2 - 3rd_test.rar\b\b\b\b\b\b\b\b\b\b\b\b\b\b\b\b\b\b\b\b\b                     \b\b\b\b\b\b\b\b\b\b\b\b\b\b\b\b\b\b\b\b\b 61% 2 - 3rd_test.rar\b\b\b\b\b\b\b\b\b\b\b\b\b\b\b\b\b\b\b\b\b                     \b\b\b\b\b\b\b\b\b\b\b\b\b\b\b\b\b\b\b\b\b 62% 2 - 3rd_test.rar\b\b\b\b\b\b\b\b\b\b\b\b\b\b\b\b\b\b\b\b\b                     \b\b\b\b\b\b\b\b\b\b\b\b\b\b\b\b\b\b\b\b\b 63% 2 - 3rd_test.rar\b\b\b\b\b\b\b\b\b\b\b\b\b\b\b\b\b\b\b\b\b                     \b\b\b\b\b\b\b\b\b\b\b\b\b\b\b\b\b\b\b\b\b 64% 2 - 3rd_test.rar\b\b\b\b\b\b\b\b\b\b\b\b\b\b\b\b\b\b\b\b\b                     \b\b\b\b\b\b\b\b\b\b\b\b\b\b\b\b\b\b\b\b\b 65% 2 - 3rd_test.rar\b\b\b\b\b\b\b\b\b\b\b\b\b\b\b\b\b\b\b\b\b                     \b\b\b\b\b\b\b\b\b\b\b\b\b\b\b\b\b\b\b\b\b 66% 2 - 3rd_test.rar\b\b\b\b\b\b\b\b\b\b\b\b\b\b\b\b\b\b\b\b\b                     \b\b\b\b\b\b\b\b\b\b\b\b\b\b\b\b\b\b\b\b\b 67% 2 - 3rd_test.rar\b\b\b\b\b\b\b\b\b\b\b\b\b\b\b\b\b\b\b\b\b                     \b\b\b\b\b\b\b\b\b\b\b\b\b\b\b\b\b\b\b\b\b 68% 2 - 3rd_test.rar\b\b\b\b\b\b\b\b\b\b\b\b\b\b\b\b\b\b\b\b\b                     \b\b\b\b\b\b\b\b\b\b\b\b\b\b\b\b\b\b\b\b\b 69% 2 - 3rd_test.rar\b\b\b\b\b\b\b\b\b\b\b\b\b\b\b\b\b\b\b\b\b                     \b\b\b\b\b\b\b\b\b\b\b\b\b\b\b\b\b\b\b\b\b 70% 2 - 3rd_test.rar\b\b\b\b\b\b\b\b\b\b\b\b\b\b\b\b\b\b\b\b\b                     \b\b\b\b\b\b\b\b\b\b\b\b\b\b\b\b\b\b\b\b\b 71% 2 - 3rd_test.rar\b\b\b\b\b\b\b\b\b\b\b\b\b\b\b\b\b\b\b\b\b                     \b\b\b\b\b\b\b\b\b\b\b\b\b\b\b\b\b\b\b\b\b 72% 2 - 3rd_test.rar\b\b\b\b\b\b\b\b\b\b\b\b\b\b\b\b\b\b\b\b\b                     \b\b\b\b\b\b\b\b\b\b\b\b\b\b\b\b\b\b\b\b\b 73% 2 - 3rd_test.rar\b\b\b\b\b\b\b\b\b\b\b\b\b\b\b\b\b\b\b\b\b                     \b\b\b\b\b\b\b\b\b\b\b\b\b\b\b\b\b\b\b\b\b 74% 2 - 3rd_test.rar\b\b\b\b\b\b\b\b\b\b\b\b\b\b\b\b\b\b\b\b\b                     \b\b\b\b\b\b\b\b\b\b\b\b\b\b\b\b\b\b\b\b\b 75% 2 - 3rd_test.rar\b\b\b\b\b\b\b\b\b\b\b\b\b\b\b\b\b\b\b\b\b                     \b\b\b\b\b\b\b\b\b\b\b\b\b\b\b\b\b\b\b\b\b 76% 2 - 3rd_test.rar\b\b\b\b\b\b\b\b\b\b\b\b\b\b\b\b\b\b\b\b\b                     \b\b\b\b\b\b\b\b\b\b\b\b\b\b\b\b\b\b\b\b\b 77% 2 - 3rd_test.rar\b\b\b\b\b\b\b\b\b\b\b\b\b\b\b\b\b\b\b\b\b                     \b\b\b\b\b\b\b\b\b\b\b\b\b\b\b\b\b\b\b\b\b 78% 2 - 3rd_test.rar\b\b\b\b\b\b\b\b\b\b\b\b\b\b\b\b\b\b\b\b\b                     \b\b\b\b\b\b\b\b\b\b\b\b\b\b\b\b\b\b\b\b\b 79% 2 - 3rd_test.rar\b\b\b\b\b\b\b\b\b\b\b\b\b\b\b\b\b\b\b\b\b                     \b\b\b\b\b\b\b\b\b\b\b\b\b\b\b\b\b\b\b\b\b 80% 2 - 3rd_test.rar\b\b\b\b\b\b\b\b\b\b\b\b\b\b\b\b\b\b\b\b\b                     \b\b\b\b\b\b\b\b\b\b\b\b\b\b\b\b\b\b\b\b\b 81% 2 - 3rd_test.rar\b\b\b\b\b\b\b\b\b\b\b\b\b\b\b\b\b\b\b\b\b                     \b\b\b\b\b\b\b\b\b\b\b\b\b\b\b\b\b\b\b\b\b 82% 2 - 3rd_test.rar\b\b\b\b\b\b\b\b\b\b\b\b\b\b\b\b\b\b\b\b\b                     \b\b\b\b\b\b\b\b\b\b\b\b\b\b\b\b\b\b\b\b\b 83% 2 - 3rd_test.rar\b\b\b\b\b\b\b\b\b\b\b\b\b\b\b\b\b\b\b\b\b                     \b\b\b\b\b\b\b\b\b\b\b\b\b\b\b\b\b\b\b\b\b 84% 2 - 3rd_test.rar\b\b\b\b\b\b\b\b\b\b\b\b\b\b\b\b\b\b\b\b\b                     \b\b\b\b\b\b\b\b\b\b\b\b\b\b\b\b\b\b\b\b\b 85% 2 - 3rd_test.rar\b\b\b\b\b\b\b\b\b\b\b\b\b\b\b\b\b\b\b\b\b                     \b\b\b\b\b\b\b\b\b\b\b\b\b\b\b\b\b\b\b\b\b 86% 2 - 3rd_test.rar\b\b\b\b\b\b\b\b\b\b\b\b\b\b\b\b\b\b\b\b\b                     \b\b\b\b\b\b\b\b\b\b\b\b\b\b\b\b\b\b\b\b\b 87% 2 - 3rd_test.rar\b\b\b\b\b\b\b\b\b\b\b\b\b\b\b\b\b\b\b\b\b                     \b\b\b\b\b\b\b\b\b\b\b\b\b\b\b\b\b\b\b\b\b 88% 2 - 3rd_test.rar\b\b\b\b\b\b\b\b\b\b\b\b\b\b\b\b\b\b\b\b\b                     \b\b\b\b\b\b\b\b\b\b\b\b\b\b\b\b\b\b\b\b\b 89% 2 - 3rd_test.rar\b\b\b\b\b\b\b\b\b\b\b\b\b\b\b\b\b\b\b\b\b                     \b\b\b\b\b\b\b\b\b\b\b\b\b\b\b\b\b\b\b\b\b 90% 2 - 3rd_test.rar\b\b\b\b\b\b\b\b\b\b\b\b\b\b\b\b\b\b\b\b\b                     \b\b\b\b\b\b\b\b\b\b\b\b\b\b\b\b\b\b\b\b\b 91% 2 - 3rd_test.rar\b\b\b\b\b\b\b\b\b\b\b\b\b\b\b\b\b\b\b\b\b                     \b\b\b\b\b\b\b\b\b\b\b\b\b\b\b\b\b\b\b\b\b 92% 2 - 3rd_test.rar\b\b\b\b\b\b\b\b\b\b\b\b\b\b\b\b\b\b\b\b\b                     \b\b\b\b\b\b\b\b\b\b\b\b\b\b\b\b\b\b\b\b\b 93% 2 - 3rd_test.rar\b\b\b\b\b\b\b\b\b\b\b\b\b\b\b\b\b\b\b\b\b                     \b\b\b\b\b\b\b\b\b\b\b\b\b\b\b\b\b\b\b\b\b 94% 2 - 3rd_test.rar\b\b\b\b\b\b\b\b\b\b\b\b\b\b\b\b\b\b\b\b\b                     \b\b\b\b\b\b\b\b\b\b\b\b\b\b\b\b\b\b\b\b\b 95% 2 - 3rd_test.rar\b\b\b\b\b\b\b\b\b\b\b\b\b\b\b\b\b\b\b\b\b                     \b\b\b\b\b\b\b\b\b\b\b\b\b\b\b\b\b\b\b\b\b 96% 2 - 3rd_test.rar\b\b\b\b\b\b\b\b\b\b\b\b\b\b\b\b\b\b\b\b\b                     \b\b\b\b\b\b\b\b\b\b\b\b\b\b\b\b\b\b\b\b\b 97% 2 - 3rd_test.rar\b\b\b\b\b\b\b\b\b\b\b\b\b\b\b\b\b\b\b\b\b                     \b\b\b\b\b\b\b\b\b\b\b\b\b\b\b\b\b\b\b\b\b 98% 2 - 3rd_test.rar\b\b\b\b\b\b\b\b\b\b\b\b\b\b\b\b\b\b\b\b\b                     \b\b\b\b\b\b\b\b\b\b\b\b\b\b\b\b\b\b\b\b\b 99% 2 - 3rd_test.rar\b\b\b\b\b\b\b\b\b\b\b\b\b\b\b\b\b\b\b\b\b                     \b\b\b\b\b\b\b\b\b\b\b\b\b\b\b\b\b\b\b\b\b 99% 3 - Readme Document for IMS Bearing Data.pdf\b\b\b\b\b\b\b\b\b\b\b\b\b\b\b\b\b\b\b\b\b\b\b\b\b\b\b\b\b\b\b\b\b\b\b\b\b\b\b\b\b\b\b\b\b\b\b\b\b                                                 \b\b\b\b\b\b\b\b\b\b\b\b\b\b\b\b\b\b\b\b\b\b\b\b\b\b\b\b\b\b\b\b\b\b\b\b\b\b\b\b\b\b\b\b\b\b\b\b\bEverything is Ok\n",
            "\n",
            "Files: 4\n",
            "Size:       1061595979\n",
            "Compressed: 1075320408\n"
          ]
        }
      ]
    },
    {
      "cell_type": "code",
      "source": [
        "!ls -l"
      ],
      "metadata": {
        "colab": {
          "base_uri": "https://localhost:8080/"
        },
        "id": "WVV4oYIcGOlV",
        "outputId": "41b81e9e-1b05-4896-f48d-211137f6c1c2"
      },
      "id": "WVV4oYIcGOlV",
      "execution_count": 34,
      "outputs": [
        {
          "output_type": "stream",
          "name": "stdout",
          "text": [
            "total 84012\n",
            "drwxr-xr-x 2 root root    36864 Oct 19  2006  2nd_test\n",
            "-rw-r--r-- 1 root root 85581092 Sep 18  2007  2nd_test.rar\n",
            "-rw-r--r-- 1 root root   400443 Oct 10  2012 'Readme Document for IMS Bearing Data.pdf'\n",
            "drwxr-xr-x 1 root root     4096 Feb 13 14:23  sample_data\n"
          ]
        }
      ]
    },
    {
      "cell_type": "code",
      "source": [
        "!rm 1st_test.rar\n",
        "!rm 3rd_test.rar\n",
        "!rm -r 4.+Bearings.zip\n",
        "!rm -r '4. Bearings'"
      ],
      "metadata": {
        "colab": {
          "base_uri": "https://localhost:8080/"
        },
        "id": "YCsiSw7bGbVc",
        "outputId": "1804929c-c7c7-4bab-fc16-d62f2307309a"
      },
      "id": "YCsiSw7bGbVc",
      "execution_count": 26,
      "outputs": [
        {
          "output_type": "stream",
          "name": "stdout",
          "text": [
            "rm: cannot remove '1st_test.rar': No such file or directory\n",
            "rm: cannot remove '3rd_test.rar': No such file or directory\n",
            "rm: cannot remove '4.+Bearings.zip': No such file or directory\n"
          ]
        }
      ]
    },
    {
      "cell_type": "code",
      "source": [
        "!pip install unrar\n",
        "!unrar x 2nd_test.rar\n",
        "!ls -l"
      ],
      "metadata": {
        "colab": {
          "base_uri": "https://localhost:8080/"
        },
        "id": "kklXAt7EHYXg",
        "outputId": "be0535b2-92eb-4297-f97d-4bccff0d45f0"
      },
      "id": "kklXAt7EHYXg",
      "execution_count": 31,
      "outputs": [
        {
          "output_type": "stream",
          "name": "stdout",
          "text": [
            "Collecting unrar\n",
            "  Downloading unrar-0.4-py3-none-any.whl (25 kB)\n",
            "Installing collected packages: unrar\n",
            "Successfully installed unrar-0.4\n",
            "\n",
            "UNRAR 6.11 beta 1 freeware      Copyright (c) 1993-2022 Alexander Roshal\n",
            "\n",
            "\n",
            "Extracting from 2nd_test.rar\n",
            "\n",
            "Creating    2nd_test                                                  OK\n",
            "Extracting  2nd_test/2004.02.12.10.32.39                                 \b\b\b\b  0%\b\b\b\b\b  OK \n",
            "Extracting  2nd_test/2004.02.12.10.42.39                                 \b\b\b\b  0%\b\b\b\b\b  OK \n",
            "Extracting  2nd_test/2004.02.12.10.52.39                                 \b\b\b\b  0%\b\b\b\b\b  OK \n",
            "Extracting  2nd_test/2004.02.12.11.02.39                                 \b\b\b\b  0%\b\b\b\b\b  OK \n",
            "Extracting  2nd_test/2004.02.12.11.12.39                                 \b\b\b\b  0%\b\b\b\b\b  OK \n",
            "Extracting  2nd_test/2004.02.12.11.22.39                                 \b\b\b\b  0%\b\b\b\b\b  OK \n",
            "Extracting  2nd_test/2004.02.12.11.32.39                                 \b\b\b\b  0%\b\b\b\b\b  OK \n",
            "Extracting  2nd_test/2004.02.12.11.42.39                                 \b\b\b\b  0%\b\b\b\b\b  OK \n",
            "Extracting  2nd_test/2004.02.12.11.52.39                                 \b\b\b\b  0%\b\b\b\b\b  OK \n",
            "Extracting  2nd_test/2004.02.12.12.02.39                                 \b\b\b\b  0%\b\b\b\b  1%\b\b\b\b\b  OK \n",
            "Extracting  2nd_test/2004.02.12.12.12.39                                 \b\b\b\b  1%\b\b\b\b\b  OK \n",
            "Extracting  2nd_test/2004.02.12.12.22.39                                 \b\b\b\b  1%\b\b\b\b\b  OK \n",
            "Extracting  2nd_test/2004.02.12.12.32.39                                 \b\b\b\b  1%\b\b\b\b\b  OK \n",
            "Extracting  2nd_test/2004.02.12.12.42.39                                 \b\b\b\b  1%\b\b\b\b\b  OK \n",
            "Extracting  2nd_test/2004.02.12.12.52.39                                 \b\b\b\b  1%\b\b\b\b\b  OK \n",
            "Extracting  2nd_test/2004.02.12.13.02.39                                 \b\b\b\b  1%\b\b\b\b\b  OK \n",
            "Extracting  2nd_test/2004.02.12.13.12.39                                 \b\b\b\b  1%\b\b\b\b\b  OK \n",
            "Extracting  2nd_test/2004.02.12.13.22.39                                 \b\b\b\b  1%\b\b\b\b\b  OK \n",
            "Extracting  2nd_test/2004.02.12.13.32.39                                 \b\b\b\b  1%\b\b\b\b\b  OK \n",
            "Extracting  2nd_test/2004.02.12.13.42.39                                 \b\b\b\b  1%\b\b\b\b  2%\b\b\b\b\b  OK \n",
            "Extracting  2nd_test/2004.02.12.13.52.39                                 \b\b\b\b  2%\b\b\b\b\b  OK \n",
            "Extracting  2nd_test/2004.02.12.14.02.39                                 \b\b\b\b  2%\b\b\b\b\b  OK \n",
            "Extracting  2nd_test/2004.02.12.14.12.39                                 \b\b\b\b  2%\b\b\b\b\b  OK \n",
            "Extracting  2nd_test/2004.02.12.14.22.39                                 \b\b\b\b  2%\b\b\b\b\b  OK \n",
            "Extracting  2nd_test/2004.02.12.14.32.39                                 \b\b\b\b  2%\b\b\b\b\b  OK \n",
            "Extracting  2nd_test/2004.02.12.14.42.39                                 \b\b\b\b  2%\b\b\b\b\b  OK \n",
            "Extracting  2nd_test/2004.02.12.14.52.39                                 \b\b\b\b  2%\b\b\b\b\b  OK \n",
            "Extracting  2nd_test/2004.02.12.15.02.39                                 \b\b\b\b  2%\b\b\b\b\b  OK \n",
            "Extracting  2nd_test/2004.02.12.15.12.39                                 \b\b\b\b  2%\b\b\b\b\b  OK \n",
            "Extracting  2nd_test/2004.02.12.15.22.39                                 \b\b\b\b  2%\b\b\b\b  3%\b\b\b\b\b  OK \n",
            "Extracting  2nd_test/2004.02.12.15.32.39                                 \b\b\b\b  3%\b\b\b\b\b  OK \n",
            "Extracting  2nd_test/2004.02.12.15.42.39                                 \b\b\b\b  3%\b\b\b\b\b  OK \n",
            "Extracting  2nd_test/2004.02.12.15.52.39                                 \b\b\b\b  3%\b\b\b\b\b  OK \n",
            "Extracting  2nd_test/2004.02.12.16.02.39                                 \b\b\b\b  3%\b\b\b\b\b  OK \n",
            "Extracting  2nd_test/2004.02.12.16.12.39                                 \b\b\b\b  3%\b\b\b\b\b  OK \n",
            "Extracting  2nd_test/2004.02.12.16.22.39                                 \b\b\b\b  3%\b\b\b\b\b  OK \n",
            "Extracting  2nd_test/2004.02.12.16.32.39                                 \b\b\b\b  3%\b\b\b\b\b  OK \n",
            "Extracting  2nd_test/2004.02.12.16.42.39                                 \b\b\b\b  3%\b\b\b\b\b  OK \n",
            "Extracting  2nd_test/2004.02.12.16.52.39                                 \b\b\b\b  3%\b\b\b\b\b  OK \n",
            "Extracting  2nd_test/2004.02.12.17.02.39                                 \b\b\b\b  3%\b\b\b\b  4%\b\b\b\b\b  OK \n",
            "Extracting  2nd_test/2004.02.12.17.12.39                                 \b\b\b\b  4%\b\b\b\b\b  OK \n",
            "Extracting  2nd_test/2004.02.12.17.22.39                                 \b\b\b\b  4%\b\b\b\b\b  OK \n",
            "Extracting  2nd_test/2004.02.12.17.32.39                                 \b\b\b\b  4%\b\b\b\b\b  OK \n",
            "Extracting  2nd_test/2004.02.12.17.42.39                                 \b\b\b\b  4%\b\b\b\b\b  OK \n",
            "Extracting  2nd_test/2004.02.12.17.52.39                                 \b\b\b\b  4%\b\b\b\b\b  OK \n",
            "Extracting  2nd_test/2004.02.12.18.02.39                                 \b\b\b\b  4%\b\b\b\b\b  OK \n",
            "Extracting  2nd_test/2004.02.12.18.12.39                                 \b\b\b\b  4%\b\b\b\b\b  OK \n",
            "Extracting  2nd_test/2004.02.12.18.22.39                                 \b\b\b\b  4%\b\b\b\b\b  OK \n",
            "Extracting  2nd_test/2004.02.12.18.32.39                                 \b\b\b\b  4%\b\b\b\b\b  OK \n",
            "Extracting  2nd_test/2004.02.12.18.42.39                                 \b\b\b\b  4%\b\b\b\b  5%\b\b\b\b\b  OK \n",
            "Extracting  2nd_test/2004.02.12.18.52.39                                 \b\b\b\b  5%\b\b\b\b\b  OK \n",
            "Extracting  2nd_test/2004.02.12.19.02.39                                 \b\b\b\b  5%\b\b\b\b\b  OK \n",
            "Extracting  2nd_test/2004.02.12.19.12.39                                 \b\b\b\b  5%\b\b\b\b\b  OK \n",
            "Extracting  2nd_test/2004.02.12.19.22.39                                 \b\b\b\b  5%\b\b\b\b\b  OK \n",
            "Extracting  2nd_test/2004.02.12.19.32.39                                 \b\b\b\b  5%\b\b\b\b\b  OK \n",
            "Extracting  2nd_test/2004.02.12.19.42.39                                 \b\b\b\b  5%\b\b\b\b\b  OK \n",
            "Extracting  2nd_test/2004.02.12.19.52.39                                 \b\b\b\b  5%\b\b\b\b\b  OK \n",
            "Extracting  2nd_test/2004.02.12.20.02.39                                 \b\b\b\b  5%\b\b\b\b\b  OK \n",
            "Extracting  2nd_test/2004.02.12.20.12.39                                 \b\b\b\b  5%\b\b\b\b\b  OK \n",
            "Extracting  2nd_test/2004.02.12.20.22.39                                 \b\b\b\b  5%\b\b\b\b  6%\b\b\b\b\b  OK \n",
            "Extracting  2nd_test/2004.02.12.20.32.39                                 \b\b\b\b  6%\b\b\b\b\b  OK \n",
            "Extracting  2nd_test/2004.02.12.20.42.39                                 \b\b\b\b  6%\b\b\b\b\b  OK \n",
            "Extracting  2nd_test/2004.02.12.20.52.39                                 \b\b\b\b  6%\b\b\b\b\b  OK \n",
            "Extracting  2nd_test/2004.02.12.21.02.39                                 \b\b\b\b  6%\b\b\b\b\b  OK \n",
            "Extracting  2nd_test/2004.02.12.21.12.39                                 \b\b\b\b  6%\b\b\b\b\b  OK \n",
            "Extracting  2nd_test/2004.02.12.21.22.39                                 \b\b\b\b  6%\b\b\b\b\b  OK \n",
            "Extracting  2nd_test/2004.02.12.21.32.39                                 \b\b\b\b  6%\b\b\b\b\b  OK \n",
            "Extracting  2nd_test/2004.02.12.21.42.39                                 \b\b\b\b  6%\b\b\b\b\b  OK \n",
            "Extracting  2nd_test/2004.02.12.21.52.39                                 \b\b\b\b  6%\b\b\b\b\b  OK \n",
            "Extracting  2nd_test/2004.02.12.22.02.39                                 \b\b\b\b  6%\b\b\b\b  7%\b\b\b\b\b  OK \n",
            "Extracting  2nd_test/2004.02.12.22.12.39                                 \b\b\b\b  7%\b\b\b\b\b  OK \n",
            "Extracting  2nd_test/2004.02.12.22.22.39                                 \b\b\b\b  7%\b\b\b\b\b  OK \n",
            "Extracting  2nd_test/2004.02.12.22.32.39                                 \b\b\b\b  7%\b\b\b\b\b  OK \n",
            "Extracting  2nd_test/2004.02.12.22.42.39                                 \b\b\b\b  7%\b\b\b\b\b  OK \n",
            "Extracting  2nd_test/2004.02.12.22.52.39                                 \b\b\b\b  7%\b\b\b\b\b  OK \n",
            "Extracting  2nd_test/2004.02.12.23.02.39                                 \b\b\b\b  7%\b\b\b\b\b  OK \n",
            "Extracting  2nd_test/2004.02.12.23.12.39                                 \b\b\b\b  7%\b\b\b\b\b  OK \n",
            "Extracting  2nd_test/2004.02.12.23.22.39                                 \b\b\b\b  7%\b\b\b\b\b  OK \n",
            "Extracting  2nd_test/2004.02.12.23.32.39                                 \b\b\b\b  7%\b\b\b\b\b  OK \n",
            "Extracting  2nd_test/2004.02.12.23.42.39                                 \b\b\b\b  7%\b\b\b\b  8%\b\b\b\b\b  OK \n",
            "Extracting  2nd_test/2004.02.12.23.52.39                                 \b\b\b\b  8%\b\b\b\b\b  OK \n",
            "Extracting  2nd_test/2004.02.13.00.02.39                                 \b\b\b\b  8%\b\b\b\b\b  OK \n",
            "Extracting  2nd_test/2004.02.13.00.12.39                                 \b\b\b\b  8%\b\b\b\b\b  OK \n",
            "Extracting  2nd_test/2004.02.13.00.22.39                                 \b\b\b\b  8%\b\b\b\b\b  OK \n",
            "Extracting  2nd_test/2004.02.13.00.32.39                                 \b\b\b\b  8%\b\b\b\b\b  OK \n",
            "Extracting  2nd_test/2004.02.13.00.42.39                                 \b\b\b\b  8%\b\b\b\b\b  OK \n",
            "Extracting  2nd_test/2004.02.13.00.52.39                                 \b\b\b\b  8%\b\b\b\b\b  OK \n",
            "Extracting  2nd_test/2004.02.13.01.02.39                                 \b\b\b\b  8%\b\b\b\b\b  OK \n",
            "Extracting  2nd_test/2004.02.13.01.12.39                                 \b\b\b\b  8%\b\b\b\b\b  OK \n",
            "Extracting  2nd_test/2004.02.13.01.22.39                                 \b\b\b\b  8%\b\b\b\b  9%\b\b\b\b\b  OK \n",
            "Extracting  2nd_test/2004.02.13.01.32.39                                 \b\b\b\b  9%\b\b\b\b\b  OK \n",
            "Extracting  2nd_test/2004.02.13.01.42.39                                 \b\b\b\b  9%\b\b\b\b\b  OK \n",
            "Extracting  2nd_test/2004.02.13.01.52.39                                 \b\b\b\b  9%\b\b\b\b\b  OK \n",
            "Extracting  2nd_test/2004.02.13.02.02.39                                 \b\b\b\b  9%\b\b\b\b\b  OK \n",
            "Extracting  2nd_test/2004.02.13.02.12.39                                 \b\b\b\b  9%\b\b\b\b\b  OK \n",
            "Extracting  2nd_test/2004.02.13.02.22.39                                 \b\b\b\b  9%\b\b\b\b\b  OK \n",
            "Extracting  2nd_test/2004.02.13.02.32.39                                 \b\b\b\b  9%\b\b\b\b\b  OK \n",
            "Extracting  2nd_test/2004.02.13.02.42.39                                 \b\b\b\b  9%\b\b\b\b\b  OK \n",
            "Extracting  2nd_test/2004.02.13.02.52.39                                 \b\b\b\b  9%\b\b\b\b\b  OK \n",
            "Extracting  2nd_test/2004.02.13.03.02.39                                 \b\b\b\b  9%\b\b\b\b 10%\b\b\b\b\b  OK \n",
            "Extracting  2nd_test/2004.02.13.03.12.39                                 \b\b\b\b 10%\b\b\b\b\b  OK \n",
            "Extracting  2nd_test/2004.02.13.03.22.39                                 \b\b\b\b 10%\b\b\b\b\b  OK \n",
            "Extracting  2nd_test/2004.02.13.03.32.39                                 \b\b\b\b 10%\b\b\b\b\b  OK \n",
            "Extracting  2nd_test/2004.02.13.03.42.39                                 \b\b\b\b 10%\b\b\b\b\b  OK \n",
            "Extracting  2nd_test/2004.02.13.03.52.39                                 \b\b\b\b 10%\b\b\b\b\b  OK \n",
            "Extracting  2nd_test/2004.02.13.04.02.39                                 \b\b\b\b 10%\b\b\b\b\b  OK \n",
            "Extracting  2nd_test/2004.02.13.04.12.39                                 \b\b\b\b 10%\b\b\b\b\b  OK \n",
            "Extracting  2nd_test/2004.02.13.04.22.39                                 \b\b\b\b 10%\b\b\b\b\b  OK \n",
            "Extracting  2nd_test/2004.02.13.04.32.39                                 \b\b\b\b 10%\b\b\b\b\b  OK \n",
            "Extracting  2nd_test/2004.02.13.04.42.39                                 \b\b\b\b 10%\b\b\b\b 11%\b\b\b\b\b  OK \n",
            "Extracting  2nd_test/2004.02.13.04.52.39                                 \b\b\b\b 11%\b\b\b\b\b  OK \n",
            "Extracting  2nd_test/2004.02.13.05.02.39                                 \b\b\b\b 11%\b\b\b\b\b  OK \n",
            "Extracting  2nd_test/2004.02.13.05.12.39                                 \b\b\b\b 11%\b\b\b\b\b  OK \n",
            "Extracting  2nd_test/2004.02.13.05.22.39                                 \b\b\b\b 11%\b\b\b\b\b  OK \n",
            "Extracting  2nd_test/2004.02.13.05.32.39                                 \b\b\b\b 11%\b\b\b\b\b  OK \n",
            "Extracting  2nd_test/2004.02.13.05.42.39                                 \b\b\b\b 11%\b\b\b\b\b  OK \n",
            "Extracting  2nd_test/2004.02.13.05.52.39                                 \b\b\b\b 11%\b\b\b\b\b  OK \n",
            "Extracting  2nd_test/2004.02.13.06.02.39                                 \b\b\b\b 11%\b\b\b\b\b  OK \n",
            "Extracting  2nd_test/2004.02.13.06.12.39                                 \b\b\b\b 11%\b\b\b\b\b  OK \n",
            "Extracting  2nd_test/2004.02.13.06.22.39                                 \b\b\b\b 11%\b\b\b\b 12%\b\b\b\b\b  OK \n",
            "Extracting  2nd_test/2004.02.13.06.32.39                                 \b\b\b\b 12%\b\b\b\b\b  OK \n",
            "Extracting  2nd_test/2004.02.13.06.42.39                                 \b\b\b\b 12%\b\b\b\b\b  OK \n",
            "Extracting  2nd_test/2004.02.13.06.52.39                                 \b\b\b\b 12%\b\b\b\b\b  OK \n",
            "Extracting  2nd_test/2004.02.13.07.02.39                                 \b\b\b\b 12%\b\b\b\b\b  OK \n",
            "Extracting  2nd_test/2004.02.13.07.12.39                                 \b\b\b\b 12%\b\b\b\b\b  OK \n",
            "Extracting  2nd_test/2004.02.13.07.22.39                                 \b\b\b\b 12%\b\b\b\b\b  OK \n",
            "Extracting  2nd_test/2004.02.13.07.32.39                                 \b\b\b\b 12%\b\b\b\b\b  OK \n",
            "Extracting  2nd_test/2004.02.13.07.42.39                                 \b\b\b\b 12%\b\b\b\b\b  OK \n",
            "Extracting  2nd_test/2004.02.13.07.52.39                                 \b\b\b\b 12%\b\b\b\b\b  OK \n",
            "Extracting  2nd_test/2004.02.13.08.02.39                                 \b\b\b\b 12%\b\b\b\b 13%\b\b\b\b\b  OK \n",
            "Extracting  2nd_test/2004.02.13.08.12.39                                 \b\b\b\b 13%\b\b\b\b\b  OK \n",
            "Extracting  2nd_test/2004.02.13.08.22.39                                 \b\b\b\b 13%\b\b\b\b\b  OK \n",
            "Extracting  2nd_test/2004.02.13.08.32.39                                 \b\b\b\b 13%\b\b\b\b\b  OK \n",
            "Extracting  2nd_test/2004.02.13.08.42.39                                 \b\b\b\b 13%\b\b\b\b\b  OK \n",
            "Extracting  2nd_test/2004.02.13.08.52.39                                 \b\b\b\b 13%\b\b\b\b\b  OK \n",
            "Extracting  2nd_test/2004.02.13.09.02.39                                 \b\b\b\b 13%\b\b\b\b\b  OK \n",
            "Extracting  2nd_test/2004.02.13.09.12.39                                 \b\b\b\b 13%\b\b\b\b\b  OK \n",
            "Extracting  2nd_test/2004.02.13.09.22.39                                 \b\b\b\b 13%\b\b\b\b\b  OK \n",
            "Extracting  2nd_test/2004.02.13.09.32.39                                 \b\b\b\b 13%\b\b\b\b\b  OK \n",
            "Extracting  2nd_test/2004.02.13.09.42.39                                 \b\b\b\b 13%\b\b\b\b 14%\b\b\b\b\b  OK \n",
            "Extracting  2nd_test/2004.02.13.09.52.39                                 \b\b\b\b 14%\b\b\b\b\b  OK \n",
            "Extracting  2nd_test/2004.02.13.10.02.39                                 \b\b\b\b 14%\b\b\b\b\b  OK \n",
            "Extracting  2nd_test/2004.02.13.10.12.39                                 \b\b\b\b 14%\b\b\b\b\b  OK \n",
            "Extracting  2nd_test/2004.02.13.10.22.39                                 \b\b\b\b 14%\b\b\b\b\b  OK \n",
            "Extracting  2nd_test/2004.02.13.10.32.39                                 \b\b\b\b 14%\b\b\b\b\b  OK \n",
            "Extracting  2nd_test/2004.02.13.10.42.39                                 \b\b\b\b 14%\b\b\b\b\b  OK \n",
            "Extracting  2nd_test/2004.02.13.10.52.39                                 \b\b\b\b 14%\b\b\b\b\b  OK \n",
            "Extracting  2nd_test/2004.02.13.11.02.39                                 \b\b\b\b 14%\b\b\b\b\b  OK \n",
            "Extracting  2nd_test/2004.02.13.11.12.39                                 \b\b\b\b 14%\b\b\b\b\b  OK \n",
            "Extracting  2nd_test/2004.02.13.11.22.39                                 \b\b\b\b 14%\b\b\b\b 15%\b\b\b\b\b  OK \n",
            "Extracting  2nd_test/2004.02.13.11.32.39                                 \b\b\b\b 15%\b\b\b\b\b  OK \n",
            "Extracting  2nd_test/2004.02.13.11.42.39                                 \b\b\b\b 15%\b\b\b\b\b  OK \n",
            "Extracting  2nd_test/2004.02.13.11.52.39                                 \b\b\b\b 15%\b\b\b\b\b  OK \n",
            "Extracting  2nd_test/2004.02.13.12.02.39                                 \b\b\b\b 15%\b\b\b\b\b  OK \n",
            "Extracting  2nd_test/2004.02.13.12.12.39                                 \b\b\b\b 15%\b\b\b\b\b  OK \n",
            "Extracting  2nd_test/2004.02.13.12.22.39                                 \b\b\b\b 15%\b\b\b\b\b  OK \n",
            "Extracting  2nd_test/2004.02.13.12.32.39                                 \b\b\b\b 15%\b\b\b\b\b  OK \n",
            "Extracting  2nd_test/2004.02.13.12.42.39                                 \b\b\b\b 15%\b\b\b\b\b  OK \n",
            "Extracting  2nd_test/2004.02.13.12.52.39                                 \b\b\b\b 15%\b\b\b\b\b  OK \n",
            "Extracting  2nd_test/2004.02.13.13.02.39                                 \b\b\b\b 15%\b\b\b\b 16%\b\b\b\b\b  OK \n",
            "Extracting  2nd_test/2004.02.13.13.12.39                                 \b\b\b\b 16%\b\b\b\b\b  OK \n",
            "Extracting  2nd_test/2004.02.13.13.22.39                                 \b\b\b\b 16%\b\b\b\b\b  OK \n",
            "Extracting  2nd_test/2004.02.13.13.32.39                                 \b\b\b\b 16%\b\b\b\b\b  OK \n",
            "Extracting  2nd_test/2004.02.13.13.42.39                                 \b\b\b\b 16%\b\b\b\b\b  OK \n",
            "Extracting  2nd_test/2004.02.13.13.52.39                                 \b\b\b\b 16%\b\b\b\b\b  OK \n",
            "Extracting  2nd_test/2004.02.13.14.02.39                                 \b\b\b\b 16%\b\b\b\b\b  OK \n",
            "Extracting  2nd_test/2004.02.13.14.12.39                                 \b\b\b\b 16%\b\b\b\b\b  OK \n",
            "Extracting  2nd_test/2004.02.13.14.22.39                                 \b\b\b\b 16%\b\b\b\b\b  OK \n",
            "Extracting  2nd_test/2004.02.13.14.32.39                                 \b\b\b\b 16%\b\b\b\b\b  OK \n",
            "Extracting  2nd_test/2004.02.13.14.42.39                                 \b\b\b\b 16%\b\b\b\b 17%\b\b\b\b\b  OK \n",
            "Extracting  2nd_test/2004.02.13.14.52.39                                 \b\b\b\b 17%\b\b\b\b\b  OK \n",
            "Extracting  2nd_test/2004.02.13.15.02.39                                 \b\b\b\b 17%\b\b\b\b\b  OK \n",
            "Extracting  2nd_test/2004.02.13.15.12.39                                 \b\b\b\b 17%\b\b\b\b\b  OK \n",
            "Extracting  2nd_test/2004.02.13.15.22.39                                 \b\b\b\b 17%\b\b\b\b\b  OK \n",
            "Extracting  2nd_test/2004.02.13.15.32.39                                 \b\b\b\b 17%\b\b\b\b\b  OK \n",
            "Extracting  2nd_test/2004.02.13.15.42.39                                 \b\b\b\b 17%\b\b\b\b\b  OK \n",
            "Extracting  2nd_test/2004.02.13.15.52.39                                 \b\b\b\b 17%\b\b\b\b\b  OK \n",
            "Extracting  2nd_test/2004.02.13.16.02.39                                 \b\b\b\b 17%\b\b\b\b\b  OK \n",
            "Extracting  2nd_test/2004.02.13.16.12.39                                 \b\b\b\b 17%\b\b\b\b\b  OK \n",
            "Extracting  2nd_test/2004.02.13.16.22.39                                 \b\b\b\b 17%\b\b\b\b 18%\b\b\b\b\b  OK \n",
            "Extracting  2nd_test/2004.02.13.16.32.39                                 \b\b\b\b 18%\b\b\b\b\b  OK \n",
            "Extracting  2nd_test/2004.02.13.16.42.39                                 \b\b\b\b 18%\b\b\b\b\b  OK \n",
            "Extracting  2nd_test/2004.02.13.16.52.39                                 \b\b\b\b 18%\b\b\b\b\b  OK \n",
            "Extracting  2nd_test/2004.02.13.17.02.39                                 \b\b\b\b 18%\b\b\b\b\b  OK \n",
            "Extracting  2nd_test/2004.02.13.17.12.39                                 \b\b\b\b 18%\b\b\b\b\b  OK \n",
            "Extracting  2nd_test/2004.02.13.17.22.39                                 \b\b\b\b 18%\b\b\b\b\b  OK \n",
            "Extracting  2nd_test/2004.02.13.17.32.39                                 \b\b\b\b 18%\b\b\b\b\b  OK \n",
            "Extracting  2nd_test/2004.02.13.17.42.39                                 \b\b\b\b 18%\b\b\b\b\b  OK \n",
            "Extracting  2nd_test/2004.02.13.17.52.39                                 \b\b\b\b 18%\b\b\b\b\b  OK \n",
            "Extracting  2nd_test/2004.02.13.18.02.39                                 \b\b\b\b 18%\b\b\b\b 19%\b\b\b\b\b  OK \n",
            "Extracting  2nd_test/2004.02.13.18.12.39                                 \b\b\b\b 19%\b\b\b\b\b  OK \n",
            "Extracting  2nd_test/2004.02.13.18.22.39                                 \b\b\b\b 19%\b\b\b\b\b  OK \n",
            "Extracting  2nd_test/2004.02.13.18.32.39                                 \b\b\b\b 19%\b\b\b\b\b  OK \n",
            "Extracting  2nd_test/2004.02.13.18.42.39                                 \b\b\b\b 19%\b\b\b\b\b  OK \n",
            "Extracting  2nd_test/2004.02.13.18.52.39                                 \b\b\b\b 19%\b\b\b\b\b  OK \n",
            "Extracting  2nd_test/2004.02.13.19.02.39                                 \b\b\b\b 19%\b\b\b\b\b  OK \n",
            "Extracting  2nd_test/2004.02.13.19.12.39                                 \b\b\b\b 19%\b\b\b\b\b  OK \n",
            "Extracting  2nd_test/2004.02.13.19.22.39                                 \b\b\b\b 19%\b\b\b\b\b  OK \n",
            "Extracting  2nd_test/2004.02.13.19.32.39                                 \b\b\b\b 19%\b\b\b\b\b  OK \n",
            "Extracting  2nd_test/2004.02.13.19.42.39                                 \b\b\b\b 19%\b\b\b\b 20%\b\b\b\b\b  OK \n",
            "Extracting  2nd_test/2004.02.13.19.52.39                                 \b\b\b\b 20%\b\b\b\b\b  OK \n",
            "Extracting  2nd_test/2004.02.13.20.02.39                                 \b\b\b\b 20%\b\b\b\b\b  OK \n",
            "Extracting  2nd_test/2004.02.13.20.12.39                                 \b\b\b\b 20%\b\b\b\b\b  OK \n",
            "Extracting  2nd_test/2004.02.13.20.22.39                                 \b\b\b\b 20%\b\b\b\b\b  OK \n",
            "Extracting  2nd_test/2004.02.13.20.32.39                                 \b\b\b\b 20%\b\b\b\b\b  OK \n",
            "Extracting  2nd_test/2004.02.13.20.42.39                                 \b\b\b\b 20%\b\b\b\b\b  OK \n",
            "Extracting  2nd_test/2004.02.13.20.52.39                                 \b\b\b\b 20%\b\b\b\b\b  OK \n",
            "Extracting  2nd_test/2004.02.13.21.02.39                                 \b\b\b\b 20%\b\b\b\b\b  OK \n",
            "Extracting  2nd_test/2004.02.13.21.12.39                                 \b\b\b\b 20%\b\b\b\b\b  OK \n",
            "Extracting  2nd_test/2004.02.13.21.22.39                                 \b\b\b\b 20%\b\b\b\b 21%\b\b\b\b\b  OK \n",
            "Extracting  2nd_test/2004.02.13.21.32.39                                 \b\b\b\b 21%\b\b\b\b\b  OK \n",
            "Extracting  2nd_test/2004.02.13.21.42.39                                 \b\b\b\b 21%\b\b\b\b\b  OK \n",
            "Extracting  2nd_test/2004.02.13.21.52.39                                 \b\b\b\b 21%\b\b\b\b\b  OK \n",
            "Extracting  2nd_test/2004.02.13.22.02.39                                 \b\b\b\b 21%\b\b\b\b\b  OK \n",
            "Extracting  2nd_test/2004.02.13.22.12.39                                 \b\b\b\b 21%\b\b\b\b\b  OK \n",
            "Extracting  2nd_test/2004.02.13.22.22.39                                 \b\b\b\b 21%\b\b\b\b\b  OK \n",
            "Extracting  2nd_test/2004.02.13.22.32.39                                 \b\b\b\b 21%\b\b\b\b\b  OK \n",
            "Extracting  2nd_test/2004.02.13.22.42.39                                 \b\b\b\b 21%\b\b\b\b\b  OK \n",
            "Extracting  2nd_test/2004.02.13.22.52.39                                 \b\b\b\b 21%\b\b\b\b\b  OK \n",
            "Extracting  2nd_test/2004.02.13.23.02.39                                 \b\b\b\b 21%\b\b\b\b 22%\b\b\b\b\b  OK \n",
            "Extracting  2nd_test/2004.02.13.23.12.39                                 \b\b\b\b 22%\b\b\b\b\b  OK \n",
            "Extracting  2nd_test/2004.02.13.23.22.39                                 \b\b\b\b 22%\b\b\b\b\b  OK \n",
            "Extracting  2nd_test/2004.02.13.23.32.39                                 \b\b\b\b 22%\b\b\b\b\b  OK \n",
            "Extracting  2nd_test/2004.02.13.23.42.39                                 \b\b\b\b 22%\b\b\b\b\b  OK \n",
            "Extracting  2nd_test/2004.02.13.23.52.39                                 \b\b\b\b 22%\b\b\b\b\b  OK \n",
            "Extracting  2nd_test/2004.02.14.00.02.39                                 \b\b\b\b 22%\b\b\b\b\b  OK \n",
            "Extracting  2nd_test/2004.02.14.00.12.39                                 \b\b\b\b 22%\b\b\b\b\b  OK \n",
            "Extracting  2nd_test/2004.02.14.00.22.39                                 \b\b\b\b 22%\b\b\b\b\b  OK \n",
            "Extracting  2nd_test/2004.02.14.00.32.39                                 \b\b\b\b 22%\b\b\b\b\b  OK \n",
            "Extracting  2nd_test/2004.02.14.00.42.39                                 \b\b\b\b 22%\b\b\b\b\b  OK \n",
            "Extracting  2nd_test/2004.02.14.00.52.39                                 \b\b\b\b 23%\b\b\b\b\b  OK \n",
            "Extracting  2nd_test/2004.02.14.01.02.39                                 \b\b\b\b 23%\b\b\b\b\b  OK \n",
            "Extracting  2nd_test/2004.02.14.01.12.39                                 \b\b\b\b 23%\b\b\b\b\b  OK \n",
            "Extracting  2nd_test/2004.02.14.01.22.39                                 \b\b\b\b 23%\b\b\b\b\b  OK \n",
            "Extracting  2nd_test/2004.02.14.01.32.39                                 \b\b\b\b 23%\b\b\b\b\b  OK \n",
            "Extracting  2nd_test/2004.02.14.01.42.39                                 \b\b\b\b 23%\b\b\b\b\b  OK \n",
            "Extracting  2nd_test/2004.02.14.01.52.39                                 \b\b\b\b 23%\b\b\b\b\b  OK \n",
            "Extracting  2nd_test/2004.02.14.02.02.39                                 \b\b\b\b 23%\b\b\b\b\b  OK \n",
            "Extracting  2nd_test/2004.02.14.02.12.39                                 \b\b\b\b 23%\b\b\b\b\b  OK \n",
            "Extracting  2nd_test/2004.02.14.02.22.39                                 \b\b\b\b 23%\b\b\b\b\b  OK \n",
            "Extracting  2nd_test/2004.02.14.02.32.39                                 \b\b\b\b 24%\b\b\b\b\b  OK \n",
            "Extracting  2nd_test/2004.02.14.02.42.39                                 \b\b\b\b 24%\b\b\b\b\b  OK \n",
            "Extracting  2nd_test/2004.02.14.02.52.39                                 \b\b\b\b 24%\b\b\b\b\b  OK \n",
            "Extracting  2nd_test/2004.02.14.03.02.39                                 \b\b\b\b 24%\b\b\b\b\b  OK \n",
            "Extracting  2nd_test/2004.02.14.03.12.39                                 \b\b\b\b 24%\b\b\b\b\b  OK \n",
            "Extracting  2nd_test/2004.02.14.03.22.39                                 \b\b\b\b 24%\b\b\b\b\b  OK \n",
            "Extracting  2nd_test/2004.02.14.03.32.39                                 \b\b\b\b 24%\b\b\b\b\b  OK \n",
            "Extracting  2nd_test/2004.02.14.03.42.39                                 \b\b\b\b 24%\b\b\b\b\b  OK \n",
            "Extracting  2nd_test/2004.02.14.03.52.39                                 \b\b\b\b 24%\b\b\b\b\b  OK \n",
            "Extracting  2nd_test/2004.02.14.04.02.39                                 \b\b\b\b 24%\b\b\b\b\b  OK \n",
            "Extracting  2nd_test/2004.02.14.04.12.39                                 \b\b\b\b 25%\b\b\b\b\b  OK \n",
            "Extracting  2nd_test/2004.02.14.04.22.39                                 \b\b\b\b 25%\b\b\b\b\b  OK \n",
            "Extracting  2nd_test/2004.02.14.04.32.39                                 \b\b\b\b 25%\b\b\b\b\b  OK \n",
            "Extracting  2nd_test/2004.02.14.04.42.39                                 \b\b\b\b 25%\b\b\b\b\b  OK \n",
            "Extracting  2nd_test/2004.02.14.04.52.39                                 \b\b\b\b 25%\b\b\b\b\b  OK \n",
            "Extracting  2nd_test/2004.02.14.05.02.39                                 \b\b\b\b 25%\b\b\b\b\b  OK \n",
            "Extracting  2nd_test/2004.02.14.05.12.39                                 \b\b\b\b 25%\b\b\b\b\b  OK \n",
            "Extracting  2nd_test/2004.02.14.05.22.39                                 \b\b\b\b 25%\b\b\b\b\b  OK \n",
            "Extracting  2nd_test/2004.02.14.05.32.39                                 \b\b\b\b 25%\b\b\b\b\b  OK \n",
            "Extracting  2nd_test/2004.02.14.05.42.39                                 \b\b\b\b 25%\b\b\b\b\b  OK \n",
            "Extracting  2nd_test/2004.02.14.05.52.39                                 \b\b\b\b 26%\b\b\b\b\b  OK \n",
            "Extracting  2nd_test/2004.02.14.06.02.39                                 \b\b\b\b 26%\b\b\b\b\b  OK \n",
            "Extracting  2nd_test/2004.02.14.06.12.39                                 \b\b\b\b 26%\b\b\b\b\b  OK \n",
            "Extracting  2nd_test/2004.02.14.06.22.39                                 \b\b\b\b 26%\b\b\b\b\b  OK \n",
            "Extracting  2nd_test/2004.02.14.06.32.39                                 \b\b\b\b 26%\b\b\b\b\b  OK \n",
            "Extracting  2nd_test/2004.02.14.06.42.39                                 \b\b\b\b 26%\b\b\b\b\b  OK \n",
            "Extracting  2nd_test/2004.02.14.06.52.39                                 \b\b\b\b 26%\b\b\b\b\b  OK \n",
            "Extracting  2nd_test/2004.02.14.07.02.39                                 \b\b\b\b 26%\b\b\b\b\b  OK \n",
            "Extracting  2nd_test/2004.02.14.07.12.39                                 \b\b\b\b 26%\b\b\b\b\b  OK \n",
            "Extracting  2nd_test/2004.02.14.07.22.39                                 \b\b\b\b 26%\b\b\b\b\b  OK \n",
            "Extracting  2nd_test/2004.02.14.07.32.39                                 \b\b\b\b 27%\b\b\b\b\b  OK \n",
            "Extracting  2nd_test/2004.02.14.07.42.39                                 \b\b\b\b 27%\b\b\b\b\b  OK \n",
            "Extracting  2nd_test/2004.02.14.07.52.39                                 \b\b\b\b 27%\b\b\b\b\b  OK \n",
            "Extracting  2nd_test/2004.02.14.08.02.39                                 \b\b\b\b 27%\b\b\b\b\b  OK \n",
            "Extracting  2nd_test/2004.02.14.08.12.39                                 \b\b\b\b 27%\b\b\b\b\b  OK \n",
            "Extracting  2nd_test/2004.02.14.08.22.39                                 \b\b\b\b 27%\b\b\b\b\b  OK \n",
            "Extracting  2nd_test/2004.02.14.08.32.39                                 \b\b\b\b 27%\b\b\b\b\b  OK \n",
            "Extracting  2nd_test/2004.02.14.08.42.39                                 \b\b\b\b 27%\b\b\b\b\b  OK \n",
            "Extracting  2nd_test/2004.02.14.08.52.39                                 \b\b\b\b 27%\b\b\b\b\b  OK \n",
            "Extracting  2nd_test/2004.02.14.09.02.39                                 \b\b\b\b 27%\b\b\b\b\b  OK \n",
            "Extracting  2nd_test/2004.02.14.09.12.39                                 \b\b\b\b 28%\b\b\b\b\b  OK \n",
            "Extracting  2nd_test/2004.02.14.09.22.39                                 \b\b\b\b 28%\b\b\b\b\b  OK \n",
            "Extracting  2nd_test/2004.02.14.09.32.39                                 \b\b\b\b 28%\b\b\b\b\b  OK \n",
            "Extracting  2nd_test/2004.02.14.09.42.39                                 \b\b\b\b 28%\b\b\b\b\b  OK \n",
            "Extracting  2nd_test/2004.02.14.09.52.39                                 \b\b\b\b 28%\b\b\b\b\b  OK \n",
            "Extracting  2nd_test/2004.02.14.10.02.39                                 \b\b\b\b 28%\b\b\b\b\b  OK \n",
            "Extracting  2nd_test/2004.02.14.10.12.39                                 \b\b\b\b 28%\b\b\b\b\b  OK \n",
            "Extracting  2nd_test/2004.02.14.10.22.39                                 \b\b\b\b 28%\b\b\b\b\b  OK \n",
            "Extracting  2nd_test/2004.02.14.10.32.39                                 \b\b\b\b 28%\b\b\b\b\b  OK \n",
            "Extracting  2nd_test/2004.02.14.10.42.39                                 \b\b\b\b 28%\b\b\b\b\b  OK \n",
            "Extracting  2nd_test/2004.02.14.10.52.39                                 \b\b\b\b 29%\b\b\b\b\b  OK \n",
            "Extracting  2nd_test/2004.02.14.11.02.39                                 \b\b\b\b 29%\b\b\b\b\b  OK \n",
            "Extracting  2nd_test/2004.02.14.11.12.39                                 \b\b\b\b 29%\b\b\b\b\b  OK \n",
            "Extracting  2nd_test/2004.02.14.11.22.39                                 \b\b\b\b 29%\b\b\b\b\b  OK \n",
            "Extracting  2nd_test/2004.02.14.11.32.39                                 \b\b\b\b 29%\b\b\b\b\b  OK \n",
            "Extracting  2nd_test/2004.02.14.11.42.39                                 \b\b\b\b 29%\b\b\b\b\b  OK \n",
            "Extracting  2nd_test/2004.02.14.11.52.39                                 \b\b\b\b 29%\b\b\b\b\b  OK \n",
            "Extracting  2nd_test/2004.02.14.12.02.39                                 \b\b\b\b 29%\b\b\b\b\b  OK \n",
            "Extracting  2nd_test/2004.02.14.12.12.39                                 \b\b\b\b 29%\b\b\b\b\b  OK \n",
            "Extracting  2nd_test/2004.02.14.12.22.39                                 \b\b\b\b 29%\b\b\b\b\b  OK \n",
            "Extracting  2nd_test/2004.02.14.12.32.39                                 \b\b\b\b 30%\b\b\b\b\b  OK \n",
            "Extracting  2nd_test/2004.02.14.12.42.39                                 \b\b\b\b 30%\b\b\b\b\b  OK \n",
            "Extracting  2nd_test/2004.02.14.12.52.39                                 \b\b\b\b 30%\b\b\b\b\b  OK \n",
            "Extracting  2nd_test/2004.02.14.13.02.39                                 \b\b\b\b 30%\b\b\b\b\b  OK \n",
            "Extracting  2nd_test/2004.02.14.13.12.39                                 \b\b\b\b 30%\b\b\b\b\b  OK \n",
            "Extracting  2nd_test/2004.02.14.13.22.39                                 \b\b\b\b 30%\b\b\b\b\b  OK \n",
            "Extracting  2nd_test/2004.02.14.13.32.39                                 \b\b\b\b 30%\b\b\b\b\b  OK \n",
            "Extracting  2nd_test/2004.02.14.13.42.39                                 \b\b\b\b 30%\b\b\b\b\b  OK \n",
            "Extracting  2nd_test/2004.02.14.13.52.39                                 \b\b\b\b 30%\b\b\b\b\b  OK \n",
            "Extracting  2nd_test/2004.02.14.14.02.39                                 \b\b\b\b 30%\b\b\b\b\b  OK \n",
            "Extracting  2nd_test/2004.02.14.14.12.39                                 \b\b\b\b 31%\b\b\b\b\b  OK \n",
            "Extracting  2nd_test/2004.02.14.14.22.39                                 \b\b\b\b 31%\b\b\b\b\b  OK \n",
            "Extracting  2nd_test/2004.02.14.14.32.39                                 \b\b\b\b 31%\b\b\b\b\b  OK \n",
            "Extracting  2nd_test/2004.02.14.14.42.39                                 \b\b\b\b 31%\b\b\b\b\b  OK \n",
            "Extracting  2nd_test/2004.02.14.14.52.39                                 \b\b\b\b 31%\b\b\b\b\b  OK \n",
            "Extracting  2nd_test/2004.02.14.15.02.39                                 \b\b\b\b 31%\b\b\b\b\b  OK \n",
            "Extracting  2nd_test/2004.02.14.15.12.39                                 \b\b\b\b 31%\b\b\b\b\b  OK \n",
            "Extracting  2nd_test/2004.02.14.15.22.39                                 \b\b\b\b 31%\b\b\b\b\b  OK \n",
            "Extracting  2nd_test/2004.02.14.15.32.39                                 \b\b\b\b 31%\b\b\b\b\b  OK \n",
            "Extracting  2nd_test/2004.02.14.15.42.39                                 \b\b\b\b 31%\b\b\b\b\b  OK \n",
            "Extracting  2nd_test/2004.02.14.15.52.39                                 \b\b\b\b 32%\b\b\b\b\b  OK \n",
            "Extracting  2nd_test/2004.02.14.16.02.39                                 \b\b\b\b 32%\b\b\b\b\b  OK \n",
            "Extracting  2nd_test/2004.02.14.16.12.39                                 \b\b\b\b 32%\b\b\b\b\b  OK \n",
            "Extracting  2nd_test/2004.02.14.16.22.39                                 \b\b\b\b 32%\b\b\b\b\b  OK \n",
            "Extracting  2nd_test/2004.02.14.16.32.39                                 \b\b\b\b 32%\b\b\b\b\b  OK \n",
            "Extracting  2nd_test/2004.02.14.16.42.39                                 \b\b\b\b 32%\b\b\b\b\b  OK \n",
            "Extracting  2nd_test/2004.02.14.16.52.39                                 \b\b\b\b 32%\b\b\b\b\b  OK \n",
            "Extracting  2nd_test/2004.02.14.17.02.39                                 \b\b\b\b 32%\b\b\b\b\b  OK \n",
            "Extracting  2nd_test/2004.02.14.17.12.39                                 \b\b\b\b 32%\b\b\b\b\b  OK \n",
            "Extracting  2nd_test/2004.02.14.17.22.39                                 \b\b\b\b 32%\b\b\b\b\b  OK \n",
            "Extracting  2nd_test/2004.02.14.17.32.39                                 \b\b\b\b 33%\b\b\b\b\b  OK \n",
            "Extracting  2nd_test/2004.02.14.17.42.39                                 \b\b\b\b 33%\b\b\b\b\b  OK \n",
            "Extracting  2nd_test/2004.02.14.17.52.39                                 \b\b\b\b 33%\b\b\b\b\b  OK \n",
            "Extracting  2nd_test/2004.02.14.18.02.39                                 \b\b\b\b 33%\b\b\b\b\b  OK \n",
            "Extracting  2nd_test/2004.02.14.18.12.39                                 \b\b\b\b 33%\b\b\b\b\b  OK \n",
            "Extracting  2nd_test/2004.02.14.18.22.39                                 \b\b\b\b 33%\b\b\b\b\b  OK \n",
            "Extracting  2nd_test/2004.02.14.18.32.39                                 \b\b\b\b 33%\b\b\b\b\b  OK \n",
            "Extracting  2nd_test/2004.02.14.18.42.39                                 \b\b\b\b 33%\b\b\b\b\b  OK \n",
            "Extracting  2nd_test/2004.02.14.18.52.39                                 \b\b\b\b 33%\b\b\b\b\b  OK \n",
            "Extracting  2nd_test/2004.02.14.19.02.39                                 \b\b\b\b 33%\b\b\b\b\b  OK \n",
            "Extracting  2nd_test/2004.02.14.19.12.39                                 \b\b\b\b 34%\b\b\b\b\b  OK \n",
            "Extracting  2nd_test/2004.02.14.19.22.39                                 \b\b\b\b 34%\b\b\b\b\b  OK \n",
            "Extracting  2nd_test/2004.02.14.19.32.39                                 \b\b\b\b 34%\b\b\b\b\b  OK \n",
            "Extracting  2nd_test/2004.02.14.19.42.39                                 \b\b\b\b 34%\b\b\b\b\b  OK \n",
            "Extracting  2nd_test/2004.02.14.19.52.39                                 \b\b\b\b 34%\b\b\b\b\b  OK \n",
            "Extracting  2nd_test/2004.02.14.20.02.39                                 \b\b\b\b 34%\b\b\b\b\b  OK \n",
            "Extracting  2nd_test/2004.02.14.20.12.39                                 \b\b\b\b 34%\b\b\b\b\b  OK \n",
            "Extracting  2nd_test/2004.02.14.20.22.39                                 \b\b\b\b 34%\b\b\b\b\b  OK \n",
            "Extracting  2nd_test/2004.02.14.20.32.39                                 \b\b\b\b 34%\b\b\b\b\b  OK \n",
            "Extracting  2nd_test/2004.02.14.20.42.39                                 \b\b\b\b 34%\b\b\b\b\b  OK \n",
            "Extracting  2nd_test/2004.02.14.20.52.39                                 \b\b\b\b 35%\b\b\b\b\b  OK \n",
            "Extracting  2nd_test/2004.02.14.21.02.39                                 \b\b\b\b 35%\b\b\b\b\b  OK \n",
            "Extracting  2nd_test/2004.02.14.21.12.39                                 \b\b\b\b 35%\b\b\b\b\b  OK \n",
            "Extracting  2nd_test/2004.02.14.21.22.39                                 \b\b\b\b 35%\b\b\b\b\b  OK \n",
            "Extracting  2nd_test/2004.02.14.21.32.39                                 \b\b\b\b 35%\b\b\b\b\b  OK \n",
            "Extracting  2nd_test/2004.02.14.21.42.39                                 \b\b\b\b 35%\b\b\b\b\b  OK \n",
            "Extracting  2nd_test/2004.02.14.21.52.39                                 \b\b\b\b 35%\b\b\b\b\b  OK \n",
            "Extracting  2nd_test/2004.02.14.22.02.39                                 \b\b\b\b 35%\b\b\b\b\b  OK \n",
            "Extracting  2nd_test/2004.02.14.22.12.39                                 \b\b\b\b 35%\b\b\b\b\b  OK \n",
            "Extracting  2nd_test/2004.02.14.22.22.39                                 \b\b\b\b 35%\b\b\b\b\b  OK \n",
            "Extracting  2nd_test/2004.02.14.22.32.39                                 \b\b\b\b 36%\b\b\b\b\b  OK \n",
            "Extracting  2nd_test/2004.02.14.22.42.39                                 \b\b\b\b 36%\b\b\b\b\b  OK \n",
            "Extracting  2nd_test/2004.02.14.22.52.39                                 \b\b\b\b 36%\b\b\b\b\b  OK \n",
            "Extracting  2nd_test/2004.02.14.23.02.39                                 \b\b\b\b 36%\b\b\b\b\b  OK \n",
            "Extracting  2nd_test/2004.02.14.23.12.39                                 \b\b\b\b 36%\b\b\b\b\b  OK \n",
            "Extracting  2nd_test/2004.02.14.23.22.39                                 \b\b\b\b 36%\b\b\b\b\b  OK \n",
            "Extracting  2nd_test/2004.02.14.23.32.39                                 \b\b\b\b 36%\b\b\b\b\b  OK \n",
            "Extracting  2nd_test/2004.02.14.23.42.39                                 \b\b\b\b 36%\b\b\b\b\b  OK \n",
            "Extracting  2nd_test/2004.02.14.23.52.39                                 \b\b\b\b 36%\b\b\b\b\b  OK \n",
            "Extracting  2nd_test/2004.02.15.00.02.39                                 \b\b\b\b 36%\b\b\b\b\b  OK \n",
            "Extracting  2nd_test/2004.02.15.00.12.39                                 \b\b\b\b 37%\b\b\b\b\b  OK \n",
            "Extracting  2nd_test/2004.02.15.00.22.39                                 \b\b\b\b 37%\b\b\b\b\b  OK \n",
            "Extracting  2nd_test/2004.02.15.00.32.39                                 \b\b\b\b 37%\b\b\b\b\b  OK \n",
            "Extracting  2nd_test/2004.02.15.00.42.39                                 \b\b\b\b 37%\b\b\b\b\b  OK \n",
            "Extracting  2nd_test/2004.02.15.00.52.39                                 \b\b\b\b 37%\b\b\b\b\b  OK \n",
            "Extracting  2nd_test/2004.02.15.01.02.39                                 \b\b\b\b 37%\b\b\b\b\b  OK \n",
            "Extracting  2nd_test/2004.02.15.01.12.39                                 \b\b\b\b 37%\b\b\b\b\b  OK \n",
            "Extracting  2nd_test/2004.02.15.01.22.39                                 \b\b\b\b 37%\b\b\b\b\b  OK \n",
            "Extracting  2nd_test/2004.02.15.01.32.39                                 \b\b\b\b 37%\b\b\b\b\b  OK \n",
            "Extracting  2nd_test/2004.02.15.01.42.39                                 \b\b\b\b 37%\b\b\b\b\b  OK \n",
            "Extracting  2nd_test/2004.02.15.01.52.39                                 \b\b\b\b 37%\b\b\b\b 38%\b\b\b\b\b  OK \n",
            "Extracting  2nd_test/2004.02.15.02.02.39                                 \b\b\b\b 38%\b\b\b\b\b  OK \n",
            "Extracting  2nd_test/2004.02.15.02.12.39                                 \b\b\b\b 38%\b\b\b\b\b  OK \n",
            "Extracting  2nd_test/2004.02.15.02.22.39                                 \b\b\b\b 38%\b\b\b\b\b  OK \n",
            "Extracting  2nd_test/2004.02.15.02.32.39                                 \b\b\b\b 38%\b\b\b\b\b  OK \n",
            "Extracting  2nd_test/2004.02.15.02.42.39                                 \b\b\b\b 38%\b\b\b\b\b  OK \n",
            "Extracting  2nd_test/2004.02.15.02.52.39                                 \b\b\b\b 38%\b\b\b\b\b  OK \n",
            "Extracting  2nd_test/2004.02.15.03.02.39                                 \b\b\b\b 38%\b\b\b\b\b  OK \n",
            "Extracting  2nd_test/2004.02.15.03.12.39                                 \b\b\b\b 38%\b\b\b\b\b  OK \n",
            "Extracting  2nd_test/2004.02.15.03.22.39                                 \b\b\b\b 38%\b\b\b\b\b  OK \n",
            "Extracting  2nd_test/2004.02.15.03.32.39                                 \b\b\b\b 38%\b\b\b\b 39%\b\b\b\b\b  OK \n",
            "Extracting  2nd_test/2004.02.15.03.42.39                                 \b\b\b\b 39%\b\b\b\b\b  OK \n",
            "Extracting  2nd_test/2004.02.15.03.52.39                                 \b\b\b\b 39%\b\b\b\b\b  OK \n",
            "Extracting  2nd_test/2004.02.15.04.02.39                                 \b\b\b\b 39%\b\b\b\b\b  OK \n",
            "Extracting  2nd_test/2004.02.15.04.12.39                                 \b\b\b\b 39%\b\b\b\b\b  OK \n",
            "Extracting  2nd_test/2004.02.15.04.22.39                                 \b\b\b\b 39%\b\b\b\b\b  OK \n",
            "Extracting  2nd_test/2004.02.15.04.32.39                                 \b\b\b\b 39%\b\b\b\b\b  OK \n",
            "Extracting  2nd_test/2004.02.15.04.42.39                                 \b\b\b\b 39%\b\b\b\b\b  OK \n",
            "Extracting  2nd_test/2004.02.15.04.52.39                                 \b\b\b\b 39%\b\b\b\b\b  OK \n",
            "Extracting  2nd_test/2004.02.15.05.02.39                                 \b\b\b\b 39%\b\b\b\b\b  OK \n",
            "Extracting  2nd_test/2004.02.15.05.12.39                                 \b\b\b\b 39%\b\b\b\b 40%\b\b\b\b\b  OK \n",
            "Extracting  2nd_test/2004.02.15.05.22.39                                 \b\b\b\b 40%\b\b\b\b\b  OK \n",
            "Extracting  2nd_test/2004.02.15.05.32.39                                 \b\b\b\b 40%\b\b\b\b\b  OK \n",
            "Extracting  2nd_test/2004.02.15.05.42.39                                 \b\b\b\b 40%\b\b\b\b\b  OK \n",
            "Extracting  2nd_test/2004.02.15.05.52.39                                 \b\b\b\b 40%\b\b\b\b\b  OK \n",
            "Extracting  2nd_test/2004.02.15.06.02.39                                 \b\b\b\b 40%\b\b\b\b\b  OK \n",
            "Extracting  2nd_test/2004.02.15.06.12.39                                 \b\b\b\b 40%\b\b\b\b\b  OK \n",
            "Extracting  2nd_test/2004.02.15.06.22.39                                 \b\b\b\b 40%\b\b\b\b\b  OK \n",
            "Extracting  2nd_test/2004.02.15.06.32.39                                 \b\b\b\b 40%\b\b\b\b\b  OK \n",
            "Extracting  2nd_test/2004.02.15.06.42.39                                 \b\b\b\b 40%\b\b\b\b\b  OK \n",
            "Extracting  2nd_test/2004.02.15.06.52.39                                 \b\b\b\b 40%\b\b\b\b 41%\b\b\b\b\b  OK \n",
            "Extracting  2nd_test/2004.02.15.07.02.39                                 \b\b\b\b 41%\b\b\b\b\b  OK \n",
            "Extracting  2nd_test/2004.02.15.07.12.39                                 \b\b\b\b 41%\b\b\b\b\b  OK \n",
            "Extracting  2nd_test/2004.02.15.07.22.39                                 \b\b\b\b 41%\b\b\b\b\b  OK \n",
            "Extracting  2nd_test/2004.02.15.07.32.39                                 \b\b\b\b 41%\b\b\b\b\b  OK \n",
            "Extracting  2nd_test/2004.02.15.07.42.39                                 \b\b\b\b 41%\b\b\b\b\b  OK \n",
            "Extracting  2nd_test/2004.02.15.07.52.39                                 \b\b\b\b 41%\b\b\b\b\b  OK \n",
            "Extracting  2nd_test/2004.02.15.08.02.39                                 \b\b\b\b 41%\b\b\b\b\b  OK \n",
            "Extracting  2nd_test/2004.02.15.08.12.39                                 \b\b\b\b 41%\b\b\b\b\b  OK \n",
            "Extracting  2nd_test/2004.02.15.08.22.39                                 \b\b\b\b 41%\b\b\b\b\b  OK \n",
            "Extracting  2nd_test/2004.02.15.08.32.39                                 \b\b\b\b 41%\b\b\b\b 42%\b\b\b\b\b  OK \n",
            "Extracting  2nd_test/2004.02.15.08.42.39                                 \b\b\b\b 42%\b\b\b\b\b  OK \n",
            "Extracting  2nd_test/2004.02.15.08.52.39                                 \b\b\b\b 42%\b\b\b\b\b  OK \n",
            "Extracting  2nd_test/2004.02.15.09.02.39                                 \b\b\b\b 42%\b\b\b\b\b  OK \n",
            "Extracting  2nd_test/2004.02.15.09.12.39                                 \b\b\b\b 42%\b\b\b\b\b  OK \n",
            "Extracting  2nd_test/2004.02.15.09.22.39                                 \b\b\b\b 42%\b\b\b\b\b  OK \n",
            "Extracting  2nd_test/2004.02.15.09.32.39                                 \b\b\b\b 42%\b\b\b\b\b  OK \n",
            "Extracting  2nd_test/2004.02.15.09.42.39                                 \b\b\b\b 42%\b\b\b\b\b  OK \n",
            "Extracting  2nd_test/2004.02.15.09.52.39                                 \b\b\b\b 42%\b\b\b\b\b  OK \n",
            "Extracting  2nd_test/2004.02.15.10.02.39                                 \b\b\b\b 42%\b\b\b\b\b  OK \n",
            "Extracting  2nd_test/2004.02.15.10.12.39                                 \b\b\b\b 42%\b\b\b\b 43%\b\b\b\b\b  OK \n",
            "Extracting  2nd_test/2004.02.15.10.22.39                                 \b\b\b\b 43%\b\b\b\b\b  OK \n",
            "Extracting  2nd_test/2004.02.15.10.32.39                                 \b\b\b\b 43%\b\b\b\b\b  OK \n",
            "Extracting  2nd_test/2004.02.15.10.42.39                                 \b\b\b\b 43%\b\b\b\b\b  OK \n",
            "Extracting  2nd_test/2004.02.15.10.52.39                                 \b\b\b\b 43%\b\b\b\b\b  OK \n",
            "Extracting  2nd_test/2004.02.15.11.02.39                                 \b\b\b\b 43%\b\b\b\b\b  OK \n",
            "Extracting  2nd_test/2004.02.15.11.12.39                                 \b\b\b\b 43%\b\b\b\b\b  OK \n",
            "Extracting  2nd_test/2004.02.15.11.22.39                                 \b\b\b\b 43%\b\b\b\b\b  OK \n",
            "Extracting  2nd_test/2004.02.15.11.32.39                                 \b\b\b\b 43%\b\b\b\b\b  OK \n",
            "Extracting  2nd_test/2004.02.15.11.42.39                                 \b\b\b\b 43%\b\b\b\b\b  OK \n",
            "Extracting  2nd_test/2004.02.15.11.52.39                                 \b\b\b\b 43%\b\b\b\b 44%\b\b\b\b\b  OK \n",
            "Extracting  2nd_test/2004.02.15.12.02.39                                 \b\b\b\b 44%\b\b\b\b\b  OK \n",
            "Extracting  2nd_test/2004.02.15.12.12.39                                 \b\b\b\b 44%\b\b\b\b\b  OK \n",
            "Extracting  2nd_test/2004.02.15.12.22.39                                 \b\b\b\b 44%\b\b\b\b\b  OK \n",
            "Extracting  2nd_test/2004.02.15.12.32.39                                 \b\b\b\b 44%\b\b\b\b\b  OK \n",
            "Extracting  2nd_test/2004.02.15.12.42.39                                 \b\b\b\b 44%\b\b\b\b\b  OK \n",
            "Extracting  2nd_test/2004.02.15.12.52.39                                 \b\b\b\b 44%\b\b\b\b\b  OK \n",
            "Extracting  2nd_test/2004.02.15.13.02.39                                 \b\b\b\b 44%\b\b\b\b\b  OK \n",
            "Extracting  2nd_test/2004.02.15.13.12.39                                 \b\b\b\b 44%\b\b\b\b\b  OK \n",
            "Extracting  2nd_test/2004.02.15.13.22.39                                 \b\b\b\b 44%\b\b\b\b\b  OK \n",
            "Extracting  2nd_test/2004.02.15.13.32.39                                 \b\b\b\b 44%\b\b\b\b 45%\b\b\b\b\b  OK \n",
            "Extracting  2nd_test/2004.02.15.13.42.39                                 \b\b\b\b 45%\b\b\b\b\b  OK \n",
            "Extracting  2nd_test/2004.02.15.13.52.39                                 \b\b\b\b 45%\b\b\b\b\b  OK \n",
            "Extracting  2nd_test/2004.02.15.14.02.39                                 \b\b\b\b 45%\b\b\b\b\b  OK \n",
            "Extracting  2nd_test/2004.02.15.14.12.39                                 \b\b\b\b 45%\b\b\b\b\b  OK \n",
            "Extracting  2nd_test/2004.02.15.14.22.39                                 \b\b\b\b 45%\b\b\b\b\b  OK \n",
            "Extracting  2nd_test/2004.02.15.14.32.39                                 \b\b\b\b 45%\b\b\b\b\b  OK \n",
            "Extracting  2nd_test/2004.02.15.14.42.39                                 \b\b\b\b 45%\b\b\b\b\b  OK \n",
            "Extracting  2nd_test/2004.02.15.14.52.39                                 \b\b\b\b 45%\b\b\b\b\b  OK \n",
            "Extracting  2nd_test/2004.02.15.15.02.39                                 \b\b\b\b 45%\b\b\b\b\b  OK \n",
            "Extracting  2nd_test/2004.02.15.15.12.39                                 \b\b\b\b 45%\b\b\b\b 46%\b\b\b\b\b  OK \n",
            "Extracting  2nd_test/2004.02.15.15.22.39                                 \b\b\b\b 46%\b\b\b\b\b  OK \n",
            "Extracting  2nd_test/2004.02.15.15.32.39                                 \b\b\b\b 46%\b\b\b\b\b  OK \n",
            "Extracting  2nd_test/2004.02.15.15.42.39                                 \b\b\b\b 46%\b\b\b\b\b  OK \n",
            "Extracting  2nd_test/2004.02.15.15.52.39                                 \b\b\b\b 46%\b\b\b\b\b  OK \n",
            "Extracting  2nd_test/2004.02.15.16.02.39                                 \b\b\b\b 46%\b\b\b\b\b  OK \n",
            "Extracting  2nd_test/2004.02.15.16.12.39                                 \b\b\b\b 46%\b\b\b\b\b  OK \n",
            "Extracting  2nd_test/2004.02.15.16.22.39                                 \b\b\b\b 46%\b\b\b\b\b  OK \n",
            "Extracting  2nd_test/2004.02.15.16.32.39                                 \b\b\b\b 46%\b\b\b\b\b  OK \n",
            "Extracting  2nd_test/2004.02.15.16.42.39                                 \b\b\b\b 46%\b\b\b\b\b  OK \n",
            "Extracting  2nd_test/2004.02.15.16.52.39                                 \b\b\b\b 46%\b\b\b\b 47%\b\b\b\b\b  OK \n",
            "Extracting  2nd_test/2004.02.15.17.02.39                                 \b\b\b\b 47%\b\b\b\b\b  OK \n",
            "Extracting  2nd_test/2004.02.15.17.12.39                                 \b\b\b\b 47%\b\b\b\b\b  OK \n",
            "Extracting  2nd_test/2004.02.15.17.22.39                                 \b\b\b\b 47%\b\b\b\b\b  OK \n",
            "Extracting  2nd_test/2004.02.15.17.32.39                                 \b\b\b\b 47%\b\b\b\b\b  OK \n",
            "Extracting  2nd_test/2004.02.15.17.42.39                                 \b\b\b\b 47%\b\b\b\b\b  OK \n",
            "Extracting  2nd_test/2004.02.15.17.52.39                                 \b\b\b\b 47%\b\b\b\b\b  OK \n",
            "Extracting  2nd_test/2004.02.15.18.02.39                                 \b\b\b\b 47%\b\b\b\b\b  OK \n",
            "Extracting  2nd_test/2004.02.15.18.12.39                                 \b\b\b\b 47%\b\b\b\b\b  OK \n",
            "Extracting  2nd_test/2004.02.15.18.22.39                                 \b\b\b\b 47%\b\b\b\b\b  OK \n",
            "Extracting  2nd_test/2004.02.15.18.32.39                                 \b\b\b\b 47%\b\b\b\b 48%\b\b\b\b\b  OK \n",
            "Extracting  2nd_test/2004.02.15.18.42.39                                 \b\b\b\b 48%\b\b\b\b\b  OK \n",
            "Extracting  2nd_test/2004.02.15.18.52.39                                 \b\b\b\b 48%\b\b\b\b\b  OK \n",
            "Extracting  2nd_test/2004.02.15.19.02.39                                 \b\b\b\b 48%\b\b\b\b\b  OK \n",
            "Extracting  2nd_test/2004.02.15.19.12.39                                 \b\b\b\b 48%\b\b\b\b\b  OK \n",
            "Extracting  2nd_test/2004.02.15.19.22.39                                 \b\b\b\b 48%\b\b\b\b\b  OK \n",
            "Extracting  2nd_test/2004.02.15.19.32.39                                 \b\b\b\b 48%\b\b\b\b\b  OK \n",
            "Extracting  2nd_test/2004.02.15.19.42.39                                 \b\b\b\b 48%\b\b\b\b\b  OK \n",
            "Extracting  2nd_test/2004.02.15.19.52.39                                 \b\b\b\b 48%\b\b\b\b\b  OK \n",
            "Extracting  2nd_test/2004.02.15.20.02.39                                 \b\b\b\b 48%\b\b\b\b\b  OK \n",
            "Extracting  2nd_test/2004.02.15.20.12.39                                 \b\b\b\b 48%\b\b\b\b 49%\b\b\b\b\b  OK \n",
            "Extracting  2nd_test/2004.02.15.20.22.39                                 \b\b\b\b 49%\b\b\b\b\b  OK \n",
            "Extracting  2nd_test/2004.02.15.20.32.39                                 \b\b\b\b 49%\b\b\b\b\b  OK \n",
            "Extracting  2nd_test/2004.02.15.20.42.39                                 \b\b\b\b 49%\b\b\b\b\b  OK \n",
            "Extracting  2nd_test/2004.02.15.20.52.39                                 \b\b\b\b 49%\b\b\b\b\b  OK \n",
            "Extracting  2nd_test/2004.02.15.21.02.39                                 \b\b\b\b 49%\b\b\b\b\b  OK \n",
            "Extracting  2nd_test/2004.02.15.21.12.39                                 \b\b\b\b 49%\b\b\b\b\b  OK \n",
            "Extracting  2nd_test/2004.02.15.21.22.39                                 \b\b\b\b 49%\b\b\b\b\b  OK \n",
            "Extracting  2nd_test/2004.02.15.21.32.39                                 \b\b\b\b 49%\b\b\b\b\b  OK \n",
            "Extracting  2nd_test/2004.02.15.21.42.39                                 \b\b\b\b 49%\b\b\b\b\b  OK \n",
            "Extracting  2nd_test/2004.02.15.21.52.39                                 \b\b\b\b 49%\b\b\b\b 50%\b\b\b\b\b  OK \n",
            "Extracting  2nd_test/2004.02.15.22.02.39                                 \b\b\b\b 50%\b\b\b\b\b  OK \n",
            "Extracting  2nd_test/2004.02.15.22.12.39                                 \b\b\b\b 50%\b\b\b\b\b  OK \n",
            "Extracting  2nd_test/2004.02.15.22.22.39                                 \b\b\b\b 50%\b\b\b\b\b  OK \n",
            "Extracting  2nd_test/2004.02.15.22.32.39                                 \b\b\b\b 50%\b\b\b\b\b  OK \n",
            "Extracting  2nd_test/2004.02.15.22.42.39                                 \b\b\b\b 50%\b\b\b\b\b  OK \n",
            "Extracting  2nd_test/2004.02.15.22.52.39                                 \b\b\b\b 50%\b\b\b\b\b  OK \n",
            "Extracting  2nd_test/2004.02.15.23.02.39                                 \b\b\b\b 50%\b\b\b\b\b  OK \n",
            "Extracting  2nd_test/2004.02.15.23.12.39                                 \b\b\b\b 50%\b\b\b\b\b  OK \n",
            "Extracting  2nd_test/2004.02.15.23.22.39                                 \b\b\b\b 50%\b\b\b\b\b  OK \n",
            "Extracting  2nd_test/2004.02.15.23.32.39                                 \b\b\b\b 50%\b\b\b\b 51%\b\b\b\b\b  OK \n",
            "Extracting  2nd_test/2004.02.15.23.42.39                                 \b\b\b\b 51%\b\b\b\b\b  OK \n",
            "Extracting  2nd_test/2004.02.15.23.52.39                                 \b\b\b\b 51%\b\b\b\b\b  OK \n",
            "Extracting  2nd_test/2004.02.16.00.02.39                                 \b\b\b\b 51%\b\b\b\b\b  OK \n",
            "Extracting  2nd_test/2004.02.16.00.12.39                                 \b\b\b\b 51%\b\b\b\b\b  OK \n",
            "Extracting  2nd_test/2004.02.16.00.22.39                                 \b\b\b\b 51%\b\b\b\b\b  OK \n",
            "Extracting  2nd_test/2004.02.16.00.32.39                                 \b\b\b\b 51%\b\b\b\b\b  OK \n",
            "Extracting  2nd_test/2004.02.16.00.42.39                                 \b\b\b\b 51%\b\b\b\b\b  OK \n",
            "Extracting  2nd_test/2004.02.16.00.52.39                                 \b\b\b\b 51%\b\b\b\b\b  OK \n",
            "Extracting  2nd_test/2004.02.16.01.02.39                                 \b\b\b\b 51%\b\b\b\b\b  OK \n",
            "Extracting  2nd_test/2004.02.16.01.12.39                                 \b\b\b\b 51%\b\b\b\b 52%\b\b\b\b\b  OK \n",
            "Extracting  2nd_test/2004.02.16.01.22.39                                 \b\b\b\b 52%\b\b\b\b\b  OK \n",
            "Extracting  2nd_test/2004.02.16.01.32.39                                 \b\b\b\b 52%\b\b\b\b\b  OK \n",
            "Extracting  2nd_test/2004.02.16.01.42.39                                 \b\b\b\b 52%\b\b\b\b\b  OK \n",
            "Extracting  2nd_test/2004.02.16.01.52.39                                 \b\b\b\b 52%\b\b\b\b\b  OK \n",
            "Extracting  2nd_test/2004.02.16.02.02.39                                 \b\b\b\b 52%\b\b\b\b\b  OK \n",
            "Extracting  2nd_test/2004.02.16.02.12.39                                 \b\b\b\b 52%\b\b\b\b\b  OK \n",
            "Extracting  2nd_test/2004.02.16.02.22.39                                 \b\b\b\b 52%\b\b\b\b\b  OK \n",
            "Extracting  2nd_test/2004.02.16.02.32.39                                 \b\b\b\b 52%\b\b\b\b\b  OK \n",
            "Extracting  2nd_test/2004.02.16.02.42.39                                 \b\b\b\b 52%\b\b\b\b\b  OK \n",
            "Extracting  2nd_test/2004.02.16.02.52.39                                 \b\b\b\b 52%\b\b\b\b 53%\b\b\b\b\b  OK \n",
            "Extracting  2nd_test/2004.02.16.03.02.39                                 \b\b\b\b 53%\b\b\b\b\b  OK \n",
            "Extracting  2nd_test/2004.02.16.03.12.39                                 \b\b\b\b 53%\b\b\b\b\b  OK \n",
            "Extracting  2nd_test/2004.02.16.03.22.39                                 \b\b\b\b 53%\b\b\b\b\b  OK \n",
            "Extracting  2nd_test/2004.02.16.03.32.39                                 \b\b\b\b 53%\b\b\b\b\b  OK \n",
            "Extracting  2nd_test/2004.02.16.03.42.39                                 \b\b\b\b 53%\b\b\b\b\b  OK \n",
            "Extracting  2nd_test/2004.02.16.03.52.39                                 \b\b\b\b 53%\b\b\b\b\b  OK \n",
            "Extracting  2nd_test/2004.02.16.04.02.39                                 \b\b\b\b 53%\b\b\b\b\b  OK \n",
            "Extracting  2nd_test/2004.02.16.04.12.39                                 \b\b\b\b 53%\b\b\b\b\b  OK \n",
            "Extracting  2nd_test/2004.02.16.04.22.39                                 \b\b\b\b 53%\b\b\b\b\b  OK \n",
            "Extracting  2nd_test/2004.02.16.04.32.39                                 \b\b\b\b 53%\b\b\b\b 54%\b\b\b\b\b  OK \n",
            "Extracting  2nd_test/2004.02.16.04.42.39                                 \b\b\b\b 54%\b\b\b\b\b  OK \n",
            "Extracting  2nd_test/2004.02.16.04.52.39                                 \b\b\b\b 54%\b\b\b\b\b  OK \n",
            "Extracting  2nd_test/2004.02.16.05.02.39                                 \b\b\b\b 54%\b\b\b\b\b  OK \n",
            "Extracting  2nd_test/2004.02.16.05.12.39                                 \b\b\b\b 54%\b\b\b\b\b  OK \n",
            "Extracting  2nd_test/2004.02.16.05.22.39                                 \b\b\b\b 54%\b\b\b\b\b  OK \n",
            "Extracting  2nd_test/2004.02.16.05.32.39                                 \b\b\b\b 54%\b\b\b\b\b  OK \n",
            "Extracting  2nd_test/2004.02.16.05.42.39                                 \b\b\b\b 54%\b\b\b\b\b  OK \n",
            "Extracting  2nd_test/2004.02.16.05.52.39                                 \b\b\b\b 54%\b\b\b\b\b  OK \n",
            "Extracting  2nd_test/2004.02.16.06.02.39                                 \b\b\b\b 54%\b\b\b\b\b  OK \n",
            "Extracting  2nd_test/2004.02.16.06.12.39                                 \b\b\b\b 54%\b\b\b\b 55%\b\b\b\b\b  OK \n",
            "Extracting  2nd_test/2004.02.16.06.22.39                                 \b\b\b\b 55%\b\b\b\b\b  OK \n",
            "Extracting  2nd_test/2004.02.16.06.32.39                                 \b\b\b\b 55%\b\b\b\b\b  OK \n",
            "Extracting  2nd_test/2004.02.16.06.42.39                                 \b\b\b\b 55%\b\b\b\b\b  OK \n",
            "Extracting  2nd_test/2004.02.16.06.52.39                                 \b\b\b\b 55%\b\b\b\b\b  OK \n",
            "Extracting  2nd_test/2004.02.16.07.02.39                                 \b\b\b\b 55%\b\b\b\b\b  OK \n",
            "Extracting  2nd_test/2004.02.16.07.12.39                                 \b\b\b\b 55%\b\b\b\b\b  OK \n",
            "Extracting  2nd_test/2004.02.16.07.22.39                                 \b\b\b\b 55%\b\b\b\b\b  OK \n",
            "Extracting  2nd_test/2004.02.16.07.32.39                                 \b\b\b\b 55%\b\b\b\b\b  OK \n",
            "Extracting  2nd_test/2004.02.16.07.42.39                                 \b\b\b\b 55%\b\b\b\b\b  OK \n",
            "Extracting  2nd_test/2004.02.16.07.52.39                                 \b\b\b\b 55%\b\b\b\b 56%\b\b\b\b\b  OK \n",
            "Extracting  2nd_test/2004.02.16.08.02.39                                 \b\b\b\b 56%\b\b\b\b\b  OK \n",
            "Extracting  2nd_test/2004.02.16.08.12.39                                 \b\b\b\b 56%\b\b\b\b\b  OK \n",
            "Extracting  2nd_test/2004.02.16.08.22.39                                 \b\b\b\b 56%\b\b\b\b\b  OK \n",
            "Extracting  2nd_test/2004.02.16.08.32.39                                 \b\b\b\b 56%\b\b\b\b\b  OK \n",
            "Extracting  2nd_test/2004.02.16.08.42.39                                 \b\b\b\b 56%\b\b\b\b\b  OK \n",
            "Extracting  2nd_test/2004.02.16.08.52.39                                 \b\b\b\b 56%\b\b\b\b\b  OK \n",
            "Extracting  2nd_test/2004.02.16.09.02.39                                 \b\b\b\b 56%\b\b\b\b\b  OK \n",
            "Extracting  2nd_test/2004.02.16.09.12.39                                 \b\b\b\b 56%\b\b\b\b\b  OK \n",
            "Extracting  2nd_test/2004.02.16.09.22.39                                 \b\b\b\b 56%\b\b\b\b\b  OK \n",
            "Extracting  2nd_test/2004.02.16.09.32.39                                 \b\b\b\b 56%\b\b\b\b 57%\b\b\b\b\b  OK \n",
            "Extracting  2nd_test/2004.02.16.09.42.39                                 \b\b\b\b 57%\b\b\b\b\b  OK \n",
            "Extracting  2nd_test/2004.02.16.09.52.39                                 \b\b\b\b 57%\b\b\b\b\b  OK \n",
            "Extracting  2nd_test/2004.02.16.10.02.39                                 \b\b\b\b 57%\b\b\b\b\b  OK \n",
            "Extracting  2nd_test/2004.02.16.10.12.39                                 \b\b\b\b 57%\b\b\b\b\b  OK \n",
            "Extracting  2nd_test/2004.02.16.10.22.39                                 \b\b\b\b 57%\b\b\b\b\b  OK \n",
            "Extracting  2nd_test/2004.02.16.10.32.39                                 \b\b\b\b 57%\b\b\b\b\b  OK \n",
            "Extracting  2nd_test/2004.02.16.10.42.39                                 \b\b\b\b 57%\b\b\b\b\b  OK \n",
            "Extracting  2nd_test/2004.02.16.10.52.39                                 \b\b\b\b 57%\b\b\b\b\b  OK \n",
            "Extracting  2nd_test/2004.02.16.11.02.39                                 \b\b\b\b 57%\b\b\b\b\b  OK \n",
            "Extracting  2nd_test/2004.02.16.11.12.39                                 \b\b\b\b 57%\b\b\b\b 58%\b\b\b\b\b  OK \n",
            "Extracting  2nd_test/2004.02.16.11.22.39                                 \b\b\b\b 58%\b\b\b\b\b  OK \n",
            "Extracting  2nd_test/2004.02.16.11.32.39                                 \b\b\b\b 58%\b\b\b\b\b  OK \n",
            "Extracting  2nd_test/2004.02.16.11.42.39                                 \b\b\b\b 58%\b\b\b\b\b  OK \n",
            "Extracting  2nd_test/2004.02.16.11.52.39                                 \b\b\b\b 58%\b\b\b\b\b  OK \n",
            "Extracting  2nd_test/2004.02.16.12.02.39                                 \b\b\b\b 58%\b\b\b\b\b  OK \n",
            "Extracting  2nd_test/2004.02.16.12.12.39                                 \b\b\b\b 58%\b\b\b\b\b  OK \n",
            "Extracting  2nd_test/2004.02.16.12.22.39                                 \b\b\b\b 58%\b\b\b\b\b  OK \n",
            "Extracting  2nd_test/2004.02.16.12.32.39                                 \b\b\b\b 58%\b\b\b\b\b  OK \n",
            "Extracting  2nd_test/2004.02.16.12.42.39                                 \b\b\b\b 58%\b\b\b\b\b  OK \n",
            "Extracting  2nd_test/2004.02.16.12.52.39                                 \b\b\b\b 58%\b\b\b\b 59%\b\b\b\b\b  OK \n",
            "Extracting  2nd_test/2004.02.16.13.02.39                                 \b\b\b\b 59%\b\b\b\b\b  OK \n",
            "Extracting  2nd_test/2004.02.16.13.12.39                                 \b\b\b\b 59%\b\b\b\b\b  OK \n",
            "Extracting  2nd_test/2004.02.16.13.22.39                                 \b\b\b\b 59%\b\b\b\b\b  OK \n",
            "Extracting  2nd_test/2004.02.16.13.32.39                                 \b\b\b\b 59%\b\b\b\b\b  OK \n",
            "Extracting  2nd_test/2004.02.16.13.42.39                                 \b\b\b\b 59%\b\b\b\b\b  OK \n",
            "Extracting  2nd_test/2004.02.16.13.52.39                                 \b\b\b\b 59%\b\b\b\b\b  OK \n",
            "Extracting  2nd_test/2004.02.16.14.02.39                                 \b\b\b\b 59%\b\b\b\b\b  OK \n",
            "Extracting  2nd_test/2004.02.16.14.12.39                                 \b\b\b\b 59%\b\b\b\b\b  OK \n",
            "Extracting  2nd_test/2004.02.16.14.22.39                                 \b\b\b\b 59%\b\b\b\b\b  OK \n",
            "Extracting  2nd_test/2004.02.16.14.32.39                                 \b\b\b\b 59%\b\b\b\b 60%\b\b\b\b\b  OK \n",
            "Extracting  2nd_test/2004.02.16.14.42.39                                 \b\b\b\b 60%\b\b\b\b\b  OK \n",
            "Extracting  2nd_test/2004.02.16.14.52.39                                 \b\b\b\b 60%\b\b\b\b\b  OK \n",
            "Extracting  2nd_test/2004.02.16.15.02.39                                 \b\b\b\b 60%\b\b\b\b\b  OK \n",
            "Extracting  2nd_test/2004.02.16.15.12.39                                 \b\b\b\b 60%\b\b\b\b\b  OK \n",
            "Extracting  2nd_test/2004.02.16.15.22.39                                 \b\b\b\b 60%\b\b\b\b\b  OK \n",
            "Extracting  2nd_test/2004.02.16.15.32.39                                 \b\b\b\b 60%\b\b\b\b\b  OK \n",
            "Extracting  2nd_test/2004.02.16.15.42.39                                 \b\b\b\b 60%\b\b\b\b\b  OK \n",
            "Extracting  2nd_test/2004.02.16.15.52.39                                 \b\b\b\b 60%\b\b\b\b\b  OK \n",
            "Extracting  2nd_test/2004.02.16.16.02.39                                 \b\b\b\b 60%\b\b\b\b\b  OK \n",
            "Extracting  2nd_test/2004.02.16.16.12.39                                 \b\b\b\b 60%\b\b\b\b 61%\b\b\b\b\b  OK \n",
            "Extracting  2nd_test/2004.02.16.16.22.39                                 \b\b\b\b 61%\b\b\b\b\b  OK \n",
            "Extracting  2nd_test/2004.02.16.16.32.39                                 \b\b\b\b 61%\b\b\b\b\b  OK \n",
            "Extracting  2nd_test/2004.02.16.16.42.39                                 \b\b\b\b 61%\b\b\b\b\b  OK \n",
            "Extracting  2nd_test/2004.02.16.16.52.39                                 \b\b\b\b 61%\b\b\b\b\b  OK \n",
            "Extracting  2nd_test/2004.02.16.17.02.39                                 \b\b\b\b 61%\b\b\b\b\b  OK \n",
            "Extracting  2nd_test/2004.02.16.17.12.39                                 \b\b\b\b 61%\b\b\b\b\b  OK \n",
            "Extracting  2nd_test/2004.02.16.17.22.39                                 \b\b\b\b 61%\b\b\b\b\b  OK \n",
            "Extracting  2nd_test/2004.02.16.17.32.39                                 \b\b\b\b 61%\b\b\b\b\b  OK \n",
            "Extracting  2nd_test/2004.02.16.17.42.39                                 \b\b\b\b 61%\b\b\b\b\b  OK \n",
            "Extracting  2nd_test/2004.02.16.17.52.39                                 \b\b\b\b 61%\b\b\b\b 62%\b\b\b\b\b  OK \n",
            "Extracting  2nd_test/2004.02.16.18.02.39                                 \b\b\b\b 62%\b\b\b\b\b  OK \n",
            "Extracting  2nd_test/2004.02.16.18.12.39                                 \b\b\b\b 62%\b\b\b\b\b  OK \n",
            "Extracting  2nd_test/2004.02.16.18.22.39                                 \b\b\b\b 62%\b\b\b\b\b  OK \n",
            "Extracting  2nd_test/2004.02.16.18.32.39                                 \b\b\b\b 62%\b\b\b\b\b  OK \n",
            "Extracting  2nd_test/2004.02.16.18.42.39                                 \b\b\b\b 62%\b\b\b\b\b  OK \n",
            "Extracting  2nd_test/2004.02.16.18.52.39                                 \b\b\b\b 62%\b\b\b\b\b  OK \n",
            "Extracting  2nd_test/2004.02.16.19.02.39                                 \b\b\b\b 62%\b\b\b\b\b  OK \n",
            "Extracting  2nd_test/2004.02.16.19.12.39                                 \b\b\b\b 62%\b\b\b\b\b  OK \n",
            "Extracting  2nd_test/2004.02.16.19.22.39                                 \b\b\b\b 62%\b\b\b\b\b  OK \n",
            "Extracting  2nd_test/2004.02.16.19.32.39                                 \b\b\b\b 63%\b\b\b\b\b  OK \n",
            "Extracting  2nd_test/2004.02.16.19.42.39                                 \b\b\b\b 63%\b\b\b\b\b  OK \n",
            "Extracting  2nd_test/2004.02.16.19.52.39                                 \b\b\b\b 63%\b\b\b\b\b  OK \n",
            "Extracting  2nd_test/2004.02.16.20.02.39                                 \b\b\b\b 63%\b\b\b\b\b  OK \n",
            "Extracting  2nd_test/2004.02.16.20.12.39                                 \b\b\b\b 63%\b\b\b\b\b  OK \n",
            "Extracting  2nd_test/2004.02.16.20.22.39                                 \b\b\b\b 63%\b\b\b\b\b  OK \n",
            "Extracting  2nd_test/2004.02.16.20.32.39                                 \b\b\b\b 63%\b\b\b\b\b  OK \n",
            "Extracting  2nd_test/2004.02.16.20.42.39                                 \b\b\b\b 63%\b\b\b\b\b  OK \n",
            "Extracting  2nd_test/2004.02.16.20.52.39                                 \b\b\b\b 63%\b\b\b\b\b  OK \n",
            "Extracting  2nd_test/2004.02.16.21.02.39                                 \b\b\b\b 63%\b\b\b\b\b  OK \n",
            "Extracting  2nd_test/2004.02.16.21.12.39                                 \b\b\b\b 64%\b\b\b\b\b  OK \n",
            "Extracting  2nd_test/2004.02.16.21.22.39                                 \b\b\b\b 64%\b\b\b\b\b  OK \n",
            "Extracting  2nd_test/2004.02.16.21.32.39                                 \b\b\b\b 64%\b\b\b\b\b  OK \n",
            "Extracting  2nd_test/2004.02.16.21.42.39                                 \b\b\b\b 64%\b\b\b\b\b  OK \n",
            "Extracting  2nd_test/2004.02.16.21.52.39                                 \b\b\b\b 64%\b\b\b\b\b  OK \n",
            "Extracting  2nd_test/2004.02.16.22.02.39                                 \b\b\b\b 64%\b\b\b\b\b  OK \n",
            "Extracting  2nd_test/2004.02.16.22.12.39                                 \b\b\b\b 64%\b\b\b\b\b  OK \n",
            "Extracting  2nd_test/2004.02.16.22.22.39                                 \b\b\b\b 64%\b\b\b\b\b  OK \n",
            "Extracting  2nd_test/2004.02.16.22.32.39                                 \b\b\b\b 64%\b\b\b\b\b  OK \n",
            "Extracting  2nd_test/2004.02.16.22.42.39                                 \b\b\b\b 64%\b\b\b\b\b  OK \n",
            "Extracting  2nd_test/2004.02.16.22.52.39                                 \b\b\b\b 65%\b\b\b\b\b  OK \n",
            "Extracting  2nd_test/2004.02.16.23.02.39                                 \b\b\b\b 65%\b\b\b\b\b  OK \n",
            "Extracting  2nd_test/2004.02.16.23.12.39                                 \b\b\b\b 65%\b\b\b\b\b  OK \n",
            "Extracting  2nd_test/2004.02.16.23.22.39                                 \b\b\b\b 65%\b\b\b\b\b  OK \n",
            "Extracting  2nd_test/2004.02.16.23.32.39                                 \b\b\b\b 65%\b\b\b\b\b  OK \n",
            "Extracting  2nd_test/2004.02.16.23.42.39                                 \b\b\b\b 65%\b\b\b\b\b  OK \n",
            "Extracting  2nd_test/2004.02.16.23.52.39                                 \b\b\b\b 65%\b\b\b\b\b  OK \n",
            "Extracting  2nd_test/2004.02.17.00.02.39                                 \b\b\b\b 65%\b\b\b\b\b  OK \n",
            "Extracting  2nd_test/2004.02.17.00.12.39                                 \b\b\b\b 65%\b\b\b\b\b  OK \n",
            "Extracting  2nd_test/2004.02.17.00.22.39                                 \b\b\b\b 65%\b\b\b\b\b  OK \n",
            "Extracting  2nd_test/2004.02.17.00.32.39                                 \b\b\b\b 66%\b\b\b\b\b  OK \n",
            "Extracting  2nd_test/2004.02.17.00.42.39                                 \b\b\b\b 66%\b\b\b\b\b  OK \n",
            "Extracting  2nd_test/2004.02.17.00.52.39                                 \b\b\b\b 66%\b\b\b\b\b  OK \n",
            "Extracting  2nd_test/2004.02.17.01.02.39                                 \b\b\b\b 66%\b\b\b\b\b  OK \n",
            "Extracting  2nd_test/2004.02.17.01.12.39                                 \b\b\b\b 66%\b\b\b\b\b  OK \n",
            "Extracting  2nd_test/2004.02.17.01.22.39                                 \b\b\b\b 66%\b\b\b\b\b  OK \n",
            "Extracting  2nd_test/2004.02.17.01.32.39                                 \b\b\b\b 66%\b\b\b\b\b  OK \n",
            "Extracting  2nd_test/2004.02.17.01.42.39                                 \b\b\b\b 66%\b\b\b\b\b  OK \n",
            "Extracting  2nd_test/2004.02.17.01.52.39                                 \b\b\b\b 66%\b\b\b\b\b  OK \n",
            "Extracting  2nd_test/2004.02.17.02.02.39                                 \b\b\b\b 66%\b\b\b\b 67%\b\b\b\b\b  OK \n",
            "Extracting  2nd_test/2004.02.17.02.12.39                                 \b\b\b\b 67%\b\b\b\b\b  OK \n",
            "Extracting  2nd_test/2004.02.17.02.22.39                                 \b\b\b\b 67%\b\b\b\b\b  OK \n",
            "Extracting  2nd_test/2004.02.17.02.32.39                                 \b\b\b\b 67%\b\b\b\b\b  OK \n",
            "Extracting  2nd_test/2004.02.17.02.42.39                                 \b\b\b\b 67%\b\b\b\b\b  OK \n",
            "Extracting  2nd_test/2004.02.17.02.52.39                                 \b\b\b\b 67%\b\b\b\b\b  OK \n",
            "Extracting  2nd_test/2004.02.17.03.02.39                                 \b\b\b\b 67%\b\b\b\b\b  OK \n",
            "Extracting  2nd_test/2004.02.17.03.12.39                                 \b\b\b\b 67%\b\b\b\b\b  OK \n",
            "Extracting  2nd_test/2004.02.17.03.22.39                                 \b\b\b\b 67%\b\b\b\b\b  OK \n",
            "Extracting  2nd_test/2004.02.17.03.32.39                                 \b\b\b\b 67%\b\b\b\b\b  OK \n",
            "Extracting  2nd_test/2004.02.17.03.42.39                                 \b\b\b\b 67%\b\b\b\b 68%\b\b\b\b\b  OK \n",
            "Extracting  2nd_test/2004.02.17.03.52.39                                 \b\b\b\b 68%\b\b\b\b\b  OK \n",
            "Extracting  2nd_test/2004.02.17.04.02.39                                 \b\b\b\b 68%\b\b\b\b\b  OK \n",
            "Extracting  2nd_test/2004.02.17.04.12.39                                 \b\b\b\b 68%\b\b\b\b\b  OK \n",
            "Extracting  2nd_test/2004.02.17.04.22.39                                 \b\b\b\b 68%\b\b\b\b\b  OK \n",
            "Extracting  2nd_test/2004.02.17.04.32.39                                 \b\b\b\b 68%\b\b\b\b\b  OK \n",
            "Extracting  2nd_test/2004.02.17.04.42.39                                 \b\b\b\b 68%\b\b\b\b\b  OK \n",
            "Extracting  2nd_test/2004.02.17.04.52.39                                 \b\b\b\b 68%\b\b\b\b\b  OK \n",
            "Extracting  2nd_test/2004.02.17.05.02.39                                 \b\b\b\b 68%\b\b\b\b\b  OK \n",
            "Extracting  2nd_test/2004.02.17.05.12.39                                 \b\b\b\b 68%\b\b\b\b\b  OK \n",
            "Extracting  2nd_test/2004.02.17.05.22.39                                 \b\b\b\b 68%\b\b\b\b 69%\b\b\b\b\b  OK \n",
            "Extracting  2nd_test/2004.02.17.05.32.39                                 \b\b\b\b 69%\b\b\b\b\b  OK \n",
            "Extracting  2nd_test/2004.02.17.05.42.39                                 \b\b\b\b 69%\b\b\b\b\b  OK \n",
            "Extracting  2nd_test/2004.02.17.05.52.39                                 \b\b\b\b 69%\b\b\b\b\b  OK \n",
            "Extracting  2nd_test/2004.02.17.06.02.39                                 \b\b\b\b 69%\b\b\b\b\b  OK \n",
            "Extracting  2nd_test/2004.02.17.06.12.39                                 \b\b\b\b 69%\b\b\b\b\b  OK \n",
            "Extracting  2nd_test/2004.02.17.06.22.39                                 \b\b\b\b 69%\b\b\b\b\b  OK \n",
            "Extracting  2nd_test/2004.02.17.06.32.39                                 \b\b\b\b 69%\b\b\b\b\b  OK \n",
            "Extracting  2nd_test/2004.02.17.06.42.39                                 \b\b\b\b 69%\b\b\b\b\b  OK \n",
            "Extracting  2nd_test/2004.02.17.06.52.39                                 \b\b\b\b 69%\b\b\b\b\b  OK \n",
            "Extracting  2nd_test/2004.02.17.07.02.39                                 \b\b\b\b 69%\b\b\b\b 70%\b\b\b\b\b  OK \n",
            "Extracting  2nd_test/2004.02.17.07.12.39                                 \b\b\b\b 70%\b\b\b\b\b  OK \n",
            "Extracting  2nd_test/2004.02.17.07.22.39                                 \b\b\b\b 70%\b\b\b\b\b  OK \n",
            "Extracting  2nd_test/2004.02.17.07.32.39                                 \b\b\b\b 70%\b\b\b\b\b  OK \n",
            "Extracting  2nd_test/2004.02.17.07.42.39                                 \b\b\b\b 70%\b\b\b\b\b  OK \n",
            "Extracting  2nd_test/2004.02.17.07.52.39                                 \b\b\b\b 70%\b\b\b\b\b  OK \n",
            "Extracting  2nd_test/2004.02.17.08.02.39                                 \b\b\b\b 70%\b\b\b\b\b  OK \n",
            "Extracting  2nd_test/2004.02.17.08.12.39                                 \b\b\b\b 70%\b\b\b\b\b  OK \n",
            "Extracting  2nd_test/2004.02.17.08.22.39                                 \b\b\b\b 70%\b\b\b\b\b  OK \n",
            "Extracting  2nd_test/2004.02.17.08.32.39                                 \b\b\b\b 70%\b\b\b\b\b  OK \n",
            "Extracting  2nd_test/2004.02.17.08.42.39                                 \b\b\b\b 71%\b\b\b\b\b  OK \n",
            "Extracting  2nd_test/2004.02.17.08.52.39                                 \b\b\b\b 71%\b\b\b\b\b  OK \n",
            "Extracting  2nd_test/2004.02.17.09.02.39                                 \b\b\b\b 71%\b\b\b\b\b  OK \n",
            "Extracting  2nd_test/2004.02.17.09.12.39                                 \b\b\b\b 71%\b\b\b\b\b  OK \n",
            "Extracting  2nd_test/2004.02.17.09.22.39                                 \b\b\b\b 71%\b\b\b\b\b  OK \n",
            "Extracting  2nd_test/2004.02.17.09.32.39                                 \b\b\b\b 71%\b\b\b\b\b  OK \n",
            "Extracting  2nd_test/2004.02.17.09.42.39                                 \b\b\b\b 71%\b\b\b\b\b  OK \n",
            "Extracting  2nd_test/2004.02.17.09.52.39                                 \b\b\b\b 71%\b\b\b\b\b  OK \n",
            "Extracting  2nd_test/2004.02.17.10.02.39                                 \b\b\b\b 71%\b\b\b\b\b  OK \n",
            "Extracting  2nd_test/2004.02.17.10.12.39                                 \b\b\b\b 71%\b\b\b\b 72%\b\b\b\b\b  OK \n",
            "Extracting  2nd_test/2004.02.17.10.22.39                                 \b\b\b\b 72%\b\b\b\b\b  OK \n",
            "Extracting  2nd_test/2004.02.17.10.32.39                                 \b\b\b\b 72%\b\b\b\b\b  OK \n",
            "Extracting  2nd_test/2004.02.17.10.42.39                                 \b\b\b\b 72%\b\b\b\b\b  OK \n",
            "Extracting  2nd_test/2004.02.17.10.52.39                                 \b\b\b\b 72%\b\b\b\b\b  OK \n",
            "Extracting  2nd_test/2004.02.17.11.02.39                                 \b\b\b\b 72%\b\b\b\b\b  OK \n",
            "Extracting  2nd_test/2004.02.17.11.12.39                                 \b\b\b\b 72%\b\b\b\b\b  OK \n",
            "Extracting  2nd_test/2004.02.17.11.22.39                                 \b\b\b\b 72%\b\b\b\b\b  OK \n",
            "Extracting  2nd_test/2004.02.17.11.32.39                                 \b\b\b\b 72%\b\b\b\b\b  OK \n",
            "Extracting  2nd_test/2004.02.17.11.42.39                                 \b\b\b\b 72%\b\b\b\b\b  OK \n",
            "Extracting  2nd_test/2004.02.17.11.52.39                                 \b\b\b\b 73%\b\b\b\b\b  OK \n",
            "Extracting  2nd_test/2004.02.17.12.02.39                                 \b\b\b\b 73%\b\b\b\b\b  OK \n",
            "Extracting  2nd_test/2004.02.17.12.12.39                                 \b\b\b\b 73%\b\b\b\b\b  OK \n",
            "Extracting  2nd_test/2004.02.17.12.22.39                                 \b\b\b\b 73%\b\b\b\b\b  OK \n",
            "Extracting  2nd_test/2004.02.17.12.32.39                                 \b\b\b\b 73%\b\b\b\b\b  OK \n",
            "Extracting  2nd_test/2004.02.17.12.42.39                                 \b\b\b\b 73%\b\b\b\b\b  OK \n",
            "Extracting  2nd_test/2004.02.17.12.52.39                                 \b\b\b\b 73%\b\b\b\b\b  OK \n",
            "Extracting  2nd_test/2004.02.17.13.02.39                                 \b\b\b\b 73%\b\b\b\b\b  OK \n",
            "Extracting  2nd_test/2004.02.17.13.12.39                                 \b\b\b\b 73%\b\b\b\b\b  OK \n",
            "Extracting  2nd_test/2004.02.17.13.22.39                                 \b\b\b\b 73%\b\b\b\b 74%\b\b\b\b\b  OK \n",
            "Extracting  2nd_test/2004.02.17.13.32.39                                 \b\b\b\b 74%\b\b\b\b\b  OK \n",
            "Extracting  2nd_test/2004.02.17.13.42.39                                 \b\b\b\b 74%\b\b\b\b\b  OK \n",
            "Extracting  2nd_test/2004.02.17.13.52.39                                 \b\b\b\b 74%\b\b\b\b\b  OK \n",
            "Extracting  2nd_test/2004.02.17.14.02.39                                 \b\b\b\b 74%\b\b\b\b\b  OK \n",
            "Extracting  2nd_test/2004.02.17.14.12.39                                 \b\b\b\b 74%\b\b\b\b\b  OK \n",
            "Extracting  2nd_test/2004.02.17.14.22.39                                 \b\b\b\b 74%\b\b\b\b\b  OK \n",
            "Extracting  2nd_test/2004.02.17.14.32.39                                 \b\b\b\b 74%\b\b\b\b\b  OK \n",
            "Extracting  2nd_test/2004.02.17.14.42.39                                 \b\b\b\b 74%\b\b\b\b\b  OK \n",
            "Extracting  2nd_test/2004.02.17.14.52.39                                 \b\b\b\b 74%\b\b\b\b\b  OK \n",
            "Extracting  2nd_test/2004.02.17.15.02.39                                 \b\b\b\b 74%\b\b\b\b 75%\b\b\b\b\b  OK \n",
            "Extracting  2nd_test/2004.02.17.15.12.39                                 \b\b\b\b 75%\b\b\b\b\b  OK \n",
            "Extracting  2nd_test/2004.02.17.15.22.39                                 \b\b\b\b 75%\b\b\b\b\b  OK \n",
            "Extracting  2nd_test/2004.02.17.15.32.39                                 \b\b\b\b 75%\b\b\b\b\b  OK \n",
            "Extracting  2nd_test/2004.02.17.15.42.39                                 \b\b\b\b 75%\b\b\b\b\b  OK \n",
            "Extracting  2nd_test/2004.02.17.15.52.39                                 \b\b\b\b 75%\b\b\b\b\b  OK \n",
            "Extracting  2nd_test/2004.02.17.16.02.39                                 \b\b\b\b 75%\b\b\b\b\b  OK \n",
            "Extracting  2nd_test/2004.02.17.16.12.39                                 \b\b\b\b 75%\b\b\b\b\b  OK \n",
            "Extracting  2nd_test/2004.02.17.16.22.39                                 \b\b\b\b 75%\b\b\b\b\b  OK \n",
            "Extracting  2nd_test/2004.02.17.16.32.39                                 \b\b\b\b 75%\b\b\b\b\b  OK \n",
            "Extracting  2nd_test/2004.02.17.16.42.39                                 \b\b\b\b 76%\b\b\b\b\b  OK \n",
            "Extracting  2nd_test/2004.02.17.16.52.39                                 \b\b\b\b 76%\b\b\b\b\b  OK \n",
            "Extracting  2nd_test/2004.02.17.17.02.39                                 \b\b\b\b 76%\b\b\b\b\b  OK \n",
            "Extracting  2nd_test/2004.02.17.17.12.39                                 \b\b\b\b 76%\b\b\b\b\b  OK \n",
            "Extracting  2nd_test/2004.02.17.17.22.39                                 \b\b\b\b 76%\b\b\b\b\b  OK \n",
            "Extracting  2nd_test/2004.02.17.17.32.39                                 \b\b\b\b 76%\b\b\b\b\b  OK \n",
            "Extracting  2nd_test/2004.02.17.17.42.39                                 \b\b\b\b 76%\b\b\b\b\b  OK \n",
            "Extracting  2nd_test/2004.02.17.17.52.39                                 \b\b\b\b 76%\b\b\b\b\b  OK \n",
            "Extracting  2nd_test/2004.02.17.18.02.39                                 \b\b\b\b 76%\b\b\b\b\b  OK \n",
            "Extracting  2nd_test/2004.02.17.18.12.39                                 \b\b\b\b 76%\b\b\b\b 77%\b\b\b\b\b  OK \n",
            "Extracting  2nd_test/2004.02.17.18.22.39                                 \b\b\b\b 77%\b\b\b\b\b  OK \n",
            "Extracting  2nd_test/2004.02.17.18.32.39                                 \b\b\b\b 77%\b\b\b\b\b  OK \n",
            "Extracting  2nd_test/2004.02.17.18.42.39                                 \b\b\b\b 77%\b\b\b\b\b  OK \n",
            "Extracting  2nd_test/2004.02.17.18.52.39                                 \b\b\b\b 77%\b\b\b\b\b  OK \n",
            "Extracting  2nd_test/2004.02.17.19.02.39                                 \b\b\b\b 77%\b\b\b\b\b  OK \n",
            "Extracting  2nd_test/2004.02.17.19.12.39                                 \b\b\b\b 77%\b\b\b\b\b  OK \n",
            "Extracting  2nd_test/2004.02.17.19.22.39                                 \b\b\b\b 77%\b\b\b\b\b  OK \n",
            "Extracting  2nd_test/2004.02.17.19.32.39                                 \b\b\b\b 77%\b\b\b\b\b  OK \n",
            "Extracting  2nd_test/2004.02.17.19.42.39                                 \b\b\b\b 77%\b\b\b\b\b  OK \n",
            "Extracting  2nd_test/2004.02.17.19.52.39                                 \b\b\b\b 77%\b\b\b\b 78%\b\b\b\b\b  OK \n",
            "Extracting  2nd_test/2004.02.17.20.02.39                                 \b\b\b\b 78%\b\b\b\b\b  OK \n",
            "Extracting  2nd_test/2004.02.17.20.12.39                                 \b\b\b\b 78%\b\b\b\b\b  OK \n",
            "Extracting  2nd_test/2004.02.17.20.22.39                                 \b\b\b\b 78%\b\b\b\b\b  OK \n",
            "Extracting  2nd_test/2004.02.17.20.32.39                                 \b\b\b\b 78%\b\b\b\b\b  OK \n",
            "Extracting  2nd_test/2004.02.17.20.42.39                                 \b\b\b\b 78%\b\b\b\b\b  OK \n",
            "Extracting  2nd_test/2004.02.17.20.52.39                                 \b\b\b\b 78%\b\b\b\b\b  OK \n",
            "Extracting  2nd_test/2004.02.17.21.02.39                                 \b\b\b\b 78%\b\b\b\b\b  OK \n",
            "Extracting  2nd_test/2004.02.17.21.12.39                                 \b\b\b\b 78%\b\b\b\b\b  OK \n",
            "Extracting  2nd_test/2004.02.17.21.22.39                                 \b\b\b\b 78%\b\b\b\b\b  OK \n",
            "Extracting  2nd_test/2004.02.17.21.32.39                                 \b\b\b\b 79%\b\b\b\b\b  OK \n",
            "Extracting  2nd_test/2004.02.17.21.42.39                                 \b\b\b\b 79%\b\b\b\b\b  OK \n",
            "Extracting  2nd_test/2004.02.17.21.52.39                                 \b\b\b\b 79%\b\b\b\b\b  OK \n",
            "Extracting  2nd_test/2004.02.17.22.02.39                                 \b\b\b\b 79%\b\b\b\b\b  OK \n",
            "Extracting  2nd_test/2004.02.17.22.12.39                                 \b\b\b\b 79%\b\b\b\b\b  OK \n",
            "Extracting  2nd_test/2004.02.17.22.22.39                                 \b\b\b\b 79%\b\b\b\b\b  OK \n",
            "Extracting  2nd_test/2004.02.17.22.32.39                                 \b\b\b\b 79%\b\b\b\b\b  OK \n",
            "Extracting  2nd_test/2004.02.17.22.42.39                                 \b\b\b\b 79%\b\b\b\b\b  OK \n",
            "Extracting  2nd_test/2004.02.17.22.52.39                                 \b\b\b\b 79%\b\b\b\b\b  OK \n",
            "Extracting  2nd_test/2004.02.17.23.02.39                                 \b\b\b\b 79%\b\b\b\b\b  OK \n",
            "Extracting  2nd_test/2004.02.17.23.12.39                                 \b\b\b\b 80%\b\b\b\b\b  OK \n",
            "Extracting  2nd_test/2004.02.17.23.22.39                                 \b\b\b\b 80%\b\b\b\b\b  OK \n",
            "Extracting  2nd_test/2004.02.17.23.32.39                                 \b\b\b\b 80%\b\b\b\b\b  OK \n",
            "Extracting  2nd_test/2004.02.17.23.42.39                                 \b\b\b\b 80%\b\b\b\b\b  OK \n",
            "Extracting  2nd_test/2004.02.17.23.52.39                                 \b\b\b\b 80%\b\b\b\b\b  OK \n",
            "Extracting  2nd_test/2004.02.18.00.02.39                                 \b\b\b\b 80%\b\b\b\b\b  OK \n",
            "Extracting  2nd_test/2004.02.18.00.12.39                                 \b\b\b\b 80%\b\b\b\b\b  OK \n",
            "Extracting  2nd_test/2004.02.18.00.22.39                                 \b\b\b\b 80%\b\b\b\b\b  OK \n",
            "Extracting  2nd_test/2004.02.18.00.32.39                                 \b\b\b\b 80%\b\b\b\b\b  OK \n",
            "Extracting  2nd_test/2004.02.18.00.42.39                                 \b\b\b\b 80%\b\b\b\b 81%\b\b\b\b\b  OK \n",
            "Extracting  2nd_test/2004.02.18.00.52.39                                 \b\b\b\b 81%\b\b\b\b\b  OK \n",
            "Extracting  2nd_test/2004.02.18.01.02.39                                 \b\b\b\b 81%\b\b\b\b\b  OK \n",
            "Extracting  2nd_test/2004.02.18.01.12.39                                 \b\b\b\b 81%\b\b\b\b\b  OK \n",
            "Extracting  2nd_test/2004.02.18.01.22.39                                 \b\b\b\b 81%\b\b\b\b\b  OK \n",
            "Extracting  2nd_test/2004.02.18.01.32.39                                 \b\b\b\b 81%\b\b\b\b\b  OK \n",
            "Extracting  2nd_test/2004.02.18.01.42.39                                 \b\b\b\b 81%\b\b\b\b\b  OK \n",
            "Extracting  2nd_test/2004.02.18.01.52.39                                 \b\b\b\b 81%\b\b\b\b\b  OK \n",
            "Extracting  2nd_test/2004.02.18.02.02.39                                 \b\b\b\b 81%\b\b\b\b\b  OK \n",
            "Extracting  2nd_test/2004.02.18.02.12.39                                 \b\b\b\b 81%\b\b\b\b\b  OK \n",
            "Extracting  2nd_test/2004.02.18.02.22.39                                 \b\b\b\b 81%\b\b\b\b 82%\b\b\b\b\b  OK \n",
            "Extracting  2nd_test/2004.02.18.02.32.39                                 \b\b\b\b 82%\b\b\b\b\b  OK \n",
            "Extracting  2nd_test/2004.02.18.02.42.39                                 \b\b\b\b 82%\b\b\b\b\b  OK \n",
            "Extracting  2nd_test/2004.02.18.02.52.39                                 \b\b\b\b 82%\b\b\b\b\b  OK \n",
            "Extracting  2nd_test/2004.02.18.03.02.39                                 \b\b\b\b 82%\b\b\b\b\b  OK \n",
            "Extracting  2nd_test/2004.02.18.03.12.39                                 \b\b\b\b 82%\b\b\b\b\b  OK \n",
            "Extracting  2nd_test/2004.02.18.03.22.39                                 \b\b\b\b 82%\b\b\b\b\b  OK \n",
            "Extracting  2nd_test/2004.02.18.03.32.39                                 \b\b\b\b 82%\b\b\b\b\b  OK \n",
            "Extracting  2nd_test/2004.02.18.03.42.39                                 \b\b\b\b 82%\b\b\b\b\b  OK \n",
            "Extracting  2nd_test/2004.02.18.03.52.39                                 \b\b\b\b 82%\b\b\b\b\b  OK \n",
            "Extracting  2nd_test/2004.02.18.04.02.39                                 \b\b\b\b 82%\b\b\b\b 83%\b\b\b\b\b  OK \n",
            "Extracting  2nd_test/2004.02.18.04.12.39                                 \b\b\b\b 83%\b\b\b\b\b  OK \n",
            "Extracting  2nd_test/2004.02.18.04.22.39                                 \b\b\b\b 83%\b\b\b\b\b  OK \n",
            "Extracting  2nd_test/2004.02.18.04.32.39                                 \b\b\b\b 83%\b\b\b\b\b  OK \n",
            "Extracting  2nd_test/2004.02.18.04.42.39                                 \b\b\b\b 83%\b\b\b\b\b  OK \n",
            "Extracting  2nd_test/2004.02.18.04.52.39                                 \b\b\b\b 83%\b\b\b\b\b  OK \n",
            "Extracting  2nd_test/2004.02.18.05.02.39                                 \b\b\b\b 83%\b\b\b\b\b  OK \n",
            "Extracting  2nd_test/2004.02.18.05.12.39                                 \b\b\b\b 83%\b\b\b\b\b  OK \n",
            "Extracting  2nd_test/2004.02.18.05.22.39                                 \b\b\b\b 83%\b\b\b\b\b  OK \n",
            "Extracting  2nd_test/2004.02.18.05.32.39                                 \b\b\b\b 83%\b\b\b\b\b  OK \n",
            "Extracting  2nd_test/2004.02.18.05.42.39                                 \b\b\b\b 84%\b\b\b\b\b  OK \n",
            "Extracting  2nd_test/2004.02.18.05.52.39                                 \b\b\b\b 84%\b\b\b\b\b  OK \n",
            "Extracting  2nd_test/2004.02.18.06.02.39                                 \b\b\b\b 84%\b\b\b\b\b  OK \n",
            "Extracting  2nd_test/2004.02.18.06.12.39                                 \b\b\b\b 84%\b\b\b\b\b  OK \n",
            "Extracting  2nd_test/2004.02.18.06.22.39                                 \b\b\b\b 84%\b\b\b\b\b  OK \n",
            "Extracting  2nd_test/2004.02.18.06.32.39                                 \b\b\b\b 84%\b\b\b\b\b  OK \n",
            "Extracting  2nd_test/2004.02.18.06.42.39                                 \b\b\b\b 84%\b\b\b\b\b  OK \n",
            "Extracting  2nd_test/2004.02.18.06.52.39                                 \b\b\b\b 84%\b\b\b\b\b  OK \n",
            "Extracting  2nd_test/2004.02.18.07.02.39                                 \b\b\b\b 84%\b\b\b\b\b  OK \n",
            "Extracting  2nd_test/2004.02.18.07.12.39                                 \b\b\b\b 84%\b\b\b\b 85%\b\b\b\b\b  OK \n",
            "Extracting  2nd_test/2004.02.18.07.22.39                                 \b\b\b\b 85%\b\b\b\b\b  OK \n",
            "Extracting  2nd_test/2004.02.18.07.32.39                                 \b\b\b\b 85%\b\b\b\b\b  OK \n",
            "Extracting  2nd_test/2004.02.18.07.42.39                                 \b\b\b\b 85%\b\b\b\b\b  OK \n",
            "Extracting  2nd_test/2004.02.18.07.52.39                                 \b\b\b\b 85%\b\b\b\b\b  OK \n",
            "Extracting  2nd_test/2004.02.18.08.02.39                                 \b\b\b\b 85%\b\b\b\b\b  OK \n",
            "Extracting  2nd_test/2004.02.18.08.12.39                                 \b\b\b\b 85%\b\b\b\b\b  OK \n",
            "Extracting  2nd_test/2004.02.18.08.22.39                                 \b\b\b\b 85%\b\b\b\b\b  OK \n",
            "Extracting  2nd_test/2004.02.18.08.32.39                                 \b\b\b\b 85%\b\b\b\b\b  OK \n",
            "Extracting  2nd_test/2004.02.18.08.42.39                                 \b\b\b\b 85%\b\b\b\b\b  OK \n",
            "Extracting  2nd_test/2004.02.18.08.52.39                                 \b\b\b\b 86%\b\b\b\b\b  OK \n",
            "Extracting  2nd_test/2004.02.18.09.02.39                                 \b\b\b\b 86%\b\b\b\b\b  OK \n",
            "Extracting  2nd_test/2004.02.18.09.12.39                                 \b\b\b\b 86%\b\b\b\b\b  OK \n",
            "Extracting  2nd_test/2004.02.18.09.22.39                                 \b\b\b\b 86%\b\b\b\b\b  OK \n",
            "Extracting  2nd_test/2004.02.18.09.32.39                                 \b\b\b\b 86%\b\b\b\b\b  OK \n",
            "Extracting  2nd_test/2004.02.18.09.42.39                                 \b\b\b\b 86%\b\b\b\b\b  OK \n",
            "Extracting  2nd_test/2004.02.18.09.52.39                                 \b\b\b\b 86%\b\b\b\b\b  OK \n",
            "Extracting  2nd_test/2004.02.18.10.02.39                                 \b\b\b\b 86%\b\b\b\b\b  OK \n",
            "Extracting  2nd_test/2004.02.18.10.12.39                                 \b\b\b\b 86%\b\b\b\b\b  OK \n",
            "Extracting  2nd_test/2004.02.18.10.22.39                                 \b\b\b\b 86%\b\b\b\b 87%\b\b\b\b\b  OK \n",
            "Extracting  2nd_test/2004.02.18.10.32.39                                 \b\b\b\b 87%\b\b\b\b\b  OK \n",
            "Extracting  2nd_test/2004.02.18.10.42.39                                 \b\b\b\b 87%\b\b\b\b\b  OK \n",
            "Extracting  2nd_test/2004.02.18.10.52.39                                 \b\b\b\b 87%\b\b\b\b\b  OK \n",
            "Extracting  2nd_test/2004.02.18.11.02.39                                 \b\b\b\b 87%\b\b\b\b\b  OK \n",
            "Extracting  2nd_test/2004.02.18.11.12.39                                 \b\b\b\b 87%\b\b\b\b\b  OK \n",
            "Extracting  2nd_test/2004.02.18.11.22.39                                 \b\b\b\b 87%\b\b\b\b\b  OK \n",
            "Extracting  2nd_test/2004.02.18.11.32.39                                 \b\b\b\b 87%\b\b\b\b\b  OK \n",
            "Extracting  2nd_test/2004.02.18.11.42.39                                 \b\b\b\b 87%\b\b\b\b\b  OK \n",
            "Extracting  2nd_test/2004.02.18.11.52.39                                 \b\b\b\b 87%\b\b\b\b\b  OK \n",
            "Extracting  2nd_test/2004.02.18.12.02.39                                 \b\b\b\b 88%\b\b\b\b\b  OK \n",
            "Extracting  2nd_test/2004.02.18.12.12.39                                 \b\b\b\b 88%\b\b\b\b\b  OK \n",
            "Extracting  2nd_test/2004.02.18.12.22.39                                 \b\b\b\b 88%\b\b\b\b\b  OK \n",
            "Extracting  2nd_test/2004.02.18.12.32.39                                 \b\b\b\b 88%\b\b\b\b\b  OK \n",
            "Extracting  2nd_test/2004.02.18.12.42.39                                 \b\b\b\b 88%\b\b\b\b\b  OK \n",
            "Extracting  2nd_test/2004.02.18.12.52.39                                 \b\b\b\b 88%\b\b\b\b\b  OK \n",
            "Extracting  2nd_test/2004.02.18.13.02.39                                 \b\b\b\b 88%\b\b\b\b\b  OK \n",
            "Extracting  2nd_test/2004.02.18.13.12.39                                 \b\b\b\b 88%\b\b\b\b\b  OK \n",
            "Extracting  2nd_test/2004.02.18.13.22.39                                 \b\b\b\b 88%\b\b\b\b\b  OK \n",
            "Extracting  2nd_test/2004.02.18.13.32.39                                 \b\b\b\b 88%\b\b\b\b 89%\b\b\b\b\b  OK \n",
            "Extracting  2nd_test/2004.02.18.13.42.39                                 \b\b\b\b 89%\b\b\b\b\b  OK \n",
            "Extracting  2nd_test/2004.02.18.13.52.39                                 \b\b\b\b 89%\b\b\b\b\b  OK \n",
            "Extracting  2nd_test/2004.02.18.14.02.39                                 \b\b\b\b 89%\b\b\b\b\b  OK \n",
            "Extracting  2nd_test/2004.02.18.14.12.39                                 \b\b\b\b 89%\b\b\b\b\b  OK \n",
            "Extracting  2nd_test/2004.02.18.14.22.39                                 \b\b\b\b 89%\b\b\b\b\b  OK \n",
            "Extracting  2nd_test/2004.02.18.14.32.39                                 \b\b\b\b 89%\b\b\b\b\b  OK \n",
            "Extracting  2nd_test/2004.02.18.14.42.39                                 \b\b\b\b 89%\b\b\b\b\b  OK \n",
            "Extracting  2nd_test/2004.02.18.14.52.39                                 \b\b\b\b 89%\b\b\b\b\b  OK \n",
            "Extracting  2nd_test/2004.02.18.15.02.39                                 \b\b\b\b 89%\b\b\b\b\b  OK \n",
            "Extracting  2nd_test/2004.02.18.15.12.39                                 \b\b\b\b 90%\b\b\b\b\b  OK \n",
            "Extracting  2nd_test/2004.02.18.15.22.39                                 \b\b\b\b 90%\b\b\b\b\b  OK \n",
            "Extracting  2nd_test/2004.02.18.15.32.39                                 \b\b\b\b 90%\b\b\b\b\b  OK \n",
            "Extracting  2nd_test/2004.02.18.15.42.39                                 \b\b\b\b 90%\b\b\b\b\b  OK \n",
            "Extracting  2nd_test/2004.02.18.15.52.39                                 \b\b\b\b 90%\b\b\b\b\b  OK \n",
            "Extracting  2nd_test/2004.02.18.16.02.39                                 \b\b\b\b 90%\b\b\b\b\b  OK \n",
            "Extracting  2nd_test/2004.02.18.16.12.39                                 \b\b\b\b 90%\b\b\b\b\b  OK \n",
            "Extracting  2nd_test/2004.02.18.16.22.39                                 \b\b\b\b 90%\b\b\b\b\b  OK \n",
            "Extracting  2nd_test/2004.02.18.16.32.39                                 \b\b\b\b 90%\b\b\b\b\b  OK \n",
            "Extracting  2nd_test/2004.02.18.16.42.39                                 \b\b\b\b 90%\b\b\b\b 91%\b\b\b\b\b  OK \n",
            "Extracting  2nd_test/2004.02.18.16.52.39                                 \b\b\b\b 91%\b\b\b\b\b  OK \n",
            "Extracting  2nd_test/2004.02.18.17.02.39                                 \b\b\b\b 91%\b\b\b\b\b  OK \n",
            "Extracting  2nd_test/2004.02.18.17.12.39                                 \b\b\b\b 91%\b\b\b\b\b  OK \n",
            "Extracting  2nd_test/2004.02.18.17.22.39                                 \b\b\b\b 91%\b\b\b\b\b  OK \n",
            "Extracting  2nd_test/2004.02.18.17.32.39                                 \b\b\b\b 91%\b\b\b\b\b  OK \n",
            "Extracting  2nd_test/2004.02.18.17.42.39                                 \b\b\b\b 91%\b\b\b\b\b  OK \n",
            "Extracting  2nd_test/2004.02.18.17.52.39                                 \b\b\b\b 91%\b\b\b\b\b  OK \n",
            "Extracting  2nd_test/2004.02.18.18.02.39                                 \b\b\b\b 91%\b\b\b\b\b  OK \n",
            "Extracting  2nd_test/2004.02.18.18.12.39                                 \b\b\b\b 91%\b\b\b\b\b  OK \n",
            "Extracting  2nd_test/2004.02.18.18.22.39                                 \b\b\b\b 92%\b\b\b\b\b  OK \n",
            "Extracting  2nd_test/2004.02.18.18.32.39                                 \b\b\b\b 92%\b\b\b\b\b  OK \n",
            "Extracting  2nd_test/2004.02.18.18.42.39                                 \b\b\b\b 92%\b\b\b\b\b  OK \n",
            "Extracting  2nd_test/2004.02.18.18.52.39                                 \b\b\b\b 92%\b\b\b\b\b  OK \n",
            "Extracting  2nd_test/2004.02.18.19.02.39                                 \b\b\b\b 92%\b\b\b\b\b  OK \n",
            "Extracting  2nd_test/2004.02.18.19.12.39                                 \b\b\b\b 92%\b\b\b\b\b  OK \n",
            "Extracting  2nd_test/2004.02.18.19.22.39                                 \b\b\b\b 92%\b\b\b\b\b  OK \n",
            "Extracting  2nd_test/2004.02.18.19.32.39                                 \b\b\b\b 92%\b\b\b\b\b  OK \n",
            "Extracting  2nd_test/2004.02.18.19.42.39                                 \b\b\b\b 92%\b\b\b\b\b  OK \n",
            "Extracting  2nd_test/2004.02.18.19.52.39                                 \b\b\b\b 93%\b\b\b\b\b  OK \n",
            "Extracting  2nd_test/2004.02.18.20.02.39                                 \b\b\b\b 93%\b\b\b\b\b  OK \n",
            "Extracting  2nd_test/2004.02.18.20.12.39                                 \b\b\b\b 93%\b\b\b\b\b  OK \n",
            "Extracting  2nd_test/2004.02.18.20.22.39                                 \b\b\b\b 93%\b\b\b\b\b  OK \n",
            "Extracting  2nd_test/2004.02.18.20.32.39                                 \b\b\b\b 93%\b\b\b\b\b  OK \n",
            "Extracting  2nd_test/2004.02.18.20.42.39                                 \b\b\b\b 93%\b\b\b\b\b  OK \n",
            "Extracting  2nd_test/2004.02.18.20.52.39                                 \b\b\b\b 93%\b\b\b\b\b  OK \n",
            "Extracting  2nd_test/2004.02.18.21.02.39                                 \b\b\b\b 93%\b\b\b\b\b  OK \n",
            "Extracting  2nd_test/2004.02.18.21.12.39                                 \b\b\b\b 93%\b\b\b\b\b  OK \n",
            "Extracting  2nd_test/2004.02.18.21.22.39                                 \b\b\b\b 93%\b\b\b\b 94%\b\b\b\b\b  OK \n",
            "Extracting  2nd_test/2004.02.18.21.32.39                                 \b\b\b\b 94%\b\b\b\b\b  OK \n",
            "Extracting  2nd_test/2004.02.18.21.42.39                                 \b\b\b\b 94%\b\b\b\b\b  OK \n",
            "Extracting  2nd_test/2004.02.18.21.52.39                                 \b\b\b\b 94%\b\b\b\b\b  OK \n",
            "Extracting  2nd_test/2004.02.18.22.02.39                                 \b\b\b\b 94%\b\b\b\b\b  OK \n",
            "Extracting  2nd_test/2004.02.18.22.12.39                                 \b\b\b\b 94%\b\b\b\b\b  OK \n",
            "Extracting  2nd_test/2004.02.18.22.22.39                                 \b\b\b\b 94%\b\b\b\b\b  OK \n",
            "Extracting  2nd_test/2004.02.18.22.32.39                                 \b\b\b\b 94%\b\b\b\b\b  OK \n",
            "Extracting  2nd_test/2004.02.18.22.42.39                                 \b\b\b\b 94%\b\b\b\b\b  OK \n",
            "Extracting  2nd_test/2004.02.18.22.52.39                                 \b\b\b\b 94%\b\b\b\b 95%\b\b\b\b\b  OK \n",
            "Extracting  2nd_test/2004.02.18.23.02.39                                 \b\b\b\b 95%\b\b\b\b\b  OK \n",
            "Extracting  2nd_test/2004.02.18.23.12.39                                 \b\b\b\b 95%\b\b\b\b\b  OK \n",
            "Extracting  2nd_test/2004.02.18.23.22.39                                 \b\b\b\b 95%\b\b\b\b\b  OK \n",
            "Extracting  2nd_test/2004.02.18.23.32.39                                 \b\b\b\b 95%\b\b\b\b\b  OK \n",
            "Extracting  2nd_test/2004.02.18.23.42.39                                 \b\b\b\b 95%\b\b\b\b\b  OK \n",
            "Extracting  2nd_test/2004.02.18.23.52.39                                 \b\b\b\b 95%\b\b\b\b\b  OK \n",
            "Extracting  2nd_test/2004.02.19.00.02.39                                 \b\b\b\b 95%\b\b\b\b\b  OK \n",
            "Extracting  2nd_test/2004.02.19.00.12.39                                 \b\b\b\b 95%\b\b\b\b\b  OK \n",
            "Extracting  2nd_test/2004.02.19.00.22.39                                 \b\b\b\b 95%\b\b\b\b 96%\b\b\b\b\b  OK \n",
            "Extracting  2nd_test/2004.02.19.00.32.39                                 \b\b\b\b 96%\b\b\b\b\b  OK \n",
            "Extracting  2nd_test/2004.02.19.00.42.39                                 \b\b\b\b 96%\b\b\b\b\b  OK \n",
            "Extracting  2nd_test/2004.02.19.00.52.39                                 \b\b\b\b 96%\b\b\b\b\b  OK \n",
            "Extracting  2nd_test/2004.02.19.01.02.39                                 \b\b\b\b 96%\b\b\b\b\b  OK \n",
            "Extracting  2nd_test/2004.02.19.01.12.39                                 \b\b\b\b 96%\b\b\b\b\b  OK \n",
            "Extracting  2nd_test/2004.02.19.01.22.39                                 \b\b\b\b 96%\b\b\b\b\b  OK \n",
            "Extracting  2nd_test/2004.02.19.01.32.39                                 \b\b\b\b 96%\b\b\b\b\b  OK \n",
            "Extracting  2nd_test/2004.02.19.01.42.39                                 \b\b\b\b 96%\b\b\b\b\b  OK \n",
            "Extracting  2nd_test/2004.02.19.01.52.39                                 \b\b\b\b 96%\b\b\b\b 97%\b\b\b\b\b  OK \n",
            "Extracting  2nd_test/2004.02.19.02.02.39                                 \b\b\b\b 97%\b\b\b\b\b  OK \n",
            "Extracting  2nd_test/2004.02.19.02.12.39                                 \b\b\b\b 97%\b\b\b\b\b  OK \n",
            "Extracting  2nd_test/2004.02.19.02.22.39                                 \b\b\b\b 97%\b\b\b\b\b  OK \n",
            "Extracting  2nd_test/2004.02.19.02.32.39                                 \b\b\b\b 97%\b\b\b\b\b  OK \n",
            "Extracting  2nd_test/2004.02.19.02.42.39                                 \b\b\b\b 97%\b\b\b\b\b  OK \n",
            "Extracting  2nd_test/2004.02.19.02.52.39                                 \b\b\b\b 97%\b\b\b\b\b  OK \n",
            "Extracting  2nd_test/2004.02.19.03.02.39                                 \b\b\b\b 97%\b\b\b\b\b  OK \n",
            "Extracting  2nd_test/2004.02.19.03.12.39                                 \b\b\b\b 97%\b\b\b\b\b  OK \n",
            "Extracting  2nd_test/2004.02.19.03.22.39                                 \b\b\b\b 97%\b\b\b\b 98%\b\b\b\b\b  OK \n",
            "Extracting  2nd_test/2004.02.19.03.32.39                                 \b\b\b\b 98%\b\b\b\b\b  OK \n",
            "Extracting  2nd_test/2004.02.19.03.42.39                                 \b\b\b\b 98%\b\b\b\b\b  OK \n",
            "Extracting  2nd_test/2004.02.19.03.52.39                                 \b\b\b\b 98%\b\b\b\b\b  OK \n",
            "Extracting  2nd_test/2004.02.19.04.02.39                                 \b\b\b\b 98%\b\b\b\b\b  OK \n",
            "Extracting  2nd_test/2004.02.19.04.12.39                                 \b\b\b\b 98%\b\b\b\b\b  OK \n",
            "Extracting  2nd_test/2004.02.19.04.22.39                                 \b\b\b\b 98%\b\b\b\b\b  OK \n",
            "Extracting  2nd_test/2004.02.19.04.32.39                                 \b\b\b\b 98%\b\b\b\b\b  OK \n",
            "Extracting  2nd_test/2004.02.19.04.42.39                                 \b\b\b\b 98%\b\b\b\b 99%\b\b\b\b\b  OK \n",
            "Extracting  2nd_test/2004.02.19.04.52.39                                 \b\b\b\b 99%\b\b\b\b\b  OK \n",
            "Extracting  2nd_test/2004.02.19.05.02.39                                 \b\b\b\b 99%\b\b\b\b\b  OK \n",
            "Extracting  2nd_test/2004.02.19.05.12.39                                 \b\b\b\b 99%\b\b\b\b\b  OK \n",
            "Extracting  2nd_test/2004.02.19.05.22.39                                 \b\b\b\b 99%\b\b\b\b\b  OK \n",
            "Extracting  2nd_test/2004.02.19.05.32.39                                 \b\b\b\b 99%\b\b\b\b\b  OK \n",
            "Extracting  2nd_test/2004.02.19.05.42.39                                 \b\b\b\b 99%\b\b\b\b\b  OK \n",
            "Extracting  2nd_test/2004.02.19.05.52.39                                 \b\b\b\b 99%\b\b\b\b\b  OK \n",
            "Extracting  2nd_test/2004.02.19.06.02.39                                 \b\b\b\b 99%\b\b\b\b\b  OK \n",
            "Extracting  2nd_test/2004.02.19.06.12.39                                 \b\b\b\b 99%\b\b\b\b\b  OK \n",
            "Extracting  2nd_test/2004.02.19.06.22.39                                 \b\b\b\b 99%\b\b\b\b\b  OK \n",
            "All OK\n"
          ]
        }
      ]
    },
    {
      "cell_type": "markdown",
      "id": "b411b826",
      "metadata": {
        "id": "b411b826"
      },
      "source": [
        "### Schritt 2: Entpacken der Daten"
      ]
    },
    {
      "cell_type": "markdown",
      "id": "bc5bb9a9",
      "metadata": {
        "id": "bc5bb9a9"
      },
      "source": [
        "#### Aufgabe 2.1\n",
        "Öffnen Sie die heruntergeladene zip-Datei mit dem Namen \"4.+Bearings\" (z.B. mit 7-Zip) und klicken Sie dann auf den Ordner \"4. Bearings\". Sie sollten dann die Datei \"IMS.7z\" sehen. Öffnen Sie diese zip-Datei. Sie sollten dann eine Readme-Datei sowie drei zip-Dateien mit den Namen \"1st_test\", \"2nd_test\" und \"3rd_test\" sehen. Für die Übung wird nur der kleinste Datensatz \"2nd_test\" verwendet. Entpacken Sie dazu die zip-Datei \"2nd_test\" in einen Ordner Ihrer Wahl."
      ]
    },
    {
      "cell_type": "markdown",
      "id": "042d2cce",
      "metadata": {
        "id": "042d2cce"
      },
      "source": [
        "### Schritt 3: Exploration der Daten"
      ]
    },
    {
      "cell_type": "code",
      "execution_count": 35,
      "id": "36e6f350",
      "metadata": {
        "id": "36e6f350"
      },
      "outputs": [],
      "source": [
        "import numpy as np\n",
        "import pandas as pd\n",
        "import matplotlib.pyplot as plt\n",
        "\n",
        "import os\n",
        "\n",
        "from scipy import signal\n",
        "\n",
        "from sklearn.neighbors import KNeighborsClassifier\n",
        "\n",
        "import tensorflow as tf\n",
        "from tensorflow import keras"
      ]
    },
    {
      "cell_type": "code",
      "execution_count": 36,
      "id": "1aa152bd",
      "metadata": {
        "id": "1aa152bd"
      },
      "outputs": [],
      "source": [
        "# Relevante Metadaten\n",
        "ncol = 4\n",
        "fs = 20480 # Abtastrate der Sensoren in Hz"
      ]
    },
    {
      "cell_type": "markdown",
      "id": "e965680e",
      "metadata": {
        "id": "e965680e"
      },
      "source": [
        "#### Aufgabe 3.1\n",
        "\n",
        "Der Datensatz besteht aus 984 Dateien, wobei jede dieser Dateien die Messungen aller vier\n",
        "Beschleunigungssensoren für eine Zeitdauer von einer Sekunde beinhaltet. Der Datensatz deckt die ganze Lebensdauer der Kugellager ab, d.h. am Anfang sind die Kugellager neu und es werden Messungen gemacht bis eines der vier Kugellager kaputt geht. Machen Sie sich mit dem Datensatz vertraut und beantworten Sie die folgenden Fragen, indem Sie den gegebenen Code ausführen. Wie viele Spalten und Zeilen beinhaltet eine Datei? Was bedeuten diese?"
      ]
    },
    {
      "cell_type": "code",
      "execution_count": 37,
      "id": "ea8b0f63",
      "metadata": {
        "colab": {
          "base_uri": "https://localhost:8080/",
          "height": 403
        },
        "id": "ea8b0f63",
        "outputId": "c4858b0c-5272-4726-c05d-b61897e15d0d"
      },
      "outputs": [
        {
          "output_type": "stream",
          "name": "stdout",
          "text": [
            "<class 'pandas.core.frame.DataFrame'>\n",
            "RangeIndex: 20480 entries, 0 to 20479\n",
            "Data columns (total 4 columns):\n",
            " #   Column  Non-Null Count  Dtype  \n",
            "---  ------  --------------  -----  \n",
            " 0   0       20480 non-null  float64\n",
            " 1   1       20480 non-null  float64\n",
            " 2   2       20480 non-null  float64\n",
            " 3   3       20480 non-null  float64\n",
            "dtypes: float64(4)\n",
            "memory usage: 640.1 KB\n"
          ]
        },
        {
          "output_type": "execute_result",
          "data": {
            "text/plain": [
              "       0      1      2      3\n",
              "0 -0.049 -0.071 -0.132 -0.010\n",
              "1 -0.042 -0.073 -0.007 -0.105\n",
              "2  0.015  0.000  0.007  0.000\n",
              "3 -0.051  0.020 -0.002  0.100\n",
              "4 -0.107  0.010  0.127  0.054"
            ],
            "text/html": [
              "\n",
              "  <div id=\"df-8f0a07e4-c9e3-4dd6-b70d-d6bc50c0bcca\" class=\"colab-df-container\">\n",
              "    <div>\n",
              "<style scoped>\n",
              "    .dataframe tbody tr th:only-of-type {\n",
              "        vertical-align: middle;\n",
              "    }\n",
              "\n",
              "    .dataframe tbody tr th {\n",
              "        vertical-align: top;\n",
              "    }\n",
              "\n",
              "    .dataframe thead th {\n",
              "        text-align: right;\n",
              "    }\n",
              "</style>\n",
              "<table border=\"1\" class=\"dataframe\">\n",
              "  <thead>\n",
              "    <tr style=\"text-align: right;\">\n",
              "      <th></th>\n",
              "      <th>0</th>\n",
              "      <th>1</th>\n",
              "      <th>2</th>\n",
              "      <th>3</th>\n",
              "    </tr>\n",
              "  </thead>\n",
              "  <tbody>\n",
              "    <tr>\n",
              "      <th>0</th>\n",
              "      <td>-0.049</td>\n",
              "      <td>-0.071</td>\n",
              "      <td>-0.132</td>\n",
              "      <td>-0.010</td>\n",
              "    </tr>\n",
              "    <tr>\n",
              "      <th>1</th>\n",
              "      <td>-0.042</td>\n",
              "      <td>-0.073</td>\n",
              "      <td>-0.007</td>\n",
              "      <td>-0.105</td>\n",
              "    </tr>\n",
              "    <tr>\n",
              "      <th>2</th>\n",
              "      <td>0.015</td>\n",
              "      <td>0.000</td>\n",
              "      <td>0.007</td>\n",
              "      <td>0.000</td>\n",
              "    </tr>\n",
              "    <tr>\n",
              "      <th>3</th>\n",
              "      <td>-0.051</td>\n",
              "      <td>0.020</td>\n",
              "      <td>-0.002</td>\n",
              "      <td>0.100</td>\n",
              "    </tr>\n",
              "    <tr>\n",
              "      <th>4</th>\n",
              "      <td>-0.107</td>\n",
              "      <td>0.010</td>\n",
              "      <td>0.127</td>\n",
              "      <td>0.054</td>\n",
              "    </tr>\n",
              "  </tbody>\n",
              "</table>\n",
              "</div>\n",
              "    <div class=\"colab-df-buttons\">\n",
              "\n",
              "  <div class=\"colab-df-container\">\n",
              "    <button class=\"colab-df-convert\" onclick=\"convertToInteractive('df-8f0a07e4-c9e3-4dd6-b70d-d6bc50c0bcca')\"\n",
              "            title=\"Convert this dataframe to an interactive table.\"\n",
              "            style=\"display:none;\">\n",
              "\n",
              "  <svg xmlns=\"http://www.w3.org/2000/svg\" height=\"24px\" viewBox=\"0 -960 960 960\">\n",
              "    <path d=\"M120-120v-720h720v720H120Zm60-500h600v-160H180v160Zm220 220h160v-160H400v160Zm0 220h160v-160H400v160ZM180-400h160v-160H180v160Zm440 0h160v-160H620v160ZM180-180h160v-160H180v160Zm440 0h160v-160H620v160Z\"/>\n",
              "  </svg>\n",
              "    </button>\n",
              "\n",
              "  <style>\n",
              "    .colab-df-container {\n",
              "      display:flex;\n",
              "      gap: 12px;\n",
              "    }\n",
              "\n",
              "    .colab-df-convert {\n",
              "      background-color: #E8F0FE;\n",
              "      border: none;\n",
              "      border-radius: 50%;\n",
              "      cursor: pointer;\n",
              "      display: none;\n",
              "      fill: #1967D2;\n",
              "      height: 32px;\n",
              "      padding: 0 0 0 0;\n",
              "      width: 32px;\n",
              "    }\n",
              "\n",
              "    .colab-df-convert:hover {\n",
              "      background-color: #E2EBFA;\n",
              "      box-shadow: 0px 1px 2px rgba(60, 64, 67, 0.3), 0px 1px 3px 1px rgba(60, 64, 67, 0.15);\n",
              "      fill: #174EA6;\n",
              "    }\n",
              "\n",
              "    .colab-df-buttons div {\n",
              "      margin-bottom: 4px;\n",
              "    }\n",
              "\n",
              "    [theme=dark] .colab-df-convert {\n",
              "      background-color: #3B4455;\n",
              "      fill: #D2E3FC;\n",
              "    }\n",
              "\n",
              "    [theme=dark] .colab-df-convert:hover {\n",
              "      background-color: #434B5C;\n",
              "      box-shadow: 0px 1px 3px 1px rgba(0, 0, 0, 0.15);\n",
              "      filter: drop-shadow(0px 1px 2px rgba(0, 0, 0, 0.3));\n",
              "      fill: #FFFFFF;\n",
              "    }\n",
              "  </style>\n",
              "\n",
              "    <script>\n",
              "      const buttonEl =\n",
              "        document.querySelector('#df-8f0a07e4-c9e3-4dd6-b70d-d6bc50c0bcca button.colab-df-convert');\n",
              "      buttonEl.style.display =\n",
              "        google.colab.kernel.accessAllowed ? 'block' : 'none';\n",
              "\n",
              "      async function convertToInteractive(key) {\n",
              "        const element = document.querySelector('#df-8f0a07e4-c9e3-4dd6-b70d-d6bc50c0bcca');\n",
              "        const dataTable =\n",
              "          await google.colab.kernel.invokeFunction('convertToInteractive',\n",
              "                                                    [key], {});\n",
              "        if (!dataTable) return;\n",
              "\n",
              "        const docLinkHtml = 'Like what you see? Visit the ' +\n",
              "          '<a target=\"_blank\" href=https://colab.research.google.com/notebooks/data_table.ipynb>data table notebook</a>'\n",
              "          + ' to learn more about interactive tables.';\n",
              "        element.innerHTML = '';\n",
              "        dataTable['output_type'] = 'display_data';\n",
              "        await google.colab.output.renderOutput(dataTable, element);\n",
              "        const docLink = document.createElement('div');\n",
              "        docLink.innerHTML = docLinkHtml;\n",
              "        element.appendChild(docLink);\n",
              "      }\n",
              "    </script>\n",
              "  </div>\n",
              "\n",
              "\n",
              "<div id=\"df-dbed2c60-5d9a-4fa8-bac8-fda8a1aa163a\">\n",
              "  <button class=\"colab-df-quickchart\" onclick=\"quickchart('df-dbed2c60-5d9a-4fa8-bac8-fda8a1aa163a')\"\n",
              "            title=\"Suggest charts\"\n",
              "            style=\"display:none;\">\n",
              "\n",
              "<svg xmlns=\"http://www.w3.org/2000/svg\" height=\"24px\"viewBox=\"0 0 24 24\"\n",
              "     width=\"24px\">\n",
              "    <g>\n",
              "        <path d=\"M19 3H5c-1.1 0-2 .9-2 2v14c0 1.1.9 2 2 2h14c1.1 0 2-.9 2-2V5c0-1.1-.9-2-2-2zM9 17H7v-7h2v7zm4 0h-2V7h2v10zm4 0h-2v-4h2v4z\"/>\n",
              "    </g>\n",
              "</svg>\n",
              "  </button>\n",
              "\n",
              "<style>\n",
              "  .colab-df-quickchart {\n",
              "      --bg-color: #E8F0FE;\n",
              "      --fill-color: #1967D2;\n",
              "      --hover-bg-color: #E2EBFA;\n",
              "      --hover-fill-color: #174EA6;\n",
              "      --disabled-fill-color: #AAA;\n",
              "      --disabled-bg-color: #DDD;\n",
              "  }\n",
              "\n",
              "  [theme=dark] .colab-df-quickchart {\n",
              "      --bg-color: #3B4455;\n",
              "      --fill-color: #D2E3FC;\n",
              "      --hover-bg-color: #434B5C;\n",
              "      --hover-fill-color: #FFFFFF;\n",
              "      --disabled-bg-color: #3B4455;\n",
              "      --disabled-fill-color: #666;\n",
              "  }\n",
              "\n",
              "  .colab-df-quickchart {\n",
              "    background-color: var(--bg-color);\n",
              "    border: none;\n",
              "    border-radius: 50%;\n",
              "    cursor: pointer;\n",
              "    display: none;\n",
              "    fill: var(--fill-color);\n",
              "    height: 32px;\n",
              "    padding: 0;\n",
              "    width: 32px;\n",
              "  }\n",
              "\n",
              "  .colab-df-quickchart:hover {\n",
              "    background-color: var(--hover-bg-color);\n",
              "    box-shadow: 0 1px 2px rgba(60, 64, 67, 0.3), 0 1px 3px 1px rgba(60, 64, 67, 0.15);\n",
              "    fill: var(--button-hover-fill-color);\n",
              "  }\n",
              "\n",
              "  .colab-df-quickchart-complete:disabled,\n",
              "  .colab-df-quickchart-complete:disabled:hover {\n",
              "    background-color: var(--disabled-bg-color);\n",
              "    fill: var(--disabled-fill-color);\n",
              "    box-shadow: none;\n",
              "  }\n",
              "\n",
              "  .colab-df-spinner {\n",
              "    border: 2px solid var(--fill-color);\n",
              "    border-color: transparent;\n",
              "    border-bottom-color: var(--fill-color);\n",
              "    animation:\n",
              "      spin 1s steps(1) infinite;\n",
              "  }\n",
              "\n",
              "  @keyframes spin {\n",
              "    0% {\n",
              "      border-color: transparent;\n",
              "      border-bottom-color: var(--fill-color);\n",
              "      border-left-color: var(--fill-color);\n",
              "    }\n",
              "    20% {\n",
              "      border-color: transparent;\n",
              "      border-left-color: var(--fill-color);\n",
              "      border-top-color: var(--fill-color);\n",
              "    }\n",
              "    30% {\n",
              "      border-color: transparent;\n",
              "      border-left-color: var(--fill-color);\n",
              "      border-top-color: var(--fill-color);\n",
              "      border-right-color: var(--fill-color);\n",
              "    }\n",
              "    40% {\n",
              "      border-color: transparent;\n",
              "      border-right-color: var(--fill-color);\n",
              "      border-top-color: var(--fill-color);\n",
              "    }\n",
              "    60% {\n",
              "      border-color: transparent;\n",
              "      border-right-color: var(--fill-color);\n",
              "    }\n",
              "    80% {\n",
              "      border-color: transparent;\n",
              "      border-right-color: var(--fill-color);\n",
              "      border-bottom-color: var(--fill-color);\n",
              "    }\n",
              "    90% {\n",
              "      border-color: transparent;\n",
              "      border-bottom-color: var(--fill-color);\n",
              "    }\n",
              "  }\n",
              "</style>\n",
              "\n",
              "  <script>\n",
              "    async function quickchart(key) {\n",
              "      const quickchartButtonEl =\n",
              "        document.querySelector('#' + key + ' button');\n",
              "      quickchartButtonEl.disabled = true;  // To prevent multiple clicks.\n",
              "      quickchartButtonEl.classList.add('colab-df-spinner');\n",
              "      try {\n",
              "        const charts = await google.colab.kernel.invokeFunction(\n",
              "            'suggestCharts', [key], {});\n",
              "      } catch (error) {\n",
              "        console.error('Error during call to suggestCharts:', error);\n",
              "      }\n",
              "      quickchartButtonEl.classList.remove('colab-df-spinner');\n",
              "      quickchartButtonEl.classList.add('colab-df-quickchart-complete');\n",
              "    }\n",
              "    (() => {\n",
              "      let quickchartButtonEl =\n",
              "        document.querySelector('#df-dbed2c60-5d9a-4fa8-bac8-fda8a1aa163a button');\n",
              "      quickchartButtonEl.style.display =\n",
              "        google.colab.kernel.accessAllowed ? 'block' : 'none';\n",
              "    })();\n",
              "  </script>\n",
              "</div>\n",
              "    </div>\n",
              "  </div>\n"
            ],
            "application/vnd.google.colaboratory.intrinsic+json": {
              "type": "dataframe",
              "variable_name": "df_first",
              "summary": "{\n  \"name\": \"df_first\",\n  \"rows\": 20480,\n  \"fields\": [\n    {\n      \"column\": 0,\n      \"properties\": {\n        \"dtype\": \"number\",\n        \"std\": 0.07347672493030497,\n        \"min\": -0.386,\n        \"max\": 0.454,\n        \"samples\": [\n          0.007,\n          -0.02,\n          -0.303\n        ],\n        \"num_unique_values\": 243,\n        \"semantic_type\": \"\",\n        \"description\": \"\"\n      }\n    },\n    {\n      \"column\": 1,\n      \"properties\": {\n        \"dtype\": \"number\",\n        \"std\": 0.09005567329323882,\n        \"min\": -0.513,\n        \"max\": 0.464,\n        \"samples\": [\n          -0.024,\n          -0.188,\n          -0.308\n        ],\n        \"num_unique_values\": 281,\n        \"semantic_type\": \"\",\n        \"description\": \"\"\n      }\n    },\n    {\n      \"column\": 2,\n      \"properties\": {\n        \"dtype\": \"number\",\n        \"std\": 0.10843615678854605,\n        \"min\": -0.911,\n        \"max\": 1.023,\n        \"samples\": [\n          0.454,\n          -0.427,\n          -0.017\n        ],\n        \"num_unique_values\": 381,\n        \"semantic_type\": \"\",\n        \"description\": \"\"\n      }\n    },\n    {\n      \"column\": 3,\n      \"properties\": {\n        \"dtype\": \"number\",\n        \"std\": 0.05316768826428666,\n        \"min\": -0.264,\n        \"max\": 0.193,\n        \"samples\": [\n          0.122,\n          0.149,\n          0.178\n        ],\n        \"num_unique_values\": 161,\n        \"semantic_type\": \"\",\n        \"description\": \"\"\n      }\n    }\n  ]\n}"
            }
          },
          "metadata": {},
          "execution_count": 37
        }
      ],
      "source": [
        "# Einlesen der Daten aus der ersten Datei\n",
        "\n",
        "path = \"2nd_test/\" # Dateipfad\n",
        "first_file = '2004.02.12.10.32.39' # Dateiname\n",
        "\n",
        "df_first = pd.read_csv(path + first_file, sep='\\t', header=None)\n",
        "\n",
        "\n",
        "df_first.info() # Anzeigen von Informationen über die eingelesenen Daten\n",
        "df_first.head(5) # Anzeigen der ersten 5 Zeilen des Datensatzes"
      ]
    },
    {
      "cell_type": "markdown",
      "id": "719c777b",
      "metadata": {
        "id": "719c777b"
      },
      "source": [
        "#### Lösung\n",
        "Indem Sie die nächste Zeile ausführen, können Sie die Lösung der Aufgabe laden."
      ]
    },
    {
      "cell_type": "code",
      "execution_count": 38,
      "id": "290d1996",
      "metadata": {
        "colab": {
          "base_uri": "https://localhost:8080/",
          "height": 454
        },
        "id": "290d1996",
        "outputId": "62ce366c-6354-4162-e644-1791b52f769e"
      },
      "outputs": [
        {
          "output_type": "error",
          "ename": "Exception",
          "evalue": "File `'Loesung/Loesung_3_1.py'` not found.",
          "traceback": [
            "\u001b[0;31m---------------------------------------------------------------------------\u001b[0m",
            "\u001b[0;31mOSError\u001b[0m                                   Traceback (most recent call last)",
            "\u001b[0;32m/usr/local/lib/python3.10/dist-packages/IPython/core/magics/execution.py\u001b[0m in \u001b[0;36mrun\u001b[0;34m(self, parameter_s, runner, file_finder)\u001b[0m\n\u001b[1;32m    713\u001b[0m             \u001b[0mfpath\u001b[0m \u001b[0;34m=\u001b[0m \u001b[0marg_lst\u001b[0m\u001b[0;34m[\u001b[0m\u001b[0;36m0\u001b[0m\u001b[0;34m]\u001b[0m\u001b[0;34m\u001b[0m\u001b[0;34m\u001b[0m\u001b[0m\n\u001b[0;32m--> 714\u001b[0;31m             \u001b[0mfilename\u001b[0m \u001b[0;34m=\u001b[0m \u001b[0mfile_finder\u001b[0m\u001b[0;34m(\u001b[0m\u001b[0mfpath\u001b[0m\u001b[0;34m)\u001b[0m\u001b[0;34m\u001b[0m\u001b[0;34m\u001b[0m\u001b[0m\n\u001b[0m\u001b[1;32m    715\u001b[0m         \u001b[0;32mexcept\u001b[0m \u001b[0mIndexError\u001b[0m\u001b[0;34m:\u001b[0m\u001b[0;34m\u001b[0m\u001b[0;34m\u001b[0m\u001b[0m\n",
            "\u001b[0;32m/usr/local/lib/python3.10/dist-packages/IPython/utils/path.py\u001b[0m in \u001b[0;36mget_py_filename\u001b[0;34m(name, force_win32)\u001b[0m\n\u001b[1;32m    108\u001b[0m     \u001b[0;32melse\u001b[0m\u001b[0;34m:\u001b[0m\u001b[0;34m\u001b[0m\u001b[0;34m\u001b[0m\u001b[0m\n\u001b[0;32m--> 109\u001b[0;31m         \u001b[0;32mraise\u001b[0m \u001b[0mIOError\u001b[0m\u001b[0;34m(\u001b[0m\u001b[0;34m'File `%r` not found.'\u001b[0m \u001b[0;34m%\u001b[0m \u001b[0mname\u001b[0m\u001b[0;34m)\u001b[0m\u001b[0;34m\u001b[0m\u001b[0;34m\u001b[0m\u001b[0m\n\u001b[0m\u001b[1;32m    110\u001b[0m \u001b[0;34m\u001b[0m\u001b[0m\n",
            "\u001b[0;31mOSError\u001b[0m: File `'Loesung/Loesung_3_1.py'` not found.",
            "\nDuring handling of the above exception, another exception occurred:\n",
            "\u001b[0;31mException\u001b[0m                                 Traceback (most recent call last)",
            "\u001b[0;32m<ipython-input-38-2a1ebffe6c73>\u001b[0m in \u001b[0;36m<cell line: 1>\u001b[0;34m()\u001b[0m\n\u001b[0;32m----> 1\u001b[0;31m \u001b[0mget_ipython\u001b[0m\u001b[0;34m(\u001b[0m\u001b[0;34m)\u001b[0m\u001b[0;34m.\u001b[0m\u001b[0mrun_line_magic\u001b[0m\u001b[0;34m(\u001b[0m\u001b[0;34m'run'\u001b[0m\u001b[0;34m,\u001b[0m \u001b[0;34m'Loesung/Loesung_3_1.py'\u001b[0m\u001b[0;34m)\u001b[0m\u001b[0;34m\u001b[0m\u001b[0;34m\u001b[0m\u001b[0m\n\u001b[0m",
            "\u001b[0;32m/usr/local/lib/python3.10/dist-packages/IPython/core/interactiveshell.py\u001b[0m in \u001b[0;36mrun_line_magic\u001b[0;34m(self, magic_name, line, _stack_depth)\u001b[0m\n\u001b[1;32m   2416\u001b[0m                 \u001b[0mkwargs\u001b[0m\u001b[0;34m[\u001b[0m\u001b[0;34m'local_ns'\u001b[0m\u001b[0;34m]\u001b[0m \u001b[0;34m=\u001b[0m \u001b[0mself\u001b[0m\u001b[0;34m.\u001b[0m\u001b[0mget_local_scope\u001b[0m\u001b[0;34m(\u001b[0m\u001b[0mstack_depth\u001b[0m\u001b[0;34m)\u001b[0m\u001b[0;34m\u001b[0m\u001b[0;34m\u001b[0m\u001b[0m\n\u001b[1;32m   2417\u001b[0m             \u001b[0;32mwith\u001b[0m \u001b[0mself\u001b[0m\u001b[0;34m.\u001b[0m\u001b[0mbuiltin_trap\u001b[0m\u001b[0;34m:\u001b[0m\u001b[0;34m\u001b[0m\u001b[0;34m\u001b[0m\u001b[0m\n\u001b[0;32m-> 2418\u001b[0;31m                 \u001b[0mresult\u001b[0m \u001b[0;34m=\u001b[0m \u001b[0mfn\u001b[0m\u001b[0;34m(\u001b[0m\u001b[0;34m*\u001b[0m\u001b[0margs\u001b[0m\u001b[0;34m,\u001b[0m \u001b[0;34m**\u001b[0m\u001b[0mkwargs\u001b[0m\u001b[0;34m)\u001b[0m\u001b[0;34m\u001b[0m\u001b[0;34m\u001b[0m\u001b[0m\n\u001b[0m\u001b[1;32m   2419\u001b[0m             \u001b[0;32mreturn\u001b[0m \u001b[0mresult\u001b[0m\u001b[0;34m\u001b[0m\u001b[0;34m\u001b[0m\u001b[0m\n\u001b[1;32m   2420\u001b[0m \u001b[0;34m\u001b[0m\u001b[0m\n",
            "\u001b[0;32m<decorator-gen-52>\u001b[0m in \u001b[0;36mrun\u001b[0;34m(self, parameter_s, runner, file_finder)\u001b[0m\n",
            "\u001b[0;32m/usr/local/lib/python3.10/dist-packages/IPython/core/magic.py\u001b[0m in \u001b[0;36m<lambda>\u001b[0;34m(f, *a, **k)\u001b[0m\n\u001b[1;32m    185\u001b[0m     \u001b[0;31m# but it's overkill for just that one bit of state.\u001b[0m\u001b[0;34m\u001b[0m\u001b[0;34m\u001b[0m\u001b[0m\n\u001b[1;32m    186\u001b[0m     \u001b[0;32mdef\u001b[0m \u001b[0mmagic_deco\u001b[0m\u001b[0;34m(\u001b[0m\u001b[0marg\u001b[0m\u001b[0;34m)\u001b[0m\u001b[0;34m:\u001b[0m\u001b[0;34m\u001b[0m\u001b[0;34m\u001b[0m\u001b[0m\n\u001b[0;32m--> 187\u001b[0;31m         \u001b[0mcall\u001b[0m \u001b[0;34m=\u001b[0m \u001b[0;32mlambda\u001b[0m \u001b[0mf\u001b[0m\u001b[0;34m,\u001b[0m \u001b[0;34m*\u001b[0m\u001b[0ma\u001b[0m\u001b[0;34m,\u001b[0m \u001b[0;34m**\u001b[0m\u001b[0mk\u001b[0m\u001b[0;34m:\u001b[0m \u001b[0mf\u001b[0m\u001b[0;34m(\u001b[0m\u001b[0;34m*\u001b[0m\u001b[0ma\u001b[0m\u001b[0;34m,\u001b[0m \u001b[0;34m**\u001b[0m\u001b[0mk\u001b[0m\u001b[0;34m)\u001b[0m\u001b[0;34m\u001b[0m\u001b[0;34m\u001b[0m\u001b[0m\n\u001b[0m\u001b[1;32m    188\u001b[0m \u001b[0;34m\u001b[0m\u001b[0m\n\u001b[1;32m    189\u001b[0m         \u001b[0;32mif\u001b[0m \u001b[0mcallable\u001b[0m\u001b[0;34m(\u001b[0m\u001b[0marg\u001b[0m\u001b[0;34m)\u001b[0m\u001b[0;34m:\u001b[0m\u001b[0;34m\u001b[0m\u001b[0;34m\u001b[0m\u001b[0m\n",
            "\u001b[0;32m/usr/local/lib/python3.10/dist-packages/IPython/core/magics/execution.py\u001b[0m in \u001b[0;36mrun\u001b[0;34m(self, parameter_s, runner, file_finder)\u001b[0m\n\u001b[1;32m    723\u001b[0m             \u001b[0;32mif\u001b[0m \u001b[0mos\u001b[0m\u001b[0;34m.\u001b[0m\u001b[0mname\u001b[0m \u001b[0;34m==\u001b[0m \u001b[0;34m'nt'\u001b[0m \u001b[0;32mand\u001b[0m \u001b[0mre\u001b[0m\u001b[0;34m.\u001b[0m\u001b[0mmatch\u001b[0m\u001b[0;34m(\u001b[0m\u001b[0;34mr\"^'.*'$\"\u001b[0m\u001b[0;34m,\u001b[0m\u001b[0mfpath\u001b[0m\u001b[0;34m)\u001b[0m\u001b[0;34m:\u001b[0m\u001b[0;34m\u001b[0m\u001b[0;34m\u001b[0m\u001b[0m\n\u001b[1;32m    724\u001b[0m                 \u001b[0mwarn\u001b[0m\u001b[0;34m(\u001b[0m\u001b[0;34m'For Windows, use double quotes to wrap a filename: %run \"mypath\\\\myfile.py\"'\u001b[0m\u001b[0;34m)\u001b[0m\u001b[0;34m\u001b[0m\u001b[0;34m\u001b[0m\u001b[0m\n\u001b[0;32m--> 725\u001b[0;31m             \u001b[0;32mraise\u001b[0m \u001b[0mException\u001b[0m\u001b[0;34m(\u001b[0m\u001b[0mmsg\u001b[0m\u001b[0;34m)\u001b[0m\u001b[0;34m\u001b[0m\u001b[0;34m\u001b[0m\u001b[0m\n\u001b[0m\u001b[1;32m    726\u001b[0m         \u001b[0;32mexcept\u001b[0m \u001b[0mTypeError\u001b[0m\u001b[0;34m:\u001b[0m\u001b[0;34m\u001b[0m\u001b[0;34m\u001b[0m\u001b[0m\n\u001b[1;32m    727\u001b[0m             \u001b[0;32mif\u001b[0m \u001b[0mfpath\u001b[0m \u001b[0;32min\u001b[0m \u001b[0msys\u001b[0m\u001b[0;34m.\u001b[0m\u001b[0mmeta_path\u001b[0m\u001b[0;34m:\u001b[0m\u001b[0;34m\u001b[0m\u001b[0;34m\u001b[0m\u001b[0m\n",
            "\u001b[0;31mException\u001b[0m: File `'Loesung/Loesung_3_1.py'` not found."
          ]
        }
      ],
      "source": [
        "%run Loesung/Loesung_3_1.py"
      ]
    },
    {
      "cell_type": "markdown",
      "id": "a32d7320",
      "metadata": {
        "id": "a32d7320"
      },
      "source": [
        "#### Aufgabe 3.2\n",
        "Was bedeutet der Dateiname?"
      ]
    },
    {
      "cell_type": "code",
      "execution_count": 39,
      "id": "35b27f06",
      "metadata": {
        "colab": {
          "base_uri": "https://localhost:8080/"
        },
        "id": "35b27f06",
        "outputId": "4b00e17d-3388-430a-b44e-111a8f834dea"
      },
      "outputs": [
        {
          "output_type": "stream",
          "name": "stdout",
          "text": [
            "Dateiname 1.Datei: 2004.02.12.10.32.39\n",
            "Dateiname 1.Datei formatiert: 2004-02-12 10:32:39\n"
          ]
        }
      ],
      "source": [
        "print('Dateiname 1.Datei:', first_file)\n",
        "d = pd.to_datetime(first_file, format='%Y.%m.%d.%H.%M.%S')\n",
        "print('Dateiname 1.Datei formatiert:', d)"
      ]
    },
    {
      "cell_type": "markdown",
      "id": "0129481e",
      "metadata": {
        "id": "0129481e"
      },
      "source": [
        "#### Lösung\n",
        "Indem Sie die nächste Zeile ausführen, können Sie die Lösung der Aufgabe laden."
      ]
    },
    {
      "cell_type": "code",
      "execution_count": null,
      "id": "f55c33e0",
      "metadata": {
        "id": "f55c33e0"
      },
      "outputs": [],
      "source": [
        "%run Loesung/Loesung_3_2.py"
      ]
    },
    {
      "cell_type": "markdown",
      "id": "3190a246",
      "metadata": {
        "id": "3190a246"
      },
      "source": [
        "#### Aufgabe 3.3\n",
        "In welchem Zeitraum wurden die Daten aufgenommen? In welchem zeitlichen Abstand wurden die Daten aufgenommen? Was könnte der Grund dafür sein?"
      ]
    },
    {
      "cell_type": "code",
      "execution_count": null,
      "id": "8e9cf6a6",
      "metadata": {
        "id": "8e9cf6a6"
      },
      "outputs": [],
      "source": [
        "date = []\n",
        "for dirpath, dirnames, files in os.walk(path):\n",
        "    for file_name in files:\n",
        "        date = np.append(date, file_name)\n",
        "\n",
        "date = pd.to_datetime(date, format='%Y.%m.%d.%H.%M.%S')\n",
        "print(date)\n",
        "date = date.to_numpy()"
      ]
    },
    {
      "cell_type": "markdown",
      "id": "4a390c2c",
      "metadata": {
        "id": "4a390c2c"
      },
      "source": [
        "#### Lösung\n",
        "Indem Sie die nächste Zeile ausführen, können Sie die Lösung der Aufgabe laden."
      ]
    },
    {
      "cell_type": "code",
      "execution_count": null,
      "id": "26dd13eb",
      "metadata": {
        "id": "26dd13eb"
      },
      "outputs": [],
      "source": [
        "%run Loesung/Loesung_3_3.py"
      ]
    },
    {
      "cell_type": "markdown",
      "id": "0046751c",
      "metadata": {
        "id": "0046751c"
      },
      "source": [
        "#### Aufgabe 3.4\n",
        "Betrachten Sie eine der ersten Messungen und eine der letzten Messungen kurz bevor eines der Kugellager kaputt geht. Dargestellt sind zum einen die von den vier Beschleunigungssensoren gemessenen Signale (Zeile 1), sowie <a href=https://de.wikipedia.org/wiki/Spektrogramm>Spektrogramme</a> der gemessenen Signale von Sensor 1 (Zeile 2) und Sensor 2 (Zeile 3). Was fällt Ihnen auf? Welches der Kugellager bricht?"
      ]
    },
    {
      "cell_type": "code",
      "execution_count": 42,
      "id": "deb187dd",
      "metadata": {
        "colab": {
          "base_uri": "https://localhost:8080/",
          "height": 1000
        },
        "id": "deb187dd",
        "outputId": "0603abd3-0c7d-4335-b019-28ff38aec3cd"
      },
      "outputs": [
        {
          "output_type": "display_data",
          "data": {
            "text/plain": [
              "<Figure size 1500x1500 with 6 Axes>"
            ],
            "image/png": "[encoded data removed]"
          },
          "metadata": {}
        }
      ],
      "source": [
        "def make_acceleration_subplot(val,title,pos):\n",
        "    ax = fig.add_subplot(3, 2, pos)\n",
        "    for i in range(ncol):\n",
        "        plt.plot(time, val[:,i], label=str(i+1))\n",
        "    plt.legend(title='Kugellager Nr.', ncol=2, loc='lower left')\n",
        "    plt.xlabel('Zeit in sec')\n",
        "    plt.ylabel('Beschleunigung')\n",
        "    plt.ylim(-2.5,2.5)\n",
        "    plt.xlim(0,1)\n",
        "    plt.title(title)\n",
        "\n",
        "def make_spectrogram_subplot(val,text,pos):\n",
        "    ax = fig.add_subplot(3, 2, pos)\n",
        "    f, t, Sxx = signal.spectrogram(val, fs)\n",
        "    plt.pcolormesh(t, f, Sxx, shading='auto')\n",
        "    plt.yticks(ticks=[0,2000,4000,6000,8000,10000],labels=['0','2','4','6','8','10'])\n",
        "    plt.ylabel('Frequenz in kHz')\n",
        "    plt.xlabel('Zeit in sec')\n",
        "    plt.xlim(0,1)\n",
        "    plt.text(0.75,9500,text, color='black', backgroundcolor='steelblue')\n",
        "\n",
        "good_file = '2004.02.12.15.02.39'\n",
        "bad_file = '2004.02.19.04.22.39'\n",
        "\n",
        "df_good = pd.read_csv(path + good_file, sep='\\t', header=None)\n",
        "df_bad = pd.read_csv(path + bad_file, sep='\\t', header=None)\n",
        "\n",
        "values_good = df_good.values\n",
        "values_bad = df_bad.values\n",
        "\n",
        "fig = plt.figure(figsize=(15,15))\n",
        "time = np.arange(fs)/fs\n",
        "\n",
        "make_acceleration_subplot(values_good,'Zu Beginn',1)\n",
        "make_acceleration_subplot(values_bad, 'Gegen Ende',2)\n",
        "\n",
        "make_spectrogram_subplot(values_good[:,0],'Kugellager Nr. 1',3)\n",
        "make_spectrogram_subplot(values_good[:,1],'Kugellager Nr. 2',5)\n",
        "make_spectrogram_subplot(values_bad[:,0],'Kugellager Nr. 1',4)\n",
        "make_spectrogram_subplot(values_bad[:,1],'Kugellager Nr. 2',6)"
      ]
    },
    {
      "cell_type": "markdown",
      "id": "d91a82c2",
      "metadata": {
        "id": "d91a82c2"
      },
      "source": [
        "#### Lösung\n",
        "Indem Sie die nächste Zeile ausführen, können Sie die Lösung der Aufgabe laden."
      ]
    },
    {
      "cell_type": "code",
      "execution_count": null,
      "id": "2bb84a8b",
      "metadata": {
        "id": "2bb84a8b",
        "outputId": "b343ee68-a43c-42ba-f087-89bb66b32dfa"
      },
      "outputs": [
        {
          "name": "stdout",
          "output_type": "stream",
          "text": [
            "Gegen Ende messen alle Sensoren eine stärkere Vibration als zu Beginn. Insbesondere für Kugellager Nr. 1 werden gegen Ende um ein vielfaches höhere Beschleunigungen gemessen, als zu Beginn und im Frequenzspektrum sind verstärkt höhere Frequenzen präsent. Die Messreihe endet mit dem Bruch von Kugellager Nr. 1.\n"
          ]
        }
      ],
      "source": [
        "%run Loesung/Loesung_3_4.py"
      ]
    },
    {
      "cell_type": "markdown",
      "id": "a771c2b4",
      "metadata": {
        "id": "a771c2b4"
      },
      "source": [
        "### Schritt 4: Datenvorverarbeitung"
      ]
    },
    {
      "cell_type": "markdown",
      "id": "39e6e3f8",
      "metadata": {
        "id": "39e6e3f8"
      },
      "source": [
        "#### Aufgabe 4.1\n",
        "Welche statistischen Eigenschaften (z.B. Standardabweichung) und welche spektralen Eigenschaften (Frequenzen) könnten für die Erkennung von auftretenden Annomalien relevant sein? Überlegen Sie sich eine Reihe von Merkmalen und bestimmen Sie diese für jede Datei. Orientieren Sie sich am gegebenen Beispiel.      \n",
        "\n",
        "Für die Implementierung sind u.U. die <a href=\"https://pandas.pydata.org/pandas-docs/stable/reference/api/pandas.DataFrame.std.html\">Pandas API reference</a> und die <a href='https://numpy.org/doc/stable/reference/routines.statistics.html'>numpy API reference</a> hilfreich."
      ]
    },
    {
      "cell_type": "code",
      "execution_count": null,
      "id": "1d4c7ae7",
      "metadata": {
        "id": "1d4c7ae7",
        "outputId": "c040d1eb-ffe0-4bde-bb7a-b14f33997cae"
      },
      "outputs": [
        {
          "name": "stdout",
          "output_type": "stream",
          "text": [
            "Zeitpunkt Datei 1: 2004-02-12T10:42:39.000000000\n",
            "Merkmale Datei 1: [7.34767249e-02 9.00556733e-02 1.08436157e-01 5.31676883e-02\n",
            " 6.47417377e-05 9.89005290e-05 1.44746505e-04 3.47784817e-05]\n"
          ]
        }
      ],
      "source": [
        "# Definition der Merkmale\n",
        "\n",
        "def extract_features(file_name):\n",
        "    df = pd.read_csv(path + file_name, sep='\\t', header=None)\n",
        "    values = df.values\n",
        "\n",
        "    features = np.array([])\n",
        "\n",
        "    # Standardabweichung (für jeden der vier Sensoren) -> 4 Merkmale\n",
        "    std = df.std().values\n",
        "    features = np.append(features, std)\n",
        "\n",
        "    # Durchschnittlicher Frequenzanteil >2kHz (für jeden der vier Sensoren) -> 4 Merkmale\n",
        "    for i in range(0,4):\n",
        "        f, t, Sxx = signal.spectrogram(values[:,i], fs)\n",
        "        idx = np.where(f>2000)[0]\n",
        "        sum_loc = np.sum(Sxx[:,idx[0]:],axis=0)\n",
        "        features = np.append(features, np.mean(sum_loc))\n",
        "\n",
        "    # Weiteres Merkmal (für jeden der vier Sensoren) hinzufügen\n",
        "\n",
        "    # Weiteres Merkmal (für jeden der vier Sensoren) hinzufügen\n",
        "\n",
        "    # Weiteres Merkmal (für jeden der vier Sensoren) hinzufügen\n",
        "\n",
        "    # Weiteres Merkmal (für jeden der vier Sensoren) hinzufügen\n",
        "\n",
        "    return features\n",
        "\n",
        "# Extraktion der Merkmale für alle Dateien\n",
        "\n",
        "n_files = 984\n",
        "n_features = 8 # Hier die korrekte Zahl der Merkmale eintragen!!!\n",
        "\n",
        "date = []\n",
        "X = []\n",
        "\n",
        "for dirpath, dirnames, files in os.walk(path):\n",
        "    for file_name in files:\n",
        "        features = extract_features(file_name)\n",
        "        date = np.append(date, file_name)\n",
        "        X = np.append(X, features)\n",
        "\n",
        "X = X.reshape(n_files,n_features)\n",
        "date = pd.to_datetime(date, format='%Y.%m.%d.%H.%M.%S')\n",
        "date = date.to_numpy()\n",
        "\n",
        "print('Zeitpunkt Datei 1:', date[1])\n",
        "print('Merkmale Datei 1:', X[0])"
      ]
    },
    {
      "cell_type": "markdown",
      "id": "3be9c6a6",
      "metadata": {
        "id": "3be9c6a6"
      },
      "source": [
        "#### Tipp\n",
        "Sie können einen Tipp zur Lösung der Aufgabe erhalten, indem Sie die nächste Zeile ausführen."
      ]
    },
    {
      "cell_type": "code",
      "execution_count": null,
      "id": "3ccb508c",
      "metadata": {
        "id": "3ccb508c",
        "outputId": "486ab6c5-d083-4005-a5e6-9d46b6730cda"
      },
      "outputs": [
        {
          "name": "stdout",
          "output_type": "stream",
          "text": [
            "Weitere statistische Eigenschaften die betrachtet werden können sind z.B. Mittelwert, Maximalwert oder quadratisches Mittel. Als weitere spektrale Eigenschaft kann z.B. die durchschnittliche Frequenz mit größter Amplitude betrachtet werden.\n"
          ]
        }
      ],
      "source": [
        "%run Tipps/Tipp_4_1.py"
      ]
    },
    {
      "cell_type": "markdown",
      "id": "ccf1da24",
      "metadata": {
        "id": "ccf1da24"
      },
      "source": [
        "#### Lösung\n",
        "Indem Sie die nächste Zeile ausführen, können Sie eine mögliche Lösung der Aufgabe laden.    "
      ]
    },
    {
      "cell_type": "code",
      "execution_count": 40,
      "id": "e80bd6d7",
      "metadata": {
        "colab": {
          "base_uri": "https://localhost:8080/"
        },
        "id": "e80bd6d7",
        "outputId": "1a43ae62-5419-4055-db13-ee087e08bdd0"
      },
      "outputs": [
        {
          "output_type": "stream",
          "name": "stdout",
          "text": [
            "Merkmale Datei 1: [1.28507174e-01 9.64994023e-02 1.00398499e-01 6.21741460e-02\n",
            " 2.02803078e-04 1.15055619e-04 1.27042016e-04 4.82555927e-05\n",
            " 6.86000000e-01 4.42000000e-01 8.08000000e-01 2.66000000e-01\n",
            " 1.28517232e-01 9.65112280e-02 1.00414190e-01 6.22455735e-02\n",
            " 5.33780560e+00 4.57977801e+00 8.04667152e+00 4.27339624e+00\n",
            " 4.22153846e+03 1.02857143e+03 2.99164835e+03 2.70945055e+03]\n"
          ]
        }
      ],
      "source": [
        "# %load Loesung/Loesung_4_1.py\n",
        "# Definition der Merkmale\n",
        "\n",
        "def extract_features(file_name):\n",
        "    df = pd.read_csv(path + file_name, sep='\\t', header=None)\n",
        "    values = df.values\n",
        "\n",
        "    features = np.array([])\n",
        "\n",
        "    # Standardabweichung (für jeden der vier Sensoren) -> 4 Merkmale\n",
        "    std = df.std().values\n",
        "    features = np.append(features, std)\n",
        "\n",
        "    # Durchschnittlicher Frequenzanteil >2kHz (für jeden der vier Sensoren) -> 4 Merkmale\n",
        "    for i in range(0,4):\n",
        "        f, t, Sxx = signal.spectrogram(values[:,i], fs)\n",
        "        idx = np.where(f>2000)[0]\n",
        "        sum_loc = np.sum(Sxx[:,idx[0]:],axis=0)\n",
        "        features = np.append(features, np.mean(sum_loc))\n",
        "\n",
        "    # Maximalwert (für jeden der vier Sensoren) -> 4 Merkmale\n",
        "    maxi = df.abs().max().values\n",
        "    features = np.append(features, maxi)\n",
        "\n",
        "    # Quadratisches Mittel (für jeden der vier Sensoren) -> 4 Merkmale\n",
        "    rms = np.sqrt(np.mean(np.power(values,2),0))\n",
        "    features = np.append(features, rms)\n",
        "\n",
        "    # Scheitelfaktor (für jeden der vier Sensoren) -> 4 Merkmale\n",
        "    crest = maxi/rms\n",
        "    features = np.append(features, crest)\n",
        "\n",
        "    # Durchschnittliche Frequenz mit größter Amplitude (für jeden der vier Sensoren) -> 4 Merkmale\n",
        "    for i in range(0,4):\n",
        "        f, t, Sxx = signal.spectrogram(values[:,i], fs)\n",
        "        max_loc = np.argmax(Sxx,0)\n",
        "        features = np.append(features, np.mean(f[max_loc]))\n",
        "\n",
        "    return features\n",
        "\n",
        "# Extraktion der Merkmale für alle Dateien\n",
        "\n",
        "n_files = 984\n",
        "n_features = 24 # Hier die Zahl der Merkmale eintragen!\n",
        "\n",
        "T = np.array([])\n",
        "X = np.array([])\n",
        "\n",
        "for dirpath, dirnames, files in os.walk(path):\n",
        "    for file_name in files:\n",
        "        features = extract_features(file_name)\n",
        "        T = np.append(T, file_name.split('.'))\n",
        "        X = np.append(X, features)\n",
        "\n",
        "X = X.reshape(n_files,n_features)\n",
        "T = np.array(T,dtype=float)\n",
        "T = T.reshape(n_files,-1)\n",
        "\n",
        "print('Merkmale Datei 1:', X[0])"
      ]
    },
    {
      "cell_type": "markdown",
      "id": "38821a1a",
      "metadata": {
        "id": "38821a1a"
      },
      "source": [
        "#### Aufgabe 4.2\n",
        "Betrachten Sie die aus den Dateien extrahierten Merkmale. Ab welchem Zeitpunkt sind Auffälligkeit erkennbar?   "
      ]
    },
    {
      "cell_type": "code",
      "execution_count": 41,
      "id": "2c76f4c5",
      "metadata": {
        "colab": {
          "base_uri": "https://localhost:8080/",
          "height": 595
        },
        "id": "2c76f4c5",
        "outputId": "5e425030-b150-4c4f-9e40-1592c28b1e17"
      },
      "outputs": [
        {
          "output_type": "error",
          "ename": "NameError",
          "evalue": "name 'date' is not defined",
          "traceback": [
            "\u001b[0;31m---------------------------------------------------------------------------\u001b[0m",
            "\u001b[0;31mNameError\u001b[0m                                 Traceback (most recent call last)",
            "\u001b[0;32m<ipython-input-41-cf3be00dfb53>\u001b[0m in \u001b[0;36m<cell line: 4>\u001b[0;34m()\u001b[0m\n\u001b[1;32m      5\u001b[0m \u001b[0;34m\u001b[0m\u001b[0m\n\u001b[1;32m      6\u001b[0m     \u001b[0max\u001b[0m \u001b[0;34m=\u001b[0m \u001b[0mfig\u001b[0m\u001b[0;34m.\u001b[0m\u001b[0madd_subplot\u001b[0m\u001b[0;34m(\u001b[0m\u001b[0mn_plot\u001b[0m\u001b[0;34m,\u001b[0m \u001b[0;36m1\u001b[0m\u001b[0;34m,\u001b[0m \u001b[0mi\u001b[0m\u001b[0;34m+\u001b[0m\u001b[0;36m1\u001b[0m\u001b[0;34m)\u001b[0m\u001b[0;34m\u001b[0m\u001b[0;34m\u001b[0m\u001b[0m\n\u001b[0;32m----> 7\u001b[0;31m     \u001b[0mplt\u001b[0m\u001b[0;34m.\u001b[0m\u001b[0mplot\u001b[0m\u001b[0;34m(\u001b[0m\u001b[0mdate\u001b[0m\u001b[0;34m,\u001b[0m \u001b[0mX\u001b[0m\u001b[0;34m[\u001b[0m\u001b[0;34m:\u001b[0m\u001b[0;34m,\u001b[0m\u001b[0mi\u001b[0m\u001b[0;34m*\u001b[0m\u001b[0;36m4\u001b[0m\u001b[0;34m+\u001b[0m\u001b[0;36m0\u001b[0m\u001b[0;34m]\u001b[0m\u001b[0;34m,\u001b[0m \u001b[0mlabel\u001b[0m\u001b[0;34m=\u001b[0m\u001b[0;34m'1'\u001b[0m\u001b[0;34m)\u001b[0m\u001b[0;34m\u001b[0m\u001b[0;34m\u001b[0m\u001b[0m\n\u001b[0m\u001b[1;32m      8\u001b[0m     \u001b[0mplt\u001b[0m\u001b[0;34m.\u001b[0m\u001b[0mplot\u001b[0m\u001b[0;34m(\u001b[0m\u001b[0mdate\u001b[0m\u001b[0;34m,\u001b[0m \u001b[0mX\u001b[0m\u001b[0;34m[\u001b[0m\u001b[0;34m:\u001b[0m\u001b[0;34m,\u001b[0m\u001b[0mi\u001b[0m\u001b[0;34m*\u001b[0m\u001b[0;36m4\u001b[0m\u001b[0;34m+\u001b[0m\u001b[0;36m1\u001b[0m\u001b[0;34m]\u001b[0m\u001b[0;34m,\u001b[0m \u001b[0mlabel\u001b[0m\u001b[0;34m=\u001b[0m\u001b[0;34m'2'\u001b[0m\u001b[0;34m)\u001b[0m\u001b[0;34m\u001b[0m\u001b[0;34m\u001b[0m\u001b[0m\n\u001b[1;32m      9\u001b[0m     \u001b[0mplt\u001b[0m\u001b[0;34m.\u001b[0m\u001b[0mplot\u001b[0m\u001b[0;34m(\u001b[0m\u001b[0mdate\u001b[0m\u001b[0;34m,\u001b[0m \u001b[0mX\u001b[0m\u001b[0;34m[\u001b[0m\u001b[0;34m:\u001b[0m\u001b[0;34m,\u001b[0m\u001b[0mi\u001b[0m\u001b[0;34m*\u001b[0m\u001b[0;36m4\u001b[0m\u001b[0;34m+\u001b[0m\u001b[0;36m2\u001b[0m\u001b[0;34m]\u001b[0m\u001b[0;34m,\u001b[0m \u001b[0mlabel\u001b[0m\u001b[0;34m=\u001b[0m\u001b[0;34m'3'\u001b[0m\u001b[0;34m)\u001b[0m\u001b[0;34m\u001b[0m\u001b[0;34m\u001b[0m\u001b[0m\n",
            "\u001b[0;31mNameError\u001b[0m: name 'date' is not defined"
          ]
        },
        {
          "output_type": "display_data",
          "data": {
            "text/plain": [
              "<Figure size 1500x3000 with 1 Axes>"
            ],
            "image/png": "[encoded data removed]"
          },
          "metadata": {}
        }
      ],
      "source": [
        "n_plot = int(n_features/4)\n",
        "fig = plt.figure(figsize=(15,n_plot*5))\n",
        "\n",
        "for i in range(n_plot):\n",
        "\n",
        "    ax = fig.add_subplot(n_plot, 1, i+1)\n",
        "    plt.plot(date, X[:,i*4+0], label='1')\n",
        "    plt.plot(date, X[:,i*4+1], label='2')\n",
        "    plt.plot(date, X[:,i*4+2], label='3')\n",
        "    plt.plot(date, X[:,i*4+3], label='4')\n",
        "    plt.legend(title='Kugellager Nr.')\n",
        "    plt.ylabel('Merkmal ' + str(i+1))"
      ]
    },
    {
      "cell_type": "markdown",
      "id": "98308d43",
      "metadata": {
        "id": "98308d43"
      },
      "source": [
        "#### Lösung\n",
        "Indem Sie die nächste Zeile ausführen, können Sie die Lösung der Aufgabe laden."
      ]
    },
    {
      "cell_type": "code",
      "execution_count": null,
      "id": "fc04673a",
      "metadata": {
        "id": "fc04673a"
      },
      "outputs": [],
      "source": [
        "%run Loesung/Loesung_4_2.py"
      ]
    },
    {
      "cell_type": "markdown",
      "id": "21254e09",
      "metadata": {
        "id": "21254e09"
      },
      "source": [
        "### Schritt 5: Sampling"
      ]
    },
    {
      "cell_type": "markdown",
      "id": "5db02c74",
      "metadata": {
        "id": "5db02c74"
      },
      "source": [
        "#### Aufgabe 5.1\n",
        "Zunächst muss der vorhandene Datensatz in Trainingsdaten und Testdaten aufgeteilt werden. Zum Trainieren der Annomalieerkennung werden nur Daten von den ersten beiden Tagen (12. und 13. Februar 2004) verwendet. Es kann aufgrund der obigen Betrachtung davon ausgegangen werden, dass in dieser Zeitspanne alle Kugellager in Ordnung sind und die Daten dem Normalfall entsprechen. Der Rest der Daten wird als Testdaten für die Annomalieerkennung verwendet. Ergänzen Sie den gegebenen Code."
      ]
    },
    {
      "cell_type": "code",
      "execution_count": null,
      "id": "4a63a5ef",
      "metadata": {
        "id": "4a63a5ef"
      },
      "outputs": [],
      "source": [
        "# Aufteilung der Daten in Trainings- und Testdatensatz\n",
        "\n",
        "train_idx = np.where(date<np.datetime64('2004-02-14'))[0] # Nummern der Dateien, die zum Trainingsdatensatz gehören\n",
        "# test_idx =\n",
        "\n",
        "X_train = X[train_idx] # Trainingsdaten\n",
        "# X_test ="
      ]
    },
    {
      "cell_type": "markdown",
      "id": "d79deaa1",
      "metadata": {
        "id": "d79deaa1"
      },
      "source": [
        "#### Lösung\n",
        "Indem Sie die nächste Zeile ausführen, können Sie die Lösung der Aufgabe laden."
      ]
    },
    {
      "cell_type": "code",
      "execution_count": null,
      "id": "01c54c06",
      "metadata": {
        "id": "01c54c06"
      },
      "outputs": [],
      "source": [
        "# %load Loesung/Loesung_5_1.py\n",
        "# Aufteilung der Daten in Trainings- und Testdatensatz\n",
        "\n",
        "train_idx = np.where(date<np.datetime64('2004-02-14'))[0] # Nummern der Dateien, die zum Trainingsdatensatz gehören\n",
        "test_idx = np.where(date>=np.datetime64('2004-02-14'))[0]\n",
        "\n",
        "X_train = X[train_idx] # Trainingsdaten\n",
        "X_test = X[test_idx]"
      ]
    },
    {
      "cell_type": "markdown",
      "id": "33b3534b",
      "metadata": {
        "id": "33b3534b"
      },
      "source": [
        "### Schritt 6: Umsetzung Anomalieerkennung mit dem K-nächste-Nachbarn Algorithmus"
      ]
    },
    {
      "cell_type": "markdown",
      "id": "e9e724d6",
      "metadata": {
        "id": "e9e724d6"
      },
      "source": [
        "#### Aufgabe 6.1:\n",
        "Der K-nächste-Nachbarn Algorithmus wird üblicherweise für Klassifikationsprobleme eingesetzt. Er sucht die K Datenpunkte aus dem Trainingsdatensatz, die einem neuen Test-Datenpunkt am nächsten sind, welche als K-nächste Nachbarn bezeichnet werden. Anhand der Klassen dieser K Datenpunkte wird dann eine Vorhersage für die Klasse des neuen Test-Datenpunkts gemacht. Bei der Anomalieerkennung enthält der Trainingsdatensatz nur eine Klasse \"in Ordnung\". Was wird in diesem Fall für die Testdaten vorhergesagt?"
      ]
    },
    {
      "cell_type": "code",
      "execution_count": null,
      "id": "a765847d",
      "metadata": {
        "id": "a765847d"
      },
      "outputs": [],
      "source": [
        "# Erzeugen von Lables für den Trainingsdatensatz\n",
        "Y_train = np.ones(len(X_train)) # Alle Datenpunkte gehören zu Klasse 1 \"In Ordnung\"\n",
        "\n",
        "# K-nächste-Nachbarn-Klassifizierung\n",
        "K = 5 #Zahl der betrachteten nächsten Nachbarn\n",
        "knn = KNeighborsClassifier(n_neighbors=K)\n",
        "knn.fit(X_train, Y_train)\n",
        "\n",
        "# Vorhersage für die Testdaten\n",
        "print(knn.predict(X_test))"
      ]
    },
    {
      "cell_type": "markdown",
      "id": "3e91c043",
      "metadata": {
        "id": "3e91c043"
      },
      "source": [
        "#### Lösung\n",
        "Indem Sie die nächste Zeile ausführen, können Sie die Lösung der Aufgabe laden."
      ]
    },
    {
      "cell_type": "code",
      "execution_count": null,
      "id": "71c9351e",
      "metadata": {
        "id": "71c9351e"
      },
      "outputs": [],
      "source": [
        "%run Loesung/Loesung_6_1.py"
      ]
    },
    {
      "cell_type": "markdown",
      "id": "da14bf5f",
      "metadata": {
        "id": "da14bf5f"
      },
      "source": [
        "#### Aufgabe 6.2\n",
        "Um nun Anomalien zu erkennen, wird die mittlere Distanz zwischen einem Datenpunkt und seinen K nächsten Nachbarn betrachtet. Schauen sie sich die Verteilung der mittleren Distanzen zu den Nachbarn für den Trainingsdatensatz an. Dieser Datensatz beinhaltet nur Messungen von den ersten beiden Tagen. Es kann davon ausgegangen werden, dass zu diesem Zeitpunkt alle Kugellager in Ordnung waren und diese Messungen daher den Zustand in Ordnung repräsentieren.  \n",
        "  \n",
        "Für Messungen die einen nicht in Ordnung Zustand repräsentieren, wird erwartet, dass die mittlere Distanz zu den K nächsten Nachbarn deutlich größer ist. Legen Sie einen Schwellwert für die mittlere Distanz zu den K nächsten Nachbarn fest, ab dem ein Datenpunkt als Anomalie gewertet wird."
      ]
    },
    {
      "cell_type": "code",
      "execution_count": null,
      "id": "b839ff26",
      "metadata": {
        "id": "b839ff26"
      },
      "outputs": [],
      "source": [
        "# Bestimmung der durchschnittlichen Distanz zu den K nächsten Nachbarn für den Trainingsdatensatz\n",
        "neigh_distance_train, neigh_index_train = knn.kneighbors(X_train)\n",
        "mean_neigh_distance_train = np.mean(neigh_distance_train, axis=1)\n",
        "\n",
        "plt.hist(mean_neigh_distance_train,bins=10)\n",
        "plt.title('Mittl. Distanz zu K nächst. Nachbarn für Trainingsdaten (alle Kugellager i.O.)')\n",
        "plt.xlabel('mittlere Distanz')\n",
        "plt.ylabel('#')\n",
        "\n",
        "# Legen Sie den Schwellwert fest ab dem eine Messung als Annomalie eingestuft wird\n",
        "thres_KNN = np.percentile(mean_neigh_distance_train,50) # zu ändern\n",
        "plt.vlines(thres_KNN,0,80,color='red')\n",
        "plt.show()"
      ]
    },
    {
      "cell_type": "markdown",
      "id": "6fc0de96",
      "metadata": {
        "id": "6fc0de96"
      },
      "source": [
        "#### Lösung\n",
        "Indem Sie die nächste Zeile ausführen, können Sie eine Lösung der Aufgabe laden."
      ]
    },
    {
      "cell_type": "code",
      "execution_count": null,
      "id": "ffdaa033",
      "metadata": {
        "id": "ffdaa033"
      },
      "outputs": [],
      "source": [
        "# %load Loesung/Loesung_6_2.py\n",
        "# Bestimmung der durchschnittlichen Distanz zu den K nächsten Nachbarn für den Trainingsdatensatz\n",
        "neigh_distance_train, neigh_index_train = knn.kneighbors(X_train)\n",
        "mean_neigh_distance_train = np.mean(neigh_distance_train, axis=1)\n",
        "\n",
        "plt.hist(mean_neigh_distance_train,bins=10)\n",
        "plt.title('Mittlere Distanz zu K nächsten Nachbarn für Trainingsdaten (alle Kugellager i.O.)')\n",
        "plt.xlabel('mittlere Distanz')\n",
        "plt.ylabel('#')\n",
        "\n",
        "# Eine Möglichkeit den Schwellwert festzulegen ist das 99.9% Perzentil zu nehmen\n",
        "thres_KNN = np.percentile(mean_neigh_distance_train,99.9)\n",
        "plt.vlines(thres_KNN,0,80,color='red')\n",
        "plt.show()\n"
      ]
    },
    {
      "cell_type": "markdown",
      "id": "95b3b0ad",
      "metadata": {
        "id": "95b3b0ad"
      },
      "source": [
        "### Schitt 7: Evaluation Anomalieerkennung mit KNN"
      ]
    },
    {
      "cell_type": "markdown",
      "id": "53b93d7d",
      "metadata": {
        "id": "53b93d7d"
      },
      "source": [
        "#### Aufgabe 7.1\n",
        "Testen Sie die Anomalieerkennung mit dem K-nächste-Nachbarn Algorithmus auf dem Testdatensatz und evaluieren Sie das\n",
        "Ergebnis. Eignet sich die Methode, um den Ausfall eines Kugellagers vorherzusagen? Ist der festgelegte Schwellwert für die mittlere Distanz zu den K nächsten Nachbarn sinnvoll?"
      ]
    },
    {
      "cell_type": "code",
      "execution_count": null,
      "id": "ff8e0f4a",
      "metadata": {
        "id": "ff8e0f4a"
      },
      "outputs": [],
      "source": [
        "# Bestimmung der durchschnittlichen Distanz zu den K nächsten Nachbarn für den Testdatensatz\n",
        "neigh_distance_test, neigh_index_test = knn.kneighbors(X_test)\n",
        "mean_neigh_distance_test = np.mean(neigh_distance_test, axis=1)\n",
        "\n",
        "annomaly = (mean_neigh_distance_test >= thres_KNN)\n",
        "\n",
        "fig = plt.figure(figsize=(14,7))\n",
        "\n",
        "ax = fig.add_subplot(2, 1, 1)\n",
        "plt.plot(date[test_idx], mean_neigh_distance_test, label='Testdaten')\n",
        "plt.plot(date[test_idx], thres_KNN*np.ones(len(mean_neigh_distance_test)), label='Schwellwert')\n",
        "plt.legend()\n",
        "plt.ylabel('Mittl. Distanz zu K nächst. Nachbarn')\n",
        "\n",
        "ax = fig.add_subplot(2, 1, 2)\n",
        "plt.scatter(date[test_idx],annomaly)\n",
        "plt.ylabel('Annomalie? 0=Nein, 1=Ja')\n",
        "plt.show()\n"
      ]
    },
    {
      "cell_type": "markdown",
      "id": "c1e85395",
      "metadata": {
        "id": "c1e85395"
      },
      "source": [
        "#### Lösung\n",
        "Indem Sie die nächste Zeile ausführen, können Sie eine Lösung der Aufgabe laden."
      ]
    },
    {
      "cell_type": "code",
      "execution_count": null,
      "id": "5dfcd9b5",
      "metadata": {
        "id": "5dfcd9b5"
      },
      "outputs": [],
      "source": [
        "%run Loesung/Loesung_7_1.py"
      ]
    },
    {
      "cell_type": "markdown",
      "id": "031ca60c",
      "metadata": {
        "id": "031ca60c"
      },
      "source": [
        "#### Aufgabe 7.2\n",
        "Überlegen Sie sich ein sinnvolles Kriterium wann ein Alarm ausgelöst werden sollte, der auf einen drohenden Ausfall hinweißt.  "
      ]
    },
    {
      "cell_type": "code",
      "execution_count": null,
      "id": "28410c52",
      "metadata": {
        "id": "28410c52"
      },
      "outputs": [],
      "source": [
        "for i in range(len(time[test_idx])):\n",
        "    # Ergänzen Sie hier ein Kriterium, wann ein Alarm ausgelöst werden soll\n",
        "    if ... :\n",
        "        print('Warnung: Drohender Ausfall!')\n",
        "        print('Zeitpunkt:',date[test_idx][i])\n",
        "        break"
      ]
    },
    {
      "cell_type": "markdown",
      "id": "29b1005c",
      "metadata": {
        "id": "29b1005c"
      },
      "source": [
        "#### Lösung\n",
        "Indem Sie die nächste Zeile ausführen, können Sie eine Lösung der Aufgabe laden."
      ]
    },
    {
      "cell_type": "code",
      "execution_count": null,
      "id": "3a075c2b",
      "metadata": {
        "id": "3a075c2b"
      },
      "outputs": [],
      "source": [
        "# %load Loesung/Loesung_7_2.py\n",
        "# Eine Möglichkeit ist einen Alarm auszulösen, wenn alle Messungen innerhalb\n",
        "# einer Stunden (sechs aufeinander folgende Messungen) als Annomalie eingestuft werden\n",
        "\n",
        "for i in range(5,len(time[test_idx])):\n",
        "    # Ergänzen Sie hier ein Kriterium, wann ein Alarm ausgelöst werden soll\n",
        "    if (annomaly[i-5:i].all()==True):\n",
        "        print('Zeitpunkt:',date[test_idx][i])\n",
        "        print('Warnung: Drohender Ausfall!')\n",
        "        break"
      ]
    },
    {
      "cell_type": "markdown",
      "id": "a028cdb0",
      "metadata": {
        "id": "a028cdb0"
      },
      "source": [
        "### Schritt 8: Umsetzung Annomalieerkennung mit Autoencoder"
      ]
    },
    {
      "cell_type": "markdown",
      "id": "111c7850",
      "metadata": {
        "id": "111c7850"
      },
      "source": [
        "#### Aufgabe 8.1\n",
        "Ein Autoencoder ist eine spezielle Art von neuronalem Netz mit einer Sanduhr-Struktur und wird darauf trainiert,\n",
        "dass der Output des Netzes möglichst gleich dem Input ist. Als Lossfunktion, die den Fehler - hier den Unterschied zwischen Input und Output - beschreibt, wird der <a href=https://de.wikipedia.org/wiki/Mittlerer_absoluter_Fehler>mittlere absolute Fehler</a> (Englisch: mean absolute error, kurz MAE) verwendet. Ergänzen Sie den folgenden Code für die Berechnung des mittleren absoluten Fehlers.\n"
      ]
    },
    {
      "cell_type": "code",
      "execution_count": null,
      "id": "29c2c5c5",
      "metadata": {
        "id": "29c2c5c5"
      },
      "outputs": [],
      "source": [
        "def mae(x, x_pred):\n",
        "    # Ergänzen Sie die Berechnung des MAE\n",
        "\n",
        "    return mae"
      ]
    },
    {
      "cell_type": "markdown",
      "id": "d9571ac5",
      "metadata": {
        "id": "d9571ac5"
      },
      "source": [
        "#### Lösung\n",
        "Indem Sie die nächste Zeile ausführen, können Sie die Lösung der Aufgabe laden."
      ]
    },
    {
      "cell_type": "code",
      "execution_count": null,
      "id": "043f3711",
      "metadata": {
        "id": "043f3711"
      },
      "outputs": [],
      "source": [
        "# %load Loesung/Loesung_8_1.py\n",
        "def mae(x, x_pred):\n",
        "    n = x.shape[1]\n",
        "    diff = x - x_pred\n",
        "    return np.sum(np.abs(diff), axis=1)/n"
      ]
    },
    {
      "cell_type": "markdown",
      "id": "e5f30e7b",
      "metadata": {
        "id": "e5f30e7b"
      },
      "source": [
        "#### Aufgabe 8.2\n",
        "Der Autoencoder soll die folgende Struktur haben:\n",
        "\n",
        "- Eingabeschicht: Anzahl Neuronen = Anzahl Merkmale\n",
        "- 1. verdeckte Schicht: 10 Neuronen\n",
        "- 2. verdeckte Schicht: 5 Neuronen\n",
        "- 3. verdeckte Schicht: 10 Neuronen\n",
        "- Ausgabeschicht: Anzahl Neuronen = Anzahl Merkmale\n",
        "\n",
        "Außer beim Output Layer soll als Aktivierungsfunktion der Tangens hyperbolicus verwendet werden. Ergänzen Sie den folgenden Code um das Model zu erstellen.   "
      ]
    },
    {
      "cell_type": "code",
      "execution_count": null,
      "id": "69ea964d",
      "metadata": {
        "id": "69ea964d"
      },
      "outputs": [],
      "source": [
        "n_features = len(X_train[0]) # Anzahl Merkmale\n",
        "\n",
        "def get_model():\n",
        "\n",
        "    autoenc = keras.Sequential()\n",
        "    init = keras.initializers.glorot_uniform(seed=1)\n",
        "    # Eingabeschicht und 1. verdeckte Schicht\n",
        "    autoenc.add(keras.layers.Dense(input_dim=n_features, units=10, activation='tanh', kernel_initializer=init))\n",
        "    # Ergänzen Sie die 2. verdeckte Schicht\n",
        "\n",
        "    # Ergänzen Sie die 3. verdeckte Schicht\n",
        "\n",
        "    # Ausgabeschicht\n",
        "    autoenc.add(keras.layers.Dense(units=n_features, activation='linear', kernel_initializer=init))\n",
        "\n",
        "    return autoenc\n",
        "\n",
        "autoenc = get_model()\n",
        "print('Zusammenfassung des erstellten Modells: \\n')\n",
        "print(autoenc.summary())"
      ]
    },
    {
      "cell_type": "markdown",
      "id": "3acbdbdd",
      "metadata": {
        "id": "3acbdbdd"
      },
      "source": [
        "#### Lösung\n",
        "Indem Sie die nächste Zeile ausführen, können Sie die Lösung der Aufgabe laden."
      ]
    },
    {
      "cell_type": "code",
      "execution_count": null,
      "id": "dc92bf1e",
      "metadata": {
        "id": "dc92bf1e"
      },
      "outputs": [],
      "source": [
        "# %load Loesung/Loesung_8_2.py\n",
        "n_features = len(X_train[0]) # Anzahl Merkmale\n",
        "\n",
        "def get_model():\n",
        "\n",
        "    autoenc = keras.Sequential()\n",
        "    init = keras.initializers.glorot_uniform(seed=1)\n",
        "    # Eingabeschicht und 1. verdeckte Schicht\n",
        "    autoenc.add(keras.layers.Dense(input_dim=n_features, units=10, activation='tanh', kernel_initializer=init))\n",
        "    # Ergänzen Sie die 2. verdeckte Schicht\n",
        "    autoenc.add(keras.layers.Dense(units=5, activation='tanh', kernel_initializer=init))\n",
        "    # Ergänzen Sie die 3. verdeckte Schicht\n",
        "    autoenc.add(keras.layers.Dense(units=10, activation='tanh', kernel_initializer=init))\n",
        "    # output layer\n",
        "    autoenc.add(keras.layers.Dense(units=n_features, activation='linear', kernel_initializer=init))\n",
        "\n",
        "    return autoenc\n",
        "\n",
        "autoenc = get_model()\n",
        "print('Zusammenfassung des erstellten Modells: \\n')\n",
        "print(autoenc.summary())"
      ]
    },
    {
      "cell_type": "markdown",
      "id": "18ba008b",
      "metadata": {
        "id": "18ba008b"
      },
      "source": [
        "#### Aufgabe 8.3\n",
        "Trainieren Sie das erstellte Modell. Experimentieren Sie mit Lernrate, Batch size und der Zahl der Epochen und finden Sie geeignete Werte. Führen Sie nach Abschluss des Trainings die nächste Zeile aus, um den mittleren absoluten Fehler (MAE) in Abhängigkeit von der Epoche zu plotten. 20% der Trainingsdaten werden separiert und für die Validierung nach jeder Epoche verwendet.   "
      ]
    },
    {
      "cell_type": "code",
      "execution_count": null,
      "id": "d25d5ec5",
      "metadata": {
        "id": "d25d5ec5"
      },
      "outputs": [],
      "source": [
        "lr = 0.05\n",
        "num_epochs = 200\n",
        "batch_size = 20\n",
        "\n",
        "autoenc = get_model()\n",
        "autoenc.compile(optimizer=tf.compat.v1.train.AdamOptimizer(learning_rate=lr), loss='mean_squared_error', metrics=['mae'])\n",
        "history = autoenc.fit(X_train, X_train, batch_size=batch_size, epochs=num_epochs, validation_split=0.2, verbose=1)\n",
        "print(len(X_train))"
      ]
    },
    {
      "cell_type": "code",
      "execution_count": null,
      "id": "3304c4a8",
      "metadata": {
        "id": "3304c4a8"
      },
      "outputs": [],
      "source": [
        "plt.plot(history.history['mae'], label='Trainingsdatensatz')\n",
        "plt.plot(history.history['val_mae'], label='Validierungsdatensatz')\n",
        "plt.xlabel('Epoche')\n",
        "plt.ylabel('Mittlerer absoluter Fehler (MAE)')\n",
        "plt.legend()\n",
        "plt.show()"
      ]
    },
    {
      "cell_type": "markdown",
      "id": "d844748e",
      "metadata": {
        "id": "d844748e"
      },
      "source": [
        "#### Tipp\n",
        "Sie können einen Tipp zur Lösung der Aufgabe erhalten, indem Sie die nächste Zeile ausführen."
      ]
    },
    {
      "cell_type": "code",
      "execution_count": null,
      "id": "4571733f",
      "metadata": {
        "id": "4571733f"
      },
      "outputs": [],
      "source": [
        "%run Tipps/Tipp_8_3.py"
      ]
    },
    {
      "cell_type": "markdown",
      "id": "d8b17219",
      "metadata": {
        "id": "d8b17219"
      },
      "source": [
        "#### Lösung\n",
        "Indem Sie die nächste Zeile ausführen, können Sie eine Lösung der Aufgabe laden."
      ]
    },
    {
      "cell_type": "code",
      "execution_count": null,
      "id": "423e7d0a",
      "metadata": {
        "id": "423e7d0a"
      },
      "outputs": [],
      "source": [
        "%run Loesung/Loesung_8_3.py"
      ]
    },
    {
      "cell_type": "markdown",
      "id": "7c9c0aab",
      "metadata": {
        "id": "7c9c0aab"
      },
      "source": [
        "#### Aufgabe 8.4\n",
        "Schauen Sie sich die Verteilung der mittleren absoluten Fehler (MAE) für den Trainingsdatensatz an. Dieser Datensatz beinhaltet nur Messungen von den ersten beiden Tagen. Es kann davon ausgegangen werden, dass zu diesem Zeitpunkt alle Kugellager in Ordnung waren und diese Messungen daher den Zustand i.O. repräsentieren.\n",
        "\n",
        "Für Messungen die einen n.i.O. Zustand repräsentieren, wird erwartet, dass der resultierende Fehler (MAE) zwischen Input und Output des mit i.O. Daten trainierten Autoencoders größer ist als für i.O. Zustände. Legen Sie einen Schwellwert für den mittleren absoluten Fehler fest, ab dem eine Messung als n.i.O. bzw. als Annomalie gewertet wird.        "
      ]
    },
    {
      "cell_type": "code",
      "execution_count": null,
      "id": "0cc624e4",
      "metadata": {
        "id": "0cc624e4"
      },
      "outputs": [],
      "source": [
        "pred = autoenc.predict(X_train)\n",
        "error = mae(X_train, pred)\n",
        "\n",
        "plt.hist(error,bins=10)\n",
        "plt.title('Fehler für Trainingsdaten (alle Kugellager i.O.)')\n",
        "plt.xlabel('MAE')\n",
        "plt.ylabel('#')\n",
        "\n",
        "# Legen Sie den Schwellwert fest ab dem eine Messung als Annomalie eingestuft wird\n",
        "thres_AE = np.percentile(error,50) # zu ändern\n",
        "plt.vlines(thres_AE,0,50,color='red')\n",
        "plt.show()\n",
        "\n"
      ]
    },
    {
      "cell_type": "markdown",
      "id": "961821a9",
      "metadata": {
        "id": "961821a9"
      },
      "source": [
        "#### Lösung\n",
        "Indem Sie die nächste Zeile ausführen, können Sie eine Lösung der Aufgabe laden."
      ]
    },
    {
      "cell_type": "code",
      "execution_count": null,
      "id": "c22efb70",
      "metadata": {
        "id": "c22efb70"
      },
      "outputs": [],
      "source": [
        "# %load Loesung/Loesung_8_4.py\n",
        "pred = autoenc.predict(X_train)\n",
        "error = mae(X_train, pred)\n",
        "\n",
        "plt.hist(error,bins=10)\n",
        "plt.title('Fehler für Trainingsdaten (alle Kugellager i.O.)')\n",
        "plt.xlabel('MAE')\n",
        "plt.ylabel('#')\n",
        "\n",
        "# Eine Möglichkeit den Schwellwert festzulegen ist das 99% Perzentil der Trainingsdaten zu nehmen.\n",
        "thres_AE = np.percentile(error,99)\n",
        "plt.vlines(thres_AE,0,50,color='red')\n",
        "plt.show()"
      ]
    },
    {
      "cell_type": "markdown",
      "id": "f5878ba4",
      "metadata": {
        "id": "f5878ba4"
      },
      "source": [
        "### Schritt 9: Evaluation Anomalieerkennung mit Autoencoder"
      ]
    },
    {
      "cell_type": "markdown",
      "id": "b4723622",
      "metadata": {
        "id": "b4723622"
      },
      "source": [
        "#### Aufgabe 9.1\n",
        "Testen Sie den trainierten Autoencoder auf den Testdaten und evaluieren Sie das Ergebnis. Schauen Sie sich dazu die beiden folgenden Plots an. Eignet sich die Methode, um den Ausfall eines Kugellagers vorherzusagen? Ist der festgelegte Schwellwert für den mittleren absoluten Fehler (MAE) sinnvoll?"
      ]
    },
    {
      "cell_type": "code",
      "execution_count": null,
      "id": "b02939c9",
      "metadata": {
        "id": "b02939c9"
      },
      "outputs": [],
      "source": [
        "pred = autoenc.predict(X_test)\n",
        "error = mae(X_test, pred)\n",
        "annomaly = (error >= thres_AE)\n",
        "\n",
        "fig = plt.figure(figsize=(14,7))\n",
        "\n",
        "ax = fig.add_subplot(2, 1, 1)\n",
        "plt.plot(date[test_idx], error, label='Testdaten')\n",
        "plt.plot(date[test_idx], thres_AE*np.ones(len(error)), label='Schwellwert')\n",
        "plt.legend()\n",
        "#plt.xticks(ticks=[14,15,16,17,18,19],labels=['14. Feb. 2004', '15. Feb. 2004', '16. Feb. 2004', '17. Feb. 2004', '18. Feb. 2004', '19. Feb. 2004'])\n",
        "plt.ylabel('Mittlerer abs. Fehler (MAE)')\n",
        "\n",
        "ax = fig.add_subplot(2, 1, 2)\n",
        "plt.scatter(date[test_idx],annomaly)\n",
        "#plt.xticks(ticks=[14,15,16,17,18,19],labels=['14. Feb. 2004', '15. Feb. 2004', '16. Feb. 2004', '17. Feb. 2004', '18. Feb. 2004', '19. Feb. 2004'])\n",
        "plt.ylabel('Annomalie? 0=Nein, 1=Ja')\n",
        "plt.show()"
      ]
    },
    {
      "cell_type": "markdown",
      "id": "eab6e510",
      "metadata": {
        "id": "eab6e510"
      },
      "source": [
        "#### Lösung\n",
        "Indem Sie die nächste Zeile ausführen, können Sie eine Lösung der Aufgabe laden."
      ]
    },
    {
      "cell_type": "code",
      "execution_count": null,
      "id": "8449d703",
      "metadata": {
        "id": "8449d703"
      },
      "outputs": [],
      "source": [
        "%run Loesung/Loesung_9_1.py"
      ]
    },
    {
      "cell_type": "markdown",
      "id": "479c7fd5",
      "metadata": {
        "id": "479c7fd5"
      },
      "source": [
        "#### Aufgabe 9.2\n",
        "Überlegen Sie sich ein sinnvolles Kriterium wann ein Alarm ausgelöst werden sollte, der auf einen drohenden Ausfall hinweißt.    "
      ]
    },
    {
      "cell_type": "code",
      "execution_count": null,
      "id": "6272c2ef",
      "metadata": {
        "id": "6272c2ef"
      },
      "outputs": [],
      "source": [
        "for i in range(len(time[test_idx])):\n",
        "    # Ergänzen Sie hier ein Kriterium, wann ein Alarm ausgelöst werden soll\n",
        "    if ... :\n",
        "        print('Warnung: Drohender Ausfall!')\n",
        "        print('Zeitpunkt:',date[test_idx][i])\n",
        "        break"
      ]
    },
    {
      "cell_type": "markdown",
      "id": "d777921e",
      "metadata": {
        "id": "d777921e"
      },
      "source": [
        "#### Lösung\n",
        "Indem Sie die nächste Zeile ausführen, können Sie eine Lösung der Aufgabe laden."
      ]
    },
    {
      "cell_type": "code",
      "execution_count": null,
      "id": "eebfca37",
      "metadata": {
        "id": "eebfca37"
      },
      "outputs": [],
      "source": [
        "# %load Loesung/Loesung_9_2.py\n",
        "# Eine Möglichkeit ist einen Alarm auszulösen, wenn alle Messungen innerhalb\n",
        "# einer Stunden (sechs aufeinander folgende Messungen) als Annomalie eingestuft werden\n",
        "\n",
        "for i in range(5,len(time[test_idx])):\n",
        "    # Ergänzen Sie hier ein Kriterium, wann ein Alarm ausgelöst werden soll\n",
        "    if (annomaly[i-5:i].all()==True):\n",
        "        print('Zeitpunkt:',date[test_idx][i])\n",
        "        print('Warnung: Drohender Ausfall!')\n",
        "        break"
      ]
    },
    {
      "cell_type": "markdown",
      "id": "df549cbc",
      "metadata": {
        "id": "df549cbc"
      },
      "source": [
        "### Schritt 10: Abschließende Beurteilung"
      ]
    },
    {
      "cell_type": "markdown",
      "id": "7d2a2731",
      "metadata": {
        "id": "7d2a2731"
      },
      "source": [
        "#### Aufgabe 10.1\n",
        "\n",
        "Vergleichen Sie die Ergebnisse aus Aufgabe 7.1 und 7.2 mit den Ergebnissen aus Aufgabe 9.1 und 9.2. Anhand welcher Kriterien könnte man die Güte der Anomalieerkennungen beurteilen? Welche der beiden Anomalieerkennungen funktioniert besser?"
      ]
    },
    {
      "cell_type": "markdown",
      "id": "ec61cb58",
      "metadata": {
        "id": "ec61cb58"
      },
      "source": [
        "#### Lösung\n",
        "Indem Sie die nächste Zeile ausführen, können Sie eine Lösung der Aufgabe laden."
      ]
    },
    {
      "cell_type": "code",
      "execution_count": null,
      "id": "51d0e6c1",
      "metadata": {
        "id": "51d0e6c1"
      },
      "outputs": [],
      "source": [
        "%run Loesung/Loesung_10_1.py"
      ]
    }
  ],
  "metadata": {
    "kernelspec": {
      "display_name": "Python 3",
      "language": "python",
      "name": "python3"
    },
    "language_info": {
      "codemirror_mode": {
        "name": "ipython",
        "version": 3
      },
      "file_extension": ".py",
      "mimetype": "text/x-python",
      "name": "python",
      "nbconvert_exporter": "python",
      "pygments_lexer": "ipython3",
      "version": "3.8.8"
    },
    "colab": {
      "provenance": []
    }
  },
  "nbformat": 4,
  "nbformat_minor": 5
}